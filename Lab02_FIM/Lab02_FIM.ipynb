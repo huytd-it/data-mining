{
 "cells": [
  {
   "attachments": {},
   "cell_type": "markdown",
   "metadata": {
    "id": "DSYvP0n8RjYH"
   },
   "source": [
    "# Lab02: Frequent itemset mining\n",
    "\n",
    "- Student ID: 21424075  \n",
    "- Student name: Trần Đình Huy\n",
    "\n",
    "**How to do your homework**\n",
    "\n",
    "\n",
    "You will work directly on this notebook; the word `TODO` indicate the parts you need to do.\n",
    "\n",
    "You can discuss ideas with classmates as well as finding information from the internet, book, etc...; but *this homework must be your*.\n",
    "\n",
    "**How to submit your homework**\n",
    "\n",
    "Before submitting, rerun the notebook (`Kernel` ->` Restart & Run All`).\n",
    "\n",
    "Then create a folder named `ID` (for example, if your ID is 1234567, then name the folder `1234567`) Copy file notebook to this folder, compress and submit it on moodle.\n",
    "\n",
    "**Contents:**\n",
    "\n",
    "- Frequent itemset mining."
   ]
  },
  {
   "cell_type": "markdown",
   "metadata": {
    "id": "aXZ5gCVaRjYa"
   },
   "source": [
    "# 1. Preliminaries\n",
    "## This is how it all started ...\n",
    "- Rakesh Agrawal, Tomasz Imielinski, Arun N. Swami: Mining Association Rules between Sets of Items in Large Databases. SIGMOD Conference 1993: 207-216\n",
    "- Rakesh Agrawal, Ramakrishnan Srikant: Fast Algorithms for Mining Association Rules in Large Databases. VLDB 1994: 487-499\n",
    "\n",
    "**These two papers are credited with the birth of Data Mining**\n",
    "## Frequent itemset mining (FIM)\n",
    "\n",
    "Find combinations of items (itemsets) that occur frequently.\n",
    "## Applications\n",
    "- Items = products, transactions = sets of products someone bought in one trip to the store.\n",
    "$\\Rightarrow$ items people frequently buy together.\n",
    "    + Example: if people usually buy bread and coffee together, we run a sale of bread to attract people attention and raise price of coffee.\n",
    "- Items = webpages, transactions = words. Unusual words appearing together in a large number of documents, e.g., “Brad” and “Angelina,” may indicate an interesting relationship.\n",
    "- Transactions = Sentences, Items = Documents containing those sentences. Items that appear together too often could represent plagiarism."
   ]
  },
  {
   "cell_type": "markdown",
   "metadata": {
    "id": "x8vAJ8A2RjYi"
   },
   "source": [
    "## Transactional Database\n",
    "A transactional database $D$ consists of $N$ transactions: $D=\\left\\{T_1,T_2,...,T_N\\right\\}$. A transaction $T_n \\in D (1 \\le n \\le N)$ contains one or more items and that $I= \\left\\{ i_1,i_2,…,i_M \\right\\}$ is the set of distinct items in $D$, $T_n \\subset I$. Commonly, a transactional database is represented by a flat file instead of a database system: items are non-negative integers, each row represents a transaction, items in a transaction separated by space.\n",
    "\n",
    "Example: \n",
    "\n",
    "1 2 3 4 5 6 7 8 9 10 11 12 13 14 15 16 17 18 19 20 21 22 23 24 25 26 27 28 29 \n",
    "\n",
    "30 31 32 \n",
    "\n",
    "33 34 35 \n",
    "\n",
    "36 37 38 39 40 41 42 43 44 45 46 \n",
    "\n",
    "38 39 47 48 \n",
    "\n",
    "38 39 48 49 50 51 52 53 54 55 56 57 58 \n",
    "\n",
    "32 41 59 60 61 62 \n",
    "\n",
    "3 39 48 \n",
    "\n",
    "63 64 65 66 67 68 \n",
    "\n",
    "\n",
    "\n",
    "# Definition\n",
    "\n",
    "- Itemset: A collection of one or more items.\n",
    "    + Example: {1 4 5}\n",
    "- **k-itemset**: An itemset that contains k items.\n",
    "- Support: Frequency of occurrence of an itemset.\n",
    "    + Example: From the example above, item 3 appear in 2 transactions so its support is 2.\n",
    "- Frequent itemset: An itemset whose support is greater than or equal to a `minsup` threshold"
   ]
  },
  {
   "cell_type": "markdown",
   "metadata": {
    "id": "hdykKxr6RjY-"
   },
   "source": [
    "# The Apriori Principle\n",
    "- If an itemset is frequent, then all of its subsets must also be frequent.\n",
    "- If an itemset is not frequent, then all of its supersets cannot be frequent.\n",
    "- The support of an itemset never exceeds the support of its subsets.\n",
    "$$ \\forall{X,Y}: (X \\subseteq Y) \\Rightarrow s(X)\\ge s(Y)$$\n"
   ]
  },
  {
   "cell_type": "markdown",
   "metadata": {
    "id": "NvfMR7-CRjZB"
   },
   "source": [
    "# 2. Implementation\n"
   ]
  },
  {
   "cell_type": "markdown",
   "metadata": {
    "id": "p9gZh4DORjZD"
   },
   "source": [
    "## The Apriori algorithm\n",
    "Suppose:\n",
    "\n",
    "$C_k$ candidate itemsets of size k.\n",
    "\n",
    "$L_k$ frequent itemsets of size k.\n",
    "\n",
    "The level-wise approach of Apriori algorithm can be descibed as follow:\n",
    "1. k=1, $C_k$ = all items.\n",
    "2. While $C_k$ not empty:\n",
    "    3. Scan the database to find which itemsets in $C_k$ are frequent and put them into $L_k$.\n",
    "    4. Use $L_k$ to generate a collection of candidate itemsets $C_{k+1}$ of size k+1.\n",
    "    5. k=k+1."
   ]
  },
  {
   "cell_type": "markdown",
   "metadata": {
    "id": "qF9xHOBLRjZJ"
   },
   "source": [
    "### Import library"
   ]
  },
  {
   "cell_type": "code",
   "execution_count": 980,
   "metadata": {
    "id": "7F0lUOSuRjZN"
   },
   "outputs": [],
   "source": [
    "from collections import defaultdict"
   ]
  },
  {
   "cell_type": "markdown",
   "metadata": {
    "id": "1OogwdcLRjZf"
   },
   "source": [
    "### Read data\n",
    "First we have to read data from database"
   ]
  },
  {
   "cell_type": "code",
   "execution_count": 981,
   "metadata": {
    "id": "U2bsGrTERjZg"
   },
   "outputs": [],
   "source": [
    "\n",
    "def readData(path):\n",
    "    \"\"\"\n",
    "    Parameters\n",
    "    --------------------------\n",
    "        path: path of database D.\n",
    "         \n",
    "    --------------------------\n",
    "    Returns\n",
    "        data: a dictionary for representing database D\n",
    "                 - keys: transaction tids\n",
    "                 - values: itemsets.\n",
    "        s: support of distict items in D.\n",
    "    \"\"\"\n",
    "    data={}\n",
    "    s=defaultdict(lambda: 0) # Initialize a dictionary for storing support of items in I.  \n",
    "    with open(path,'rt') as f:       \n",
    "        tid=1;\n",
    "        for line in f:           \n",
    "            itemset=set(map(int,line.split())) # a python set is a native way for storing an itemset.\n",
    "            for item in itemset:  \n",
    "                s[item]+=1     #Why don't we compute support of items while reading data?\n",
    "            data[tid]= itemset\n",
    "            tid+=1\n",
    "   \n",
    "    return data, s"
   ]
  },
  {
   "cell_type": "markdown",
   "metadata": {
    "id": "oSTC78WURjZu"
   },
   "source": [
    "### Tree Projection"
   ]
  },
  {
   "cell_type": "markdown",
   "metadata": {
    "id": "uGAkmuXtRjZw"
   },
   "source": [
    "**I gave you pseudo code of Apriori algorithm above but we implement Tree Projection. Tell me the differences of two algorithms.**\n",
    "\n",
    "\n",
    "**TODO:**"
   ]
  },
  {
   "cell_type": "code",
   "execution_count": 982,
   "metadata": {
    "id": "BVRT5BnWRjZz"
   },
   "outputs": [],
   "source": [
    "def joinset(a, b):\n",
    "    '''\n",
    "    Parameters\n",
    "    -------------------\n",
    "        2 itemsets a and b (of course they are at same branch in search space)\n",
    "\n",
    "    -------------------\n",
    "    return\n",
    "        ret: itemset generated by joining a and b\n",
    "    '''\n",
    "    # TODO (hint: this function will be called in generateSearchSpace method.):\n",
    "    combined_set = a.union(b)\n",
    "    ret = combined_set\n",
    "    return ret\n",
    "\n",
    "class TP:\n",
    "    def __init__(self, data=None, s=None, minSup=None):\n",
    "        self.data = data\n",
    "        self.s = {}\n",
    "\n",
    "        for key, support in sorted(s.items(), key=lambda item: item[1]):\n",
    "            self.s[key] = support\n",
    "        # TODO: why should we do this, answer it at the markdown below?\n",
    "    \n",
    "        self.minSup = minSup\n",
    "        self.L = {}  # Store frequent itemsets mined from database\n",
    "        self.runAlgorithm()\n",
    "\n",
    "    def initialize(self):\n",
    "        \"\"\"\n",
    "        Initialize search space at first step\n",
    "        --------------------------------------\n",
    "        We represent our search space in a tree structure\n",
    "        \"\"\"\n",
    "        tree = {}\n",
    "\n",
    "        search_space = {}\n",
    "        for item, support in self.s.items():\n",
    "            search_space[item] = {}\n",
    "\n",
    "            search_space[item]['itemset'] = [item]\n",
    "            ''' \n",
    "            python set does not remain elements order\n",
    "            so we use a list to extend it easily when create new itemset \n",
    "            but why we store itemset in data by a python set???? '''\n",
    "            # TODO: study about python set and its advantages,\n",
    "            # answer at the markdown below.\n",
    " \n",
    "            search_space[item]['pruned'] = False\n",
    "            # TODO:\n",
    "            # After finish implementing the algorithm tell me why should you use this\n",
    "            # instead of delete item directly from search_space and tree.\n",
    "\n",
    "            search_space[item]['support'] = support\n",
    "            tree[item] = {}\n",
    "            '''\n",
    "            Why should i store an additional tree (here it called tree)? \n",
    "            Answer: This really help in next steps.\n",
    "\n",
    "            Remember that there is always a big gap from theory to practicality\n",
    "            and implementing this algorithm in python is not as simple as you think.\n",
    "            '''\n",
    "\n",
    "        return tree, search_space\n",
    "\n",
    "    def computeItemsetSupport(self, itemset):\n",
    "\n",
    "        '''Return support of itemset'''\n",
    "        # TODO (hint: this is why i use python set in data)\n",
    "        support = 0\n",
    "        itemset = set(itemset)\n",
    "        for tid, transaction in self.data.items():                         \n",
    "            if itemset.issubset(transaction):\n",
    "                support += 1\n",
    "\n",
    "        return support \n",
    "\n",
    "    def get_sub_tree(self, k, tree, search_space, itter_node):\n",
    "        if k == 0:\n",
    "            return search_space[itter_node]['support']\n",
    "        subtree = search_space[itter_node]\n",
    "        for node in subtree.keys():\n",
    "            k-=1\n",
    "            self.get_sub_tree(k,tree,search_space,node)\n",
    "\n",
    "\n",
    "    def prune(self, k, tree, search_space):\n",
    "\n",
    "        '''\n",
    "        In this method we will find out which itemset in current search space is frequent\n",
    "        itemset then add it to L[k]. In addition, we prune those are not frequent itemsets.\n",
    "        '''\n",
    "        if self.L.get(k) is None: self.L[k] = []\n",
    "        # TODO\n",
    "        frequent_itemsets = []\n",
    "        pruned_itemsets = []\n",
    "        for itemset in search_space.keys():\n",
    "            \n",
    "            support = self.computeItemsetSupport(search_space[itemset]['itemset'])\n",
    "     \n",
    "            if support >= self.minSup:\n",
    "                frequent_itemsets.append(itemset)\n",
    "            else:\n",
    "                pruned_itemsets.append(itemset)\n",
    "                search_space[itemset].update({\"pruned\": True})             \n",
    "                \n",
    "\n",
    "        # print(k, frequent_itemsets)\n",
    "        self.L[k] = self.L[k] + frequent_itemsets\n",
    "        # for itemset in pruned_itemsets:\n",
    "        #   del tree[itemset]\n",
    "        #   search_space[itemset]['pruned'] = True\n",
    "          \n",
    "          \n",
    "       \n",
    "     \n",
    "\n",
    "\n",
    "    def generateSearchSpace(self, k, tree, search_space):\n",
    "        '''\n",
    "        Generate search space for exploring k+1 itemset. (Recursive function)\n",
    "        '''\n",
    "        items = list(tree.keys())\n",
    "        ''' print search_space.keys() you will understand  \n",
    "         why we need an additional tree, '''\n",
    "        l = len(items)\n",
    "        \n",
    "        self.prune(k, tree, search_space)  \n",
    "        sub_search_space = {}\n",
    "        sub_tree = {}\n",
    "        # if(k == 3): \n",
    "        print('items: ', items)\n",
    "        if l == 0: return  # Stop condition\n",
    "        for i in range(l - 1):\n",
    "            # sub_search_space = {}\n",
    "            # sub_tree = {}\n",
    "           \n",
    "            a = items[i]\n",
    "                \n",
    "            if search_space[a]['pruned']: continue\n",
    "            # print(\"a\" ,search_space[a])\n",
    "            for j in range(i + 1, l):\n",
    "                b = items[j]              \n",
    "                search_space[a][b] = {}\n",
    "                tree[a][b] = {}\n",
    "                # You really need to understand what am i doing here before doing work below.\n",
    "                # (Hint: draw tree and search space to draft).\n",
    "\n",
    "\n",
    "                # TODO:print\n",
    "                # First create newset using join set\n",
    "                \n",
    "                newset = joinset(set(search_space[a]['itemset']),set(search_space[b]['itemset']))\n",
    "               \n",
    "                # Second add newset to search_space \n",
    "                # if(len(newset) == 4): \n",
    "                #     print('new: ' ,newset)\n",
    "                #     print(newset.issubset(sub_search_space))\n",
    "                   \n",
    "                if(len(newset) == (k + 1 ) and not newset.issubset(sub_search_space)):\n",
    "                    search_space[a][b]['itemset'] = newset\n",
    "                    search_space[a][b]['pruned'] = False\n",
    "                    search_space[a][b]['support'] = 0                       \n",
    "                    sub_search_space[tuple(newset)] = search_space[a][b]\n",
    "                    sub_tree[tuple(newset)] = {}\n",
    "                \n",
    "            # Generate search_space for k+1-itemset \n",
    "            #self.generateSearchSpace(k + 1, sub_tree, sub_search_space)\n",
    "        self.generateSearchSpace(k + 1, sub_tree, sub_search_space)\n",
    "\n",
    "    def runAlgorithm(self):\n",
    "        tree, search_space = self.initialize()  # generate search space for 1-itemset\n",
    "        self.generateSearchSpace(1, tree, search_space)\n",
    "\n",
    "    def miningResults(self):\n",
    "        return self.L"
   ]
  },
  {
   "cell_type": "markdown",
   "metadata": {
    "id": "6tMTpwxLRjZ-"
   },
   "source": [
    "Ok, let's test on a typical dataset `chess`."
   ]
  },
  {
   "cell_type": "code",
   "execution_count": 983,
   "metadata": {
    "id": "gLygYqiYRjZ-"
   },
   "outputs": [],
   "source": [
    "data, s = readData('chess.txt')\n"
   ]
  },
  {
   "cell_type": "code",
   "execution_count": 984,
   "metadata": {
    "colab": {
     "base_uri": "https://localhost:8080/"
    },
    "id": "PnxbU77YRjaF",
    "outputId": "c3b158be-6b46-4a3c-9b71-6a92d3d31ded"
   },
   "outputs": [
    {
     "name": "stdout",
     "output_type": "stream",
     "text": [
      "items:  [59, 53, 30, 41, 61, 37, 8, 63, 35, 57, 67, 49, 33, 6, 10, 26, 4, 32, 43, 65, 45, 47, 18, 75, 73, 22, 55, 28, 39, 12, 16, 71, 69, 20, 51, 24, 14, 2, 1, 13, 23, 50, 19, 68, 70, 15, 11, 38, 27, 54, 21, 72, 74, 17, 31, 46, 44, 64, 42, 3, 25, 9, 5, 48, 56, 66, 34, 62, 7, 36, 60, 40, 29, 52, 58]\n",
      "items:  [(48, 56), (48, 66), (48, 34), (48, 62), (48, 7), (48, 36), (48, 60), (48, 40), (48, 29), (48, 52), (48, 58), (56, 66), (56, 34), (56, 62), (56, 7), (56, 36), (56, 60), (56, 40), (56, 29), (56, 52), (56, 58), (66, 34), (66, 62), (66, 7), (66, 36), (66, 60), (40, 66), (66, 29), (66, 52), (66, 58), (34, 62), (34, 7), (34, 36), (34, 60), (40, 34), (34, 29), (34, 52), (34, 58), (62, 7), (36, 62), (60, 62), (40, 62), (29, 62), (52, 62), (58, 62), (36, 7), (60, 7), (40, 7), (29, 7), (52, 7), (58, 7), (36, 60), (40, 36), (36, 29), (36, 52), (58, 36), (40, 60), (60, 29), (60, 52), (58, 60), (40, 29), (40, 52), (40, 58), (52, 29), (58, 29), (58, 52)]\n",
      "items:  [(48, 58, 52), (48, 56, 52), (48, 66, 52), (48, 34, 52), (48, 52, 62), (48, 52, 7), (48, 52, 36), (48, 52, 60), (48, 40, 52), (48, 52, 29), (48, 58, 56), (48, 58, 66), (48, 58, 34), (48, 58, 62), (48, 58, 7), (48, 58, 36), (48, 58, 60), (48, 58, 40), (48, 58, 29), (56, 52, 29), (56, 58, 29), (56, 66, 29), (56, 34, 29), (56, 29, 62), (56, 29, 7), (56, 36, 29), (56, 60, 29), (56, 40, 29), (56, 58, 52), (56, 66, 52), (56, 34, 52), (56, 52, 62), (56, 52, 7), (56, 52, 36), (56, 52, 60), (56, 40, 52), (56, 58, 66), (56, 58, 34), (56, 58, 62), (56, 58, 7), (56, 58, 36), (56, 58, 60), (56, 58, 40), (40, 66, 60), (66, 60, 29), (66, 60, 52), (66, 60, 58), (66, 60, 34), (66, 60, 62), (66, 60, 7), (66, 60, 36), (66, 52, 29), (66, 58, 29), (66, 34, 29), (66, 29, 62), (66, 29, 7), (66, 36, 29), (40, 66, 29), (66, 52, 58), (66, 52, 34), (66, 52, 62), (66, 52, 7), (66, 52, 36), (66, 52, 60), (40, 66, 52), (66, 58, 34), (66, 58, 62), (66, 58, 7), (66, 58, 36), (66, 58, 60), (40, 66, 58), (66, 58, 52), (40, 34, 29), (40, 34, 52), (40, 34, 58), (40, 34, 62), (40, 34, 7), (40, 34, 36), (40, 34, 60), (34, 52, 29), (34, 58, 29), (34, 29, 62), (34, 29, 7), (34, 36, 29), (34, 60, 29), (34, 52, 58), (34, 52, 62), (34, 52, 7), (34, 52, 36), (34, 52, 60), (34, 58, 62), (34, 58, 7), (34, 58, 36), (34, 58, 60), (34, 58, 52), (40, 60, 62), (60, 29, 62), (60, 62, 52), (58, 60, 62), (60, 62, 7), (60, 62, 36), (40, 29, 62), (40, 52, 62), (40, 58, 62), (40, 62, 7), (40, 36, 62), (52, 29, 62), (58, 29, 62), (29, 62, 7), (36, 29, 62), (58, 52, 62), (52, 62, 7), (52, 62, 36), (52, 62, 60), (58, 62, 7), (58, 36, 62), (40, 60, 7), (60, 29, 7), (60, 52, 7), (58, 60, 7), (60, 36, 7), (40, 29, 7), (40, 52, 7), (40, 58, 7), (40, 36, 7), (52, 29, 7), (58, 29, 7), (36, 29, 7), (58, 52, 7), (52, 36, 7), (52, 60, 7), (58, 36, 7), (40, 36, 60), (36, 29, 60), (36, 60, 52), (58, 36, 60), (40, 36, 29), (40, 36, 52), (40, 58, 36), (36, 29, 52), (58, 36, 29), (58, 36, 52), (36, 52, 60), (40, 60, 29), (40, 60, 52), (40, 58, 60), (60, 29, 52), (58, 60, 29), (58, 60, 52), (40, 52, 29), (40, 58, 29), (40, 58, 52), (58, 52, 29)]\n",
      "items:  [(48, 52, 56, 58), (48, 66, 52, 58), (48, 34, 52, 58), (48, 52, 58, 62), (48, 52, 7, 58), (48, 52, 36, 58), (48, 52, 58, 60), (48, 52, 40, 58), (48, 52, 58, 29), (52, 56, 58, 29), (66, 52, 56, 29), (34, 52, 56, 29), (52, 56, 29, 62), (52, 7, 56, 29), (52, 36, 56, 29), (52, 56, 60, 29), (52, 56, 40, 29), (66, 56, 58, 29), (34, 56, 58, 29), (56, 58, 29, 62), (7, 56, 58, 29), (36, 56, 58, 29), (56, 58, 60, 29), (40, 56, 58, 29), (66, 52, 56, 58), (34, 52, 56, 58), (52, 56, 58, 62), (52, 7, 56, 58), (52, 36, 56, 58), (52, 56, 58, 60), (40, 52, 56, 58), (66, 52, 60, 29), (66, 58, 60, 29), (66, 34, 60, 29), (66, 60, 29, 62), (66, 7, 60, 29), (66, 36, 60, 29), (66, 40, 60, 29), (66, 52, 58, 60), (66, 34, 52, 60), (66, 52, 60, 62), (66, 52, 7, 60), (66, 52, 36, 60), (66, 52, 40, 60), (66, 34, 58, 60), (66, 58, 60, 62), (66, 7, 58, 60), (66, 36, 58, 60), (66, 40, 58, 60), (66, 52, 58, 29), (66, 34, 52, 29), (66, 52, 29, 62), (66, 52, 7, 29), (66, 52, 36, 29), (66, 52, 40, 29), (66, 34, 58, 29), (66, 58, 29, 62), (66, 7, 58, 29), (66, 36, 58, 29), (66, 40, 58, 29), (66, 34, 52, 58), (66, 52, 58, 62), (66, 52, 7, 58), (66, 52, 36, 58), (66, 52, 40, 58), (34, 52, 40, 29), (34, 40, 58, 29), (34, 40, 29, 62), (34, 7, 40, 29), (34, 36, 40, 29), (34, 40, 60, 29), (34, 52, 40, 58), (34, 52, 40, 62), (34, 52, 7, 40), (34, 52, 36, 40), (34, 52, 40, 60), (34, 40, 58, 62), (34, 7, 40, 58), (34, 36, 40, 58), (34, 40, 58, 60), (34, 52, 58, 29), (34, 52, 29, 62), (34, 52, 7, 29), (34, 52, 36, 29), (34, 52, 60, 29), (34, 58, 29, 62), (34, 7, 58, 29), (34, 36, 58, 29), (34, 58, 60, 29), (34, 52, 58, 62), (34, 52, 7, 58), (34, 52, 36, 58), (34, 52, 58, 60), (52, 60, 29, 62), (58, 60, 29, 62), (7, 60, 29, 62), (36, 60, 29, 62), (40, 60, 29, 62), (52, 58, 60, 62), (52, 7, 60, 62), (52, 36, 60, 62), (52, 40, 60, 62), (7, 58, 60, 62), (36, 58, 60, 62), (40, 58, 60, 62), (52, 40, 29, 62), (40, 58, 29, 62), (7, 40, 29, 62), (36, 40, 29, 62), (52, 40, 58, 62), (52, 7, 40, 62), (52, 36, 40, 62), (7, 40, 58, 62), (36, 40, 58, 62), (52, 58, 29, 62), (52, 7, 29, 62), (52, 36, 29, 62), (7, 58, 29, 62), (36, 58, 29, 62), (52, 7, 58, 62), (52, 36, 58, 62), (7, 40, 60, 29), (52, 7, 40, 60), (7, 40, 58, 60), (36, 7, 40, 60), (52, 7, 60, 29), (7, 58, 60, 29), (36, 7, 60, 29), (52, 7, 58, 60), (52, 36, 7, 60), (36, 7, 58, 60), (52, 7, 40, 29), (7, 40, 58, 29), (36, 7, 40, 29), (52, 7, 40, 58), (52, 36, 7, 40), (36, 7, 40, 58), (52, 7, 58, 29), (52, 36, 7, 29), (36, 7, 58, 29), (52, 36, 7, 58), (36, 40, 60, 29), (36, 52, 40, 60), (36, 40, 58, 60), (36, 52, 60, 29), (36, 58, 60, 29), (36, 52, 58, 60), (36, 52, 40, 29), (36, 40, 58, 29), (36, 52, 40, 58), (36, 52, 58, 29), (52, 40, 60, 29), (40, 58, 60, 29), (52, 40, 58, 60), (52, 58, 60, 29), (52, 40, 58, 29)]\n",
      "items:  [(66, 52, 56, 58, 29), (34, 52, 56, 58, 29), (52, 56, 58, 29, 62), (7, 52, 56, 58, 29), (36, 52, 56, 58, 29), (52, 56, 58, 60, 29), (40, 52, 56, 58, 29), (66, 52, 58, 60, 29), (66, 34, 52, 60, 29), (66, 52, 60, 29, 62), (66, 7, 52, 60, 29), (66, 36, 52, 60, 29), (66, 40, 52, 60, 29), (66, 34, 58, 60, 29), (66, 58, 60, 29, 62), (66, 7, 58, 60, 29), (66, 36, 58, 60, 29), (66, 40, 58, 60, 29), (66, 34, 52, 58, 60), (66, 52, 58, 60, 62), (66, 7, 52, 58, 60), (66, 36, 52, 58, 60), (66, 40, 52, 58, 60), (66, 34, 52, 58, 29), (66, 52, 58, 29, 62), (66, 7, 52, 58, 29), (66, 36, 52, 58, 29), (66, 40, 52, 58, 29), (34, 40, 52, 58, 29), (34, 40, 52, 29, 62), (34, 7, 40, 52, 29), (34, 36, 40, 52, 29), (34, 40, 52, 60, 29), (34, 40, 58, 29, 62), (34, 7, 40, 58, 29), (34, 36, 40, 58, 29), (34, 40, 58, 60, 29), (34, 40, 52, 58, 62), (34, 7, 40, 52, 58), (34, 36, 40, 52, 58), (34, 40, 52, 58, 60), (34, 52, 58, 29, 62), (34, 7, 52, 58, 29), (34, 36, 52, 58, 29), (34, 52, 58, 60, 29), (7, 58, 60, 29, 62), (36, 58, 60, 29, 62), (40, 58, 60, 29, 62), (52, 58, 60, 29, 62), (7, 52, 58, 60, 62), (36, 52, 58, 60, 62), (40, 52, 58, 60, 62), (40, 52, 58, 29, 62), (7, 40, 52, 29, 62), (36, 40, 52, 29, 62), (40, 52, 60, 29, 62), (7, 40, 58, 29, 62), (36, 40, 58, 29, 62), (7, 40, 52, 58, 62), (36, 40, 52, 58, 62), (7, 52, 58, 29, 62), (36, 52, 58, 29, 62), (36, 7, 40, 58, 60), (7, 40, 58, 60, 29), (7, 40, 52, 58, 60), (7, 52, 58, 60, 29), (36, 7, 52, 60, 29), (7, 40, 52, 60, 29), (36, 7, 58, 60, 29), (36, 7, 52, 58, 60), (7, 40, 52, 58, 29), (36, 7, 40, 52, 29), (36, 7, 40, 58, 29), (36, 7, 40, 52, 58), (36, 7, 52, 58, 29), (36, 40, 52, 60, 29), (36, 40, 58, 60, 29), (36, 40, 52, 58, 60), (36, 52, 58, 60, 29), (36, 40, 52, 58, 29), (40, 52, 58, 60, 29)]\n",
      "items:  [(66, 34, 52, 58, 60, 29), (66, 52, 58, 60, 29, 62), (66, 7, 52, 58, 60, 29), (66, 36, 52, 58, 60, 29), (66, 40, 52, 58, 60, 29), (34, 40, 52, 58, 29, 62), (34, 7, 40, 52, 58, 29), (34, 36, 40, 52, 58, 29), (34, 40, 52, 58, 60, 29), (7, 40, 52, 58, 29, 62), (36, 40, 52, 58, 29, 62), (40, 52, 58, 60, 29, 62), (36, 7, 52, 58, 60, 29), (7, 40, 52, 58, 60, 29), (36, 7, 40, 52, 58, 29), (36, 40, 52, 58, 60, 29)]\n",
      "items:  []\n",
      "{1: [48, 56, 66, 34, 62, 7, 36, 60, 40, 29, 52, 58], 2: [(48, 52), (48, 58), (56, 29), (56, 52), (56, 58), (66, 60), (66, 29), (66, 52), (66, 58), (40, 34), (34, 29), (34, 52), (34, 58), (60, 62), (40, 62), (29, 62), (52, 62), (58, 62), (60, 7), (40, 7), (29, 7), (52, 7), (58, 7), (36, 60), (40, 36), (36, 29), (36, 52), (58, 36), (40, 60), (60, 29), (60, 52), (58, 60), (40, 29), (40, 52), (40, 58), (52, 29), (58, 29), (58, 52)], 3: [(48, 58, 52), (56, 52, 29), (56, 58, 29), (56, 58, 52), (66, 60, 29), (66, 60, 52), (66, 60, 58), (66, 52, 29), (66, 58, 29), (66, 52, 58), (66, 52, 60), (66, 58, 60), (66, 58, 52), (40, 34, 29), (40, 34, 52), (40, 34, 58), (34, 52, 29), (34, 58, 29), (34, 52, 58), (34, 58, 52), (60, 29, 62), (60, 62, 52), (58, 60, 62), (40, 29, 62), (40, 52, 62), (40, 58, 62), (52, 29, 62), (58, 29, 62), (58, 52, 62), (52, 62, 60), (40, 60, 7), (60, 29, 7), (60, 52, 7), (58, 60, 7), (40, 29, 7), (40, 52, 7), (40, 58, 7), (52, 29, 7), (58, 29, 7), (58, 52, 7), (52, 60, 7), (40, 36, 60), (36, 29, 60), (36, 60, 52), (58, 36, 60), (40, 36, 29), (40, 36, 52), (40, 58, 36), (36, 29, 52), (58, 36, 29), (58, 36, 52), (36, 52, 60), (40, 60, 29), (40, 60, 52), (40, 58, 60), (60, 29, 52), (58, 60, 29), (58, 60, 52), (40, 52, 29), (40, 58, 29), (40, 58, 52), (58, 52, 29)], 4: [(52, 56, 58, 29), (66, 52, 60, 29), (66, 58, 60, 29), (66, 52, 58, 60), (66, 52, 58, 29), (34, 52, 40, 29), (34, 40, 58, 29), (34, 52, 40, 58), (34, 52, 58, 29), (58, 60, 29, 62), (52, 58, 60, 62), (52, 40, 29, 62), (40, 58, 29, 62), (52, 40, 58, 62), (52, 58, 29, 62), (7, 40, 58, 60), (52, 7, 60, 29), (7, 58, 60, 29), (52, 7, 58, 60), (52, 7, 40, 29), (7, 40, 58, 29), (52, 7, 40, 58), (52, 7, 58, 29), (36, 40, 60, 29), (36, 52, 40, 60), (36, 40, 58, 60), (36, 52, 60, 29), (36, 58, 60, 29), (36, 52, 58, 60), (36, 52, 40, 29), (36, 40, 58, 29), (36, 52, 40, 58), (36, 52, 58, 29), (52, 40, 60, 29), (40, 58, 60, 29), (52, 40, 58, 60), (52, 58, 60, 29), (52, 40, 58, 29)], 5: [(66, 52, 58, 60, 29), (34, 40, 52, 58, 29), (40, 52, 58, 29, 62), (7, 52, 58, 60, 29), (7, 40, 52, 58, 29), (36, 40, 52, 60, 29), (36, 40, 58, 60, 29), (36, 40, 52, 58, 60), (36, 52, 58, 60, 29), (36, 40, 52, 58, 29), (40, 52, 58, 60, 29)], 6: [(36, 40, 52, 58, 60, 29)], 7: []}\n"
     ]
    }
   ],
   "source": [
    "#\n",
    "a=TP(data=data,s=s, minSup=3000)\n",
    "\n",
    "print(a.miningResults())"
   ]
  },
  {
   "attachments": {},
   "cell_type": "markdown",
   "metadata": {
    "id": "Mp0RFbw-RjaU"
   },
   "source": [
    "### Answer questions here:\n",
    "**Why don't we compute support of items while reading data?**\n",
    "\n",
    "Trong quá trình đọc dữ liệu, chúng ta tính toán hỗ trợ của các mục riêng biệt trong từ điển `s`. Đối với mỗi mục trong mỗi itemset, chúng ta tăng giá trị hỗ trợ của mục đó trong từ điển `s`.\n",
    "\n",
    " Mục đích của việc tính toán hỗ trợ ở đây là thu thập thông tin về tần suất xuất hiện của các mục trong cơ sở dữ liệu.\n",
    "\n",
    "**why should we do sort**\n",
    "\n",
    "Việc sắp xếp và lưu trữ từ điển `s` theo `support` giúp đảm bảo rằng các mục sẽ được xử lý theo thứ tự tăng dần của `support`. \n",
    "\n",
    "Điều này quan trọng vì trong quá trình thực thi thuật toán, việc xử lý các mục theo thứ tự `support` giúp tăng hiệu suất và tính nhất quán của thuật toán.\n",
    "\n",
    " Kết quả là các itemset thường xuyên sẽ được khai thác và lưu trữ theo thứ tự hỗ trợ tăng dần trong thuộc tính self.s.\n",
    "\n",
    "**study about python set and its advantages ?**\n",
    "\n",
    "`Python set` có một số ưu điểm:\n",
    "\n",
    "1. Cấu trúc dữ liệu set trong Python giữ được tính duy nhất (unique) của các phần tử. Điều này giúp loại bỏ các phần tử trùng lặp trong itemset, vì các phần tử trong itemset thường không có tính chất thứ tự quan trọng.\n",
    "\n",
    "2. Set trong Python cung cấp các phương thức và toán tử để thực hiện các phép toán tập hợp như giao, hợp, phần tử không thuộc, kiểm tra sự thuộc, và nhiều hơn nữa. Điều này giúp cho việc xử lý itemset dễ dàng và hiệu quả.\n",
    "\n",
    "**After finish implementing the algorithm tell me why should you use this? Instead of delete item directly from search_space and tree.**\n",
    "\n",
    "Lý do sử dụng cờ 'pruned' trong search_space thay vì xóa mục trực tiếp khỏi search_space và tree là để duy trì cấu trúc và tính toàn vẹn của không gian tìm kiếm và cây trong suốt quá trình thực thi thuật toán.\n",
    "\n",
    "1. Tính linh hoạt: Cờ `pruned` cho phép chúng ta dễ dàng hoàn tác hoặc sửa đổi quyết định cắt tỉa nếu cần thiết. Thay vì xóa các mục một cách vĩnh viễn, chúng ta có thể đánh dấu chúng là đã bị cắt tỉa và sau này xem xét lại nếu cần thiết.Tính linh hoạt này là quan trọng khi triển khai các thuật toán phức tạp, nơi các điều kiện và tiêu chí khác nhau có thể ảnh hưởng đến quá trình cắt tỉa.\n",
    "\n",
    "2. Tính nhất quán dữ liệu: Không gian tìm kiếm và cây là các thành phần quan trọng của thuật toán, được sử dụng để tạo ra và khám phá các itemset. Bằng cách sử dụng cờ 'pruned', chúng ta có thể giữ cấu trúc gốc nguyên vẹn và đảm bảo rằng các hoạt động và vòng lặp tiếp theo diễn ra đúng. Nếu chúng ta xóa mục trực tiếp, có thể dẫn đến sự không nhất quán hoặc lỗi khi duyệt hoặc truy cập không gian tìm kiếm và cây.\n",
    "\n",
    "\n",
    "**Apriori algorithm and Tree Projection, tell me the differences of two algorithms.**\n",
    "\n",
    "- Giải thuật Apriori: Giải thuật Apriori là một phương pháp lặp lại sử dụng việc tạo và loại bỏ ứng viên để tìm tập hợp phổ biến. Nó tạo ra các tập hợp ứng viên có độ dài k dựa trên tập hợp phổ biến có độ dài k-1 và loại bỏ các ứng viên không đáp ứng ngưỡng hỗ trợ tối thiểu.\n",
    "\n",
    "- Giải thuật Tree Projection: Giải thuật Tree Projection, còn được gọi là FP-growth (Frequent Pattern growth), là một phương pháp chia để trị xây dựng một cấu trúc dữ liệu gọn gọi là FP-tree. Nó xây dựng FP-tree theo cách đệ quy bằng cách chiếu và gộp các tập hợp phổ biến từ tập dữ liệu. Các tập hợp phổ biến có thể được đọc trực tiếp từ FP-tree, loại bỏ nhu cầu tạo và loại bỏ ứng viên.\n",
    "\n"
   ]
  },
  {
   "cell_type": "markdown",
   "metadata": {
    "id": "NnVm8wYIRjaV"
   },
   "source": [
    "# 3. Churn analysis\n",
    "\n",
    "In this section, you will use frequent itemset mining technique to analyze `churn` dataset (for any purposes). \n",
    "\n",
    "*Remember this dataset is not represented as a transactional database, first thing that you have to do is transforming it into a flat file.  "
   ]
  },
  {
   "cell_type": "code",
   "execution_count": 985,
   "metadata": {},
   "outputs": [
    {
     "name": "stdout",
     "output_type": "stream",
     "text": [
      "items:  ['382-4657', '371-7191', '358-1921', '375-9999', '330-6626', '391-8027', '355-9993', '329-9001', '335-4719', '330-8173', '329-6603', '344-9403', '363-1107', '394-8006', '366-9238', '351-7269', '350-8884', '386-2923', '356-2992', '373-2782', '396-5800', '393-7984', '358-1958', '350-2565', '343-4696', '331-3698', '357-3817', '418-6412', '353-2630', '410-7789', '416-8428', '370-3359', '383-1121', '360-1596', '395-2854', '362-1407', '341-9764', '353-3305', '402-1381', '332-9891', '372-9976', '383-6029', '353-7289', '390-7274', '352-1237', '353-3061', '363-5450', '364-1995', '398-1294', '405-7146', '413-4957', '420-5645', '349-4396', '404-3211', '353-3759', '363-5947', '340-5121', '370-7574', '403-9733', '355-7251', '359-5893', '405-3371', '344-5117', '332-8160', '359-4081', '352-8305', '329-9847', '365-9011', '338-9472', '374-8042', '359-1231', '413-7170', '415-2935', '399-4246', '362-5889', '350-8921', '374-5353', '360-1171', '355-8887', '333-1967', '354-4577', '331-7425', '419-2637', '411-1530', '395-3026', '388-6441', '402-1251', '412-9997', '346-7302', '358-9095', '400-9770', '334-1275', '340-4953', '400-9510', '387-6103', '366-4467', '370-3450', '327-3954', '355-6291', '362-9748', '379-6506', '347-7741', '354-3783', '401-7594', '397-4976', '334-2577', '400-3637', '383-4361', '371-4306', '403-4298', '409-3786', '337-4697', '383-1509', '359-9794', '407-7035', '363-1069', '391-4652', '355-6837', '409-1244', '328-3266', '352-7072', '370-7550', '369-5526', '329-4391', '408-4195', '354-4445', '335-4858', '414-8718', '409-5939', '331-4902', '353-6870', '355-2909', '390-6101', '400-3446', '411-5859', '387-2919', '374-8525', '379-5592', '345-8237', '422-6690', '346-2359', '374-3534', '381-4756', '390-2805', '390-2390', '419-9097', '386-7281', '380-3561', '390-8760', '366-6730', '395-5285', '354-3436', '336-7600', '383-6293', '362-4596', '401-3926', '370-9116', '328-6289', '350-9994', '351-4616', '360-5779', '417-4885', '406-4710', '409-8743', '335-4584', '361-9845', '366-5699', '329-9364', '390-7434', '404-9680', '338-9398', '394-2445', '381-2709', '397-5060', '415-2393', '377-1765', '409-2111', '401-3170', '405-5681', '411-4582', '355-5009', '372-3750', '405-2888', '361-3337', '350-1639', '333-3221', '422-1471', '399-7865', '373-4819', '338-6981', '418-4365', '359-5461', '375-3586', '407-8376', '408-6496', '385-7688', '332-6934', 208, '378-3625', '353-7292', '399-6786', '358-3261', '377-9932', '397-4030', '367-1062', '341-8467', '339-9453', '344-3388', '375-8013', '408-4142', '386-3671', '411-2284', '346-7795', '333-5609', '405-1842', '366-6345', '337-9345', '328-6770', '380-7321', '375-1476', '356-1567', '422-6685', '336-1090', '343-2095', '345-3934', '338-8050', '388-9568', '402-6591', '403-6419', '386-9790', '378-5692', '360-3324', '410-3719', '352-4221', '327-6179', '359-6196', '374-9107', '357-4078', '366-5780', 215, '393-9619', '355-9295', '400-5751', '338-1027', '405-8867', '336-5616', '335-1697', '331-5138', '385-8240', '348-1359', '354-7339', '349-1687', '380-2558', '365-2153', '345-6043', '349-2808', '411-1715', '385-2488', '377-7177', '342-1099', '386-4170', '413-1269', '396-4460', '334-2730', '340-3182', '377-8608', '417-3676', '417-6774', '411-9554', '420-3192', '389-1475', '343-7734', '410-3390', '344-6495', '331-6229', '337-7501', '339-9631', '369-4384', '416-3915', '339-3049', '361-7998', '355-4842', '387-6440', '369-2625', '389-7073', '370-8463', '362-7318', '412-1194', '355-9508', '352-8202', '335-5882', '352-6976', 199, '393-6733', '335-1838', '355-6930', '387-5860', '343-2605', '350-6759', '371-1514', '346-9317', '398-4313', '412-4399', '330-1835', '416-1676', '329-7347', '360-6868', '405-6641', '393-2373', '419-1714', '336-3819', '341-3464', '413-5310', '366-7912', '399-8845', '368-2583', '360-6309', '359-5890', '332-2462', '381-9196', '329-3222', '363-5819', '413-9269', '330-7483', '403-7775', '360-2479', '394-3791', '384-2632', '359-8466', '331-8909', '359-5160', '330-9833', '362-2314', '338-8478', '387-5453', '380-3437', '365-8779', '407-2750', '396-8265', '397-4304', '333-2611', '409-8814', '336-5406', '343-6940', '361-9923', '350-6639', '376-4300', '349-6567', '333-7749', '408-6089', '375-2165', '400-6999', '420-7823', '366-5241', '413-3412', '406-2752', '337-8078', '402-1942', '371-7917', '343-6374', '385-8730', '393-7892', '407-6748', '341-4463', '351-2587', '421-9752', '356-4001', '328-9869', '343-5709', '334-1872', '350-1040', '369-3214', '385-6778', '383-7689', '385-5722', '357-1909', '364-3567', '422-4241', '370-2957', '329-6562', '363-3515', '374-7787', '345-2931', '373-5732', '348-7437', '332-9460', '355-6531', '336-9390', '346-8581', '363-8824', '353-3351', '360-4320', '417-6252', '393-4949', '401-3156', '338-6283', '352-9017', '405-5305', '376-9249', '339-7139', '328-6011', '378-1303', '402-5155', '333-5430', '365-9696', '410-4023', '411-7649', '338-4065', '421-9401', '343-9658', '332-5521', '349-4369', '351-4288', '422-5874', '396-2324', '416-5662', '363-9663', '410-9477', '352-4418', '361-6563', '417-4404', '372-8048', '356-3646', '351-9604', '355-9581', '396-5189', '356-9187', '394-5537', '408-2712', '404-4486', '355-1113', '411-4674', '376-4519', '365-5979', '382-2879', '420-1383', '411-7390', '383-8848', '387-9301', '399-3164', '385-8997', '352-6573', '408-3384', '419-6033', '336-2090', '343-7242', '376-1713', '381-5878', '390-5470', '414-4803', '382-5478', '333-7637', '341-1647', '411-4232', '339-2616', '327-3850', '328-7209', '405-6189', '418-6737', '366-2212', '356-1420', '343-1323', '361-8239', '384-1621', '360-3525', '392-3813', '337-6898', '366-8036', '352-8327', '334-9505', '336-5702', '392-2381', '369-6880', '416-8697', '345-3451', '379-2514', '418-6651', '421-3528', '329-9046', '406-3890', '403-8904', '393-4086', '400-1367', '377-9473', '396-3068', '331-9293', '347-1914', '395-1962', '401-5485', '355-6560', '363-3911', '345-1998', '361-5277', '376-7145', '375-2975', '376-8573', '366-7360', '347-7898', '390-7328', '356-5491', '373-3251', '343-1965', '378-8019', '386-1548', '397-1649', '366-7247', '402-9691', '334-9806', '378-7733', '407-2248', '405-3916', '407-2081', '397-9148', '415-4857', '354-7314', '346-5611', '349-4703', '411-7778', '421-1469', '420-5990', '389-4780', '357-2735', '409-4791', '380-5286', '394-8402', '392-1616', '364-1969', '390-4152', '367-7039', '391-6607', '379-6652', '384-1833', '403-2455', '391-1348', '408-4174', '366-4334', '406-5059', '373-6784', '408-3532', '350-8680', '398-9870', '343-3356', '415-4609', '404-5387', '415-8151', '416-2778', '393-3300', '391-7661', '339-4317', '418-6455', '378-3508', '390-9359', '364-2495', '364-7719', '421-1189', '419-8987', '402-9980', '376-5908', '400-3150', '336-1749', '420-1259', '339-7541', '378-9029', '342-7514', '422-4956', '389-8606', '406-7261', '417-7973', '390-2891', '385-7387', '362-2776', '329-1955', '344-3160', '406-2454', '335-3913', '355-7705', '410-7108', '419-1674', '351-7369', '349-9566', '333-3421', '393-8199', '388-4879', '353-6007', '416-1557', '356-7217', '350-2012', '420-9838', '373-6379', '355-7293', '406-4588', '345-1524', '375-8493', '361-2924', '359-6163', '411-8140', '381-9049', '344-4478', '360-2690', '410-7383', '356-1889', '341-2360', '370-3021', '336-4656', '386-2810', '350-1354', '346-5707', '405-8370', '373-2053', '369-5222', '347-7420', '392-6856', '371-5556', '334-5337', '334-8817', '339-1405', '380-7742', '329-6191', '340-3075', '416-5849', '334-7443', '394-9121', '383-1657', '347-4112', '362-8280', '402-9982', '392-8905', '392-5512', '351-6384', '348-8015', '374-6966', '328-2236', '372-6497', '417-8617', '361-9621', '421-2723', '327-9341', '383-5474', '328-8147', '373-5438', '333-9253', '347-9421', '419-3167', '414-4162', '416-5341', '368-8600', '336-6085', '377-1479', '360-2107', '405-9384', '420-5179', '331-3174', '411-5958', '333-8180', '357-2679', '396-2867', '341-9443', '341-4103', '416-8701', '397-6109', '392-5587', '392-9342', '368-2845', '405-4920', '348-7484', '338-5207', '418-7846', '358-8729', '349-1943', '368-8283', '345-1419', '358-8025', '383-8695', '370-7565', '401-6162', '386-5303', '351-6552', '345-5338', '330-2849', '364-6801', '375-3003', '383-8878', '384-2372', '377-7107', '361-1581', '417-7888', '383-8364', '396-2335', '408-4530', '408-6621', '393-7522', '338-7120', '357-4265', '398-8801', '346-2347', '343-2741', '420-8242', '402-7746', '332-1494', '388-6223', '404-9539', '341-7332', '338-7886', '332-5596', '348-9945', '407-1896', '398-9408', '369-8005', '346-2530', '400-5984', '351-1007', '345-5980', '368-8964', '358-1912', '379-3132', '340-9910', '396-2719', '369-6204', '420-9971', '410-3782', '404-4481', '383-9255', '418-9385', '360-9676', '327-3587', '385-4715', '414-2695', '331-5999', '337-7739', '388-6658', '405-6943', '382-4084', '352-8249', '353-8363', '416-2825', '342-6696', '338-9210', '328-1768', '406-5870', '398-3834', '330-7754', '414-9054', '350-2832', '414-9027', '337-1225', '394-6577', '359-6995', '377-7561', '380-6631', '390-8876', '413-2201', '374-2073', '417-1272', '358-1129', '394-1211', '327-1319', '399-4413', '393-9985', '401-8377', '331-3202', '358-5953', '380-7624', '416-5261', '417-5067', '345-6515', '406-1349', '360-9038', '348-3444', '370-2892', '383-4061', '391-7937', '389-4083', '410-9633', '418-9502', '339-6637', '356-3403', '371-9457', '391-8087', '392-6420', '399-4094', '378-4013', '386-6306', '359-3618', '340-8875', '330-2693', '403-7627', '342-3678', '344-9943', '390-5686', '358-5826', '393-7826', '335-9786', '368-9860', '416-9522', '416-7307', '397-6789', '335-9501', '388-1250', '386-1374', '346-8112', '364-9040', '366-3944', '331-9861', '330-2881', '402-9558', '341-3180', '371-8598', '398-8385', '333-4154', '330-3589', '417-1477', '327-5525', '363-8244', '419-9104', '363-1560', '341-4075', '366-9074', '367-1424', '341-1191', '342-9480', 243, '355-9360', '343-1538', '335-2331', '335-7257', '332-2137', '352-2998', '346-6941', '400-2203', '421-2955', '331-6629', '343-6314', '414-6638', '350-5883', '409-4447', '376-4856', '335-1874', '397-6255', '381-5047', '403-6850', '375-3658', '341-2603', '342-5062', '354-1558', '351-9537', '401-1252', '366-9538', '364-7622', '393-9918', '376-4484', '410-6791', '343-2392', '408-4323', '395-1718', '354-9492', '367-8168', '340-3500', '369-4962', '334-8967', '402-2377', '366-3917', '333-3531', '333-8954', '374-9203', '334-3289', '353-7822', '350-1422', '385-8406', '380-7277', '352-1798', '385-7922', '353-7730', '337-7163', '348-5567', '420-9575', '366-3358', '359-9972', '387-3332', '354-6960', '405-3335', '379-4257', '355-4992', '383-6373', '382-7993', '422-5865', '410-9961', '343-9946', '357-7060', '355-9541', '378-4145', '386-2317', '335-8146', '377-2235', '386-9141', '416-5623', '327-3053', '395-6195', '397-8772', '346-7656', '343-2350', '372-4722', '399-8615', '379-8248', '414-6219', '387-1343', '370-5527', '393-8736', '402-7626', '370-2688', '418-9036', '417-2035', '355-3602', '393-4027', '418-5141', '406-1247', '402-3892', '332-2965', '377-1218', '355-2464', '404-4611', '373-2339', '410-3503', '410-4739', '365-3562', '387-7641', '385-9744', '398-5006', '408-3977', '334-2729', '334-7685', '350-9228', '407-5774', '413-4039', '343-2077', '336-5661', '355-4143', '366-5918', '368-7555', 200, '408-2119', '329-2789', '334-1508', '337-1506', '396-8400', '349-2654', '417-2716', '402-1725', '403-3229', '353-6056', '399-9802', '366-7069', '332-5949', '393-6376', '354-7025', '351-6585', '330-5462', '407-2292', '340-3011', '345-9153', '379-5503', '389-6790', '408-3610', '375-8238', '378-5633', '389-9120', '380-2758', '402-2728', '354-9062', '417-2054', '353-1941', '328-1522', '408-4529', '417-5320', '370-9755', '372-4835', '334-6605', '399-5564', '392-2887', '328-2110', '383-5976', '332-6181', '330-5255', '413-5190', '394-7447', '353-7096', '395-6002', '372-9816', '400-7253', '344-7470', '378-8572', '345-9140', '340-5460', '369-8024', '395-8595', '359-4587', '375-5439', '361-3779', '375-8934', '395-4757', '421-7205', '379-8805', '348-2150', '417-9128', '351-4226', '330-6630', '387-9137', '372-3987', '408-5183', '412-9357', '402-3599', '379-5211', '405-9217', '340-9200', '339-9026', '343-4772', '345-2108', '401-4650', '400-3945', '338-3781', '342-6316', '336-5920', '332-1060', '418-3426', '408-6326', '334-6142', '336-6128', '406-6708', '388-8670', '363-5853', '383-6544', '378-2940', '338-7683', '329-2786', '369-9465', '337-3769', '400-6257', '411-6663', '384-3101', '339-5329', '388-9944', '403-1769', '390-1612', '421-7214', '338-6962', '333-9826', '411-8549', '381-9234', '387-9855', '371-6990', '417-3046', '385-7082', '365-5886', '373-5196', '327-6194', '381-4565', '357-9832', '396-4845', '378-6772', '353-4296', '362-8331', '362-4685', '383-1431', '332-2258', '375-8304', '340-5580', '362-1490', '336-4281', '361-1315', '342-5906', '405-7904', '349-4762', '385-3263', '405-9496', '396-6775', '393-6475', '379-7779', '408-8650', '400-3497', '407-9244', '406-8809', '358-1778', '337-4339', '344-7197', '333-7631', '372-6623', '363-2602', '387-7757', '397-5381', '406-4604', '376-9513', '360-1852', '421-7270', '371-9482', '337-4101', '420-2796', '366-4225', '398-4567', '388-4571', '360-8666', '333-3704', '383-2566', '406-5584', '344-4691', '347-9737', '333-7961', '364-2439', '411-8043', '332-5084', '413-4831', '343-4806', '401-8735', '391-8626', '327-5817', '381-4712', '335-3320', '415-8780', '362-1146', '352-7413', '387-6716', '352-1127', '368-1288', '403-5279', '397-9333', '411-7353', '383-2537', '330-4419', '390-7930', '362-5111', '358-6796', '409-7494', '400-1636', '389-2747', '415-2176', '377-8067', '362-7835', '361-5225', '333-3447', '341-3044', '350-7306', '353-8849', '402-3476', '338-6018', '409-3520', '357-1085', '353-3285', '409-9885', '388-7701', '385-8184', '345-2863', '353-6300', '389-5649', '378-8137', '340-4627', '352-6833', '420-2000', '368-5437', '418-8170', '403-9417', '330-6165', '412-4185', '409-4734', '348-9828', '418-8850', '330-8351', '347-7773', '392-6841', '354-2189', '349-9060', '334-1311', '415-3120', '387-5891', '368-8026', '332-9446', '393-5284', '376-1677', '392-2268', '396-4311', '363-4005', '344-9966', '337-7377', '373-7037', '356-7580', '390-3401', '350-9313', '420-9009', '415-2641', '392-4929', '346-5068', '389-2631', '368-3808', '406-8599', '386-7456', '357-4936', '397-7411', '353-6218', '369-5942', '416-8543', '358-4576', '352-5118', '408-2621', '353-3994', '367-4277', '354-3237', '394-8504', '370-4139', '382-6135', '359-5718', '385-3111', '353-4880', '343-7019', '419-6133', '350-7344', '397-6064', '363-6896', '416-9021', '408-3269', '408-9463', '340-7062', '417-4309', '421-2659', '383-2017', '411-6294', '332-9525', '401-5012', '368-8835', '351-1382', '359-7694', '419-5505', '341-4570', '366-6991', '377-7399', '377-9092', '373-6681', '417-7736', '393-2812', '398-3176', '334-8694', '369-5449', '380-5246', '390-3873', '354-4568', '339-6968', '379-5933', '365-5682', '382-8518', '356-8449', '333-3460', '375-8596', '384-5907', '373-2903', '361-7702', '388-5850', '405-6298', '368-2074', '328-5050', '395-5783', '420-7301', '328-2478', '381-2460', '390-9811', '373-5670', '351-7016', '394-9934', '422-8268', '373-7690', '366-9781', '404-5427', '389-9783', '351-7005', '348-2009', '340-4236', '348-1528', '365-5039', '411-1810', '364-7644', '335-9066', '362-7581', '346-1095', '357-9136', '390-7863', '344-2416', '373-1448', '360-7076', '413-2241', '343-3961', '375-4107', '414-7410', '351-2535', '416-9615', '377-1293', '388-6479', '390-2755', '340-5930', '401-3622', '382-1104', '355-9324', '393-4843', '401-4052', '385-1830', '348-7409', '361-4910', '415-6578', '395-5015', '369-6012', '394-4520', '380-5873', '372-5384', '419-1863', '352-5697', '373-4274', '382-4024', '395-9215', '331-9149', '347-3958', '389-2540', '399-3083', '420-8308', '384-7724', '389-2114', '335-4414', '370-5361', '374-5965', '420-6414', '392-2708', '352-7234', '337-9878', '350-7288', '415-8448', '392-6331', '392-3315', '382-5401', '389-7012', '411-4714', '343-3846', '370-4395', '422-4394', '405-1780', '393-2220', '355-8299', '379-8681', '409-7034', '358-1922', '346-1629', '347-1870', '374-9576', '380-1096', '396-5790', '356-5244', '341-1412', '387-7371', '392-2555', '403-9167', '338-6550', '357-5801', '403-1953', '357-6039', '388-9653', '359-2915', '381-4562', '406-2213', '330-6436', '332-4289', '386-3596', '337-3740', '414-1496', '349-7291', '385-1985', '329-7102', '394-2553', '339-1330', '398-1959', '408-7015', '384-9254', '355-9475', '334-1337', '359-1441', '391-5442', '374-1551', '399-6233', '337-4749', '403-5552', '405-3097', '364-9240', '404-9348', '336-1462', '364-8981', '412-7606', '380-6342', '418-3017', '367-3648', '341-5892', '334-4678', '366-6751', '397-8512', '367-9495', '379-2991', '356-4832', '413-4040', '366-4444', '394-3806', '368-5647', '412-1076', '413-7655', '371-2316', '420-3346', '367-3971', '417-5813', '421-8535', '375-1721', '331-8484', '366-5829', '367-7906', '412-2520', 232, '386-9177', '420-6780', '401-1454', '379-2508', '353-3492', '406-4840', '391-7982', '379-9821', '398-7414', '338-8566', '397-3058', '389-8096', '393-6840', '360-7404', '411-5740', '412-3726', '372-7326', '338-9873', '383-4322', '401-7654', '410-5455', '419-4310', '367-2056', '363-6695', '374-6217', '337-9569', '350-9720', '380-4080', '333-7460', '378-3722', '353-9339', '386-6535', '403-5575', '331-5962', '390-9627', '406-4560', '359-6931', '331-7342', '367-2227', '335-8836', '398-6703', '370-8379', '335-3880', '375-8761', '367-1398', '395-7857', '398-8745', '386-3717', '330-1175', '418-6752', '349-6464', '366-7331', '361-8288', '377-6635', '408-1513', '370-7546', '389-4278', '379-3012', '355-3620', '413-7743', '372-2296', '333-9728', '415-6110', '340-9803', '400-7002', '395-7435', '336-7143', '352-2175', '346-6352', '405-7467', '379-8526', '410-5713', '408-5916', '370-5626', '408-1331', '419-9688', '343-5219', '401-5586', '377-9178', '345-5639', '336-3488', '414-6426', '335-5591', '421-9144', '422-7728', '344-3466', '398-7978', '346-8368', '392-2722', '393-3274', '339-4636', '349-7138', '363-3295', '407-9830', '333-8822', '419-6418', '351-8955', '338-1840', '336-6997', '408-6266', '332-4291', '355-7895', '348-2916', '339-8132', '374-1684', '362-7604', '389-3206', '336-2829', '403-8916', '384-1135', '390-2320', '398-8578', '393-9424', '417-6330', '340-6339', '380-6571', '368-6488', '363-2193', '328-1206', '385-3540', '337-7167', '372-8405', '377-1273', '380-7816', '402-6744', '400-2181', '366-1613', '347-8205', '328-2982', '384-8723', '341-7686', '353-6038', '416-8827', '418-8450', '385-7861', '393-3507', '372-5262', '411-3095', '331-5919', '402-1556', '349-7362', '339-2734', '330-4914', '371-2500', '335-3681', '405-1132', '399-9239', '350-7227', '384-6654', '376-4271', '391-8124', '393-2524', '384-4385', '377-8266', '345-1243', '394-8086', '348-9145', '376-5201', '356-2093', '353-2080', '397-7500', '414-5786', '388-4282', '415-5132', '352-4541', '373-5928', '406-7737', '332-7607', '359-7788', '384-1549', '352-8508', '404-1002', '414-2905', '380-9849', '387-6498', '360-6024', '352-5815', '366-2273', '414-9119', '409-8796', '337-2442', '404-1931', '367-9765', '378-7299', '410-5192', '405-1108', '392-1734', '395-6030', '330-5168', '334-3142', '362-9983', '414-2606', '402-4501', '387-2604', '400-3343', '353-2450', '406-2032', '409-4462', '392-5941', '334-9182', '346-3445', '368-9507', '382-3966', '334-5844', '362-9411', '390-3565', '417-4810', '384-3389', '414-9717', '357-1700', '376-7207', '368-7706', '346-4216', '370-9533', '372-1493', '387-6031', '366-6248', '369-3756', '363-1719', '402-6666', '408-9779', '407-2441', '384-5027', '380-3161', '360-8135', '399-5426', '385-2564', '337-8618', '354-8491', '394-6278', '405-2276', '376-1000', '397-1659', '379-3953', '418-6512', '392-5296', '355-3814', '375-2098', '372-7990', '356-4558', '398-5788', '390-4003', '332-8103', '406-9926', '418-2402', '384-3299', '378-9090', '350-6473', '379-4583', '411-5078', '347-4982', '341-9274', '353-7461', '371-7366', '395-7923', 191, '351-8398', '329-2204', '407-7507', '405-8075', '390-9698', '403-4917', '391-6709', '389-5988', '372-1534', '395-6369', '400-3197', '377-4169', '384-5343', '338-4472', '332-2126', '349-2157', '393-4823', '385-2683', '345-8350', '334-4506', '332-3544', '380-5102', '395-6149', '398-8122', '334-4438', '384-7459', '368-3931', '353-1352', '348-5725', '365-2008', '393-3635', '380-8727', '381-2376', '365-8114', '415-5008', '392-8318', '401-4007', '338-7709', '374-1981', '333-5101', '345-3734', '384-5004', '341-9396', '408-6302', '348-7193', '417-4063', '375-6911', '358-3604', '339-7485', '368-3078', '418-7055', '386-9981', '366-2541', '335-3110', '400-7809', '404-3106', '333-2337', '353-6482', '397-8162', '380-6722', '329-2918', '348-8022', '388-4459', '358-3114', '343-9654', '401-9909', '404-9978', '397-8011', '341-8719', '408-1242', '406-7726', '351-2773', '368-6174', '334-5029', '413-1789', '414-1246', '330-4978', '386-1631', '363-1208', '334-5263', '361-4137', '374-8187', '370-1525', '355-3801', '392-5605', '363-1366', '358-5274', '376-9607', '374-1213', '421-8537', '351-5576', '407-7258', '405-4420', '340-2855', '342-8002', '355-6826', '402-3886', '336-5900', '339-7684', '390-2433', '360-7246', '335-6508', '348-6720', '406-6400', '390-7370', '390-5055', '405-7542', '364-4927', '329-3458', '331-3842', '343-4147', '335-2274', '343-3227', '336-6907', '331-1391', '360-1643', '410-2518', '344-4970', '408-1486', '396-1648', '391-2022', '420-6465', '398-2628', '409-5519', '391-8554', '395-1693', '393-3194', '328-3402', '411-4781', '401-2581', '385-1214', '348-6853', '341-8412', '330-8142', '361-1404', '375-9671', '372-1824', '408-3606', '333-3595', '379-7009', '411-4940', '409-7523', '408-6725', '350-2384', '348-1706', '415-6145', '373-3731', '341-3349', '399-8859', '377-4518', '341-1594', '418-8770', '332-9118', '386-1418', '393-3535', '328-9006', '402-2482', '408-4865', '396-6247', '396-9462', '396-9279', '363-8715', '356-1358', '360-7839', '364-8774', '348-5038', '365-4728', '351-9037', '397-9184', '398-4538', '382-6827', '408-1340', '333-9511', '358-7379', '397-1766', '331-2144', '345-7014', '395-1898', '373-8920', '373-8908', '415-1203', '369-7017', '420-8435', '395-2579', '405-7850', '394-7710', '342-4122', '340-1876', '383-6095', '413-1061', '343-5347', '376-4861', '417-2265', '419-7415', '407-2259', '333-2906', '360-7477', '342-5243', '417-3999', '379-1720', '368-3117', '352-5000', '405-7676', '361-2349', '383-2901', '369-7049', '387-5533', '362-3660', '357-3577', '394-3312', '395-8330', '373-8895', '386-4581', '354-8191', '359-7562', '359-4336', '336-9901', '406-3069', '334-6519', '361-8113', '347-9769', '352-9130', '378-4557', '360-8919', '405-4109', '381-2498', '357-5696', '412-2947', '363-3571', '405-5403', '330-9354', '396-7091', '398-3004', '400-4020', '356-3448', '335-2019', '332-6633', '359-7648', '412-9190', '368-9007', '384-5632', '352-6068', '343-9645', '384-7873', '396-2187', '383-5109', '377-7843', '382-7999', '328-1222', '371-1727', '369-8871', '335-9726', '357-3709', '422-9964', '366-9211', '384-9033', '382-4932', '404-7518', '353-1954', '391-7166', '370-9000', '332-3642', '412-3898', '366-5640', '356-2302', '345-9018', '365-6205', '337-1151', '374-4664', '396-9656', '377-5043', '401-7359', '375-2184', '367-6005', '364-2166', '414-4741', '403-9719', '371-8452', '392-6239', '410-5250', '336-1574', '406-8324', '411-7110', '341-9907', '400-8952', '333-9266', '419-4894', '364-9904', '394-3048', '352-6265', '357-3187', '373-8483', '375-9930', '352-6282', '396-2945', '412-3527', '328-4231', '413-9055', '363-8755', '388-8891', '360-1776', '411-3578', '399-7268', '350-1532', '359-2197', '407-9290', '358-6672', '393-4621', '336-7357', '351-1466', '394-6668', '403-2673', '355-1735', '416-7679', '340-4972', '417-4826', '408-6676', '417-6683', '331-6270', '404-9754', '364-9425', '339-6477', '362-2787', '405-9233', '416-1845', '385-9657', '420-5652', '415-1141', '334-5634', '403-4200', '357-7893', '369-2899', '381-1026', '388-8722', '418-3135', '380-3974', '338-7232', '334-5223', '340-8323', '337-6851', '344-5973', '335-2261', '343-1458', '415-4875', '381-2726', '395-3852', '358-7914', '332-6958', '355-1019', '382-9447', '386-8536', '363-3818', '360-6416', '332-8764', '398-4814', '410-5963', '399-6642', '390-9986', '391-1793', '352-5542', '386-8118', '394-9825', '382-4952', '387-2698', '417-1360', '408-4836', '374-8329', '363-8424', '408-8910', '399-3840', '367-8692', '387-4504', '328-2647', '369-7903', '399-6852', '335-4888', '344-2260', '349-4070', '394-6505', '419-3612', '356-1952', '416-7866', '398-1759', '338-9950', '412-7278', '347-1263', '386-5684', '334-4354', '398-5970', '330-3429', '418-4637', '393-7322', '353-5557', '411-5334', '398-8588', '374-7285', '379-7215', '357-7875', '393-9677', '345-9598', '353-3203', '330-7486', '397-6425', '338-1815', '406-5023', '368-2458', '400-8375', '387-8201', '346-4360', '412-8811', '413-3990', '345-2448', '394-4512', '400-8538', '412-8769', '390-1552', '389-2477', '389-4695', '406-8037', '382-9138', '414-7942', '348-7071', '404-2942', '348-3581', '327-6764', '405-2831', '416-4351', '419-3196', '411-6211', '391-8369', '416-4464', '347-1814', '386-7337', '375-8505', '407-5056', '367-8924', '419-5171', '396-7687', '394-4548', '382-6438', '413-2194', '366-2622', '416-7591', '355-2634', '422-5350', '329-2388', '381-5273', '421-6694', '342-1702', '381-4029', '335-2967', '416-6594', '388-6026', '367-1024', '386-7118', '346-2020', '329-9067', '329-6144', '332-1502', '342-8320', '411-5748', '381-9367', '400-1280', '360-5794', '373-3538', '394-9942', '380-3329', '334-7618', '327-9289', 202, '351-2589', '368-6892', '337-9303', '377-5258', '348-5767', '373-3549', '422-8344', '411-2958', '384-2908', '347-6393', '385-7148', '419-2767', '375-1746', '362-7870', '410-3725', '387-1535', '329-2045', '341-6743', '336-8343', '368-5758', '346-8362', '345-9690', '339-9798', '359-5731', '373-2091', '367-3439', '367-1681', '420-9973', '351-4025', '393-5897', '384-7216', '384-4595', '329-9667', '347-5063', '345-8433', '339-7602', '332-1109', '343-3296', '366-2536', '355-2293', '350-9318', '418-5300', '395-2626', '402-7372', '337-9710', '363-4967', '400-5389', '416-9162', '414-6541', '392-6647', '343-2465', '338-9171', '405-4606', '386-9711', '327-8495', '416-5660', '370-3032', '331-8462', '414-4037', '415-2865', '362-2353', '329-5114', '351-1389', '375-3668', '375-5414', '360-7079', '344-9302', '418-1775', '401-2468', '346-4984', '351-2928', '365-7774', '358-3691', '364-9059', '356-7208', '333-5551', '362-6528', '394-2560', '367-3220', '418-5708', '421-2245', '406-2242', '347-6994', '413-7468', '389-6082', '415-3689', '379-2503', '396-1106', '379-4372', '336-3738', '380-2600', '345-4473', '380-9990', '411-1045', '413-5306', '417-6906', '331-4807', '376-5375', '361-9839', '348-8679', '403-6565', '346-5287', '413-6769', '370-5042', '397-9486', '364-3286', '420-8897', '378-9506', '399-6259', '335-5806', '401-6392', '379-9859', '415-4051', '368-5612', '374-5301', '406-5710', '354-7077', '343-3340', '377-8267', '382-2453', '333-7449', '366-4287', '415-2285', '381-1328', '344-4022', '415-6601', '351-7309', '363-7802', '408-4870', '378-9478', '401-4778', '370-9563', '394-6382', '333-5295', '370-2451', '401-6982', '329-8115', '340-3409', '397-5911', 175, '415-6127', '392-6073', '419-6564', '340-8245', '376-4540', '361-5936', '421-9846', '356-1582', '375-4900', '420-8953', '376-4035', '344-5206', '328-7833', '417-4266', '351-6574', '372-8925', '340-5678', '361-6814', '336-7155', '342-8167', '375-9180', '357-7064', '347-5354', '362-9391', '386-8984', '384-6372', '358-1329', '400-7987', '327-8732', '389-6955', '396-1800', '349-4979', '361-5864', '418-4658', '330-6208', '416-6628', '349-5617', '397-8051', '413-6346', '395-9270', '401-7575', '332-5964', '348-3338', '387-5411', '378-7872', '389-6037', '349-3732', '347-9738', '380-6074', '338-4307', '339-3636', '328-9315', '402-3634', '348-4316', '375-3826', '360-1406', '356-5475', '363-9969', '350-4367', '348-1592', '368-9751', '380-6413', '367-9259', '404-8765', '371-6284', '403-9468', '335-3133', '366-4426', '354-4752', '406-4768', '367-9257', '342-8348', '410-7611', '341-3270', '416-7452', '356-8982', '340-6908', '348-6659', '345-2401', '422-5264', '422-1799', '404-2877', '417-7913', '399-2457', '419-3427', '358-2490', '349-3112', '414-5422', '386-3766', '386-9724', '416-7393', '395-1380', '408-4911', '387-4064', '380-5667', '402-8930', '336-6533', '359-9992', '391-1737', '404-2871', '420-6121', '369-4012', '357-2294', '348-9938', '394-3023', '352-5466', '364-5510', '396-6462', '384-5335', '416-6886', '357-2748', '386-7976', '403-9199', '361-1900', '405-3848', '344-1136', '378-6276', '343-2592', '396-4410', '397-3943', '347-3821', '400-8069', '346-5349', '345-5089', '410-4613', '356-4706', '347-3406', '333-9133', '392-2459', '401-3685', '352-7752', '388-9285', '332-5582', '376-2550', '333-4594', '375-2522', '388-2240', '420-1782', '384-8890', '371-4788', '360-5636', '373-4264', '352-9836', '342-2013', '354-5689', '335-8427', '409-6753', '349-1756', '328-8980', '399-2151', '379-9524', '352-9947', '336-1043', '416-7013', '345-4551', '405-9864', '350-4297', '350-7114', '400-4244', '417-2608', '372-2990', '353-9998', '330-3008', '384-8629', '404-9504', '405-8753', '409-9911', '394-4260', '380-9063', '395-4509', '401-6671', '405-7204', '329-5377', '408-9572', '380-9879', '384-9243', '404-5597', '359-7521', '327-4795', '338-7955', '379-6970', '351-7807', '342-9394', '384-6264', '352-4534', '378-4617', '364-9567', '371-5875', '383-6489', '345-7117', '384-3902', '386-2759', '356-1270', '379-1336', '354-7201', '404-5057', '407-8012', '332-6139', '328-1373', '411-6501', '329-8056', '415-4564', '329-6192', '384-3904', '373-1028', '369-1220', '359-9369', '415-3016', '414-7090', '350-2250', '383-9355', '417-3257', '336-8010', '354-7718', '358-4412', '368-8972', '407-9841', '393-5208', '332-2889', '374-5530', '332-3381', '344-9347', '412-1991', '393-4528', '347-2378', '385-2699', '383-4319', '352-7915', '375-5547', '337-2348', '342-8702', '393-5802', '384-2219', '347-6164', '376-9940', '354-4352', '331-8713', '341-3663', '376-4665', '421-9034', '401-5169', '370-8262', '387-2041', '356-4146', '372-8883', '336-1880', '347-5843', '370-8023', '417-9814', '387-3422', '365-1664', '367-2436', '344-6258', '353-8928', '365-7784', '330-2635', '344-3131', '378-4294', '343-9365', '362-5579', '366-7616', '397-2870', '408-3262', '372-9091', '410-3159', '344-5181', '396-8662', '339-6446', '384-7236', '353-5257', '369-7295', '408-5322', '344-9620', '329-8436', '414-6739', '406-1730', '336-9327', '378-7418', '412-6019', '390-4789', '386-9774', '353-8970', '410-5370', '404-4421', '409-3353', '422-2571', '412-3404', '333-2964', '406-6669', '409-8802', '354-6183', '354-2434', '389-7620', '338-1724', '399-1750', '354-8914', '409-2983', '329-9689', '337-8950', '374-1836', '359-9454', '378-9542', '344-1970', '417-2774', '333-9002', '369-8576', '372-6920', '333-6575', '410-1190', '376-1641', '329-6731', '393-3976', '388-7355', '412-7791', '368-6111', '401-9420', '352-5750', '417-3702', '353-5714', '409-9494', '395-1901', '378-8342', '417-6044', '348-1163', '337-4600', '355-5922', '369-5810', '340-8291', '354-7397', '407-7464', '386-6411', '397-3746', '410-5236', '409-2412', '400-7280', '332-5820', '373-4483', '347-6717', '380-2929', '420-7692', '380-6437', '377-8309', '407-2718', '357-1938', '381-3735', '409-8453', '395-6758', '399-5424', '409-4671', '374-6525', '406-8665', '342-7716', '417-2221', '376-5213', '348-7448', '328-8179', '389-4602', '413-2238', '402-3370', '348-6008', '371-5655', '374-5224', '371-1187', '337-1100', '421-8141', '406-2678', '415-9649', '364-8128', '356-7817', '404-6357', '398-2138', '378-8029', '386-4215', '367-8156', '382-8079', '354-2985', '373-6922', '397-7125', '333-6296', '365-6022', '365-1688', '382-4872', '367-6136', '404-3592', '415-2949', '375-8880', '335-6832', '361-8367', '408-2002', '347-8659', '376-2922', '382-2182', '408-2089', 188, '369-6890', '347-2951', '420-6324', '402-7650', '391-2702', '383-3375', '392-2733', '397-9933', '383-9306', '369-1929', '369-4377', '366-9430', '353-7407', '359-7426', '332-7391', '405-6559', '338-8784', '415-6347', '354-5058', '342-5701', '378-4179', '407-6391', '404-3105', '390-9735', '350-4820', '383-8807', '366-8382', '402-9704', '405-2209', '397-3939', '343-2689', '383-9448', '359-6232', '369-9772', '381-7003', '352-6732', '388-7540', '356-3333', '333-9664', '363-3763', '345-7900', '400-5511', '381-7597', '404-9775', '389-4608', '403-1742', '328-9797', '359-9223', '336-7696', '369-2214', '411-1325', '410-7553', '376-4284', '334-2800', '369-1904', '359-3833', '348-5569', '342-1960', '352-9050', '390-5316', '418-8568', '401-4844', '376-5471', '409-2917', '369-6308', '357-7385', '405-7119', '405-3309', '384-4938', '377-2725', '405-6398', '355-9366', '403-1128', '384-9682', '352-5393', '395-1229', '361-9195', '351-6366', '346-4919', '354-9068', '369-2743', '343-1347', '336-5495', '376-4292', '391-8677', '350-7273', '400-6454', '422-3052', '365-6756', '406-4158', '383-4641', '368-5165', '378-2432', '362-4159', '363-7979', '334-9818', '352-5787', '332-3617', '327-9957', '338-7527', '348-8711', '421-3226', '391-4358', '379-2523', '419-2369', '382-1227', '409-5749', '362-7951', '415-3537', '373-3959', '358-1346', '381-8422', '360-9005', '344-5967', '396-6390', '346-5036', '328-7252', '360-1745', '358-2046', '344-6935', '401-9665', '399-5291', '409-6588', '358-5721', '414-7446', '329-9517', '415-9553', '413-3177', '347-5113', '330-2662', '330-5824', '411-1261', '329-8788', '333-7869', '399-4800', '402-2072', '403-6187', '355-2872', '386-2970', '389-6081', '348-7556', '334-9163', '411-4293', '375-5562', '386-3823', '364-6445', '383-2251', '351-3169', '413-6380', '380-9674', '345-2319', '377-5441', '358-3692', '400-5831', '357-5995', '391-2159', '398-5954', '385-6175', '334-2961', '405-4303', '406-4100', '352-4401', '347-1473', '347-2016', '388-8948', '402-5509', '367-2598', '370-5001', '332-3693', '403-9766', '363-2407', '395-9214', '351-8894', '406-5003', '398-1332', '363-8033', '333-1012', '391-6260', '336-1353', '365-5629', '349-4397', '380-3910', '354-7820', '338-9952', '405-1821', '329-8669', '328-8808', '409-3018', '421-5994', '354-4448', '352-5081', '401-7803', '420-6052', '352-6084', '388-8583', '415-3158', '402-9304', '341-1916', '381-2745', '402-5014', '399-8846', '328-9267', '348-7224', '336-2190', '376-4705', '381-4076', '348-8464', '412-7020', '386-8432', '337-1802', '366-1084', '352-4182', '368-5628', '333-8996', '353-2557', '356-8621', '354-6942', '377-9829', '348-4660', '410-5199', '397-6542', '333-4492', '405-9573', '359-7255', '419-5501', '404-4809', '344-6334', '400-1899', '346-5053', '398-2148', '347-7675', '411-8956', '390-3761', '377-3876', '345-2476', '337-7879', '361-7283', '372-4868', '346-8863', '390-5267', '392-1547', '340-8177', '383-4802', '378-8567', '406-7844', '402-9173', '352-3440', '363-1413', '394-8861', '358-4036', '392-4680', '354-2762', '371-5811', '387-2014', '411-6598', '355-9356', '406-4720', '356-7239', '328-8747', '388-9464', '406-2866', '333-5729', '391-1499', '386-8690', '391-2231', '332-2275', '340-4028', '363-3486', '418-3181', '351-3316', '369-3626', '353-2763', '358-7165', '353-3223', '338-9044', '341-7296', '398-4431', '408-5601', '328-5188', '329-4474', '357-4573', '341-7112', '400-3147', '378-1936', '347-1640', '374-9531', '380-4374', '380-9409', '387-1116', '400-7509', '403-6225', '382-8274', '354-5764', '387-6912', '384-3413', '367-3950', '396-4254', '333-3010', '393-1891', '336-9053', '353-3372', '386-8943', '376-9716', '370-8676', '360-2329', '360-1320', '329-8638', '385-1118', '408-8269', '391-2334', '373-8900', '382-3512', '420-4089', '406-8465', '386-6114', '413-9328', '335-7144', '414-5177', '350-5993', '370-1465', '385-2370', '358-9146', '357-8515', '406-8995', '344-3145', '341-9890', '365-4387', '375-3341', '418-3096', '378-3879', '344-1362', '419-3937', '348-4961', '329-1410', '332-9896', '407-8575', '387-2799', '373-9108', '345-3947', '356-7511', '343-4516', '408-6305', '338-7305', '401-3077', '401-6977', '385-1464', '417-5034', '420-7066', '394-8256', '362-5044', '350-2075', '343-5372', '377-9520', '391-6773', '403-4442', '379-5885', '399-1021', '342-4004', '382-7659', '342-1004', '398-5851', '396-4869', '422-8333', '367-9127', '420-3028', '357-6348', '386-1131', '349-8391', '421-1484', '414-2663', '327-6989', '405-5513', '345-9168', '417-5146', '339-2792', '345-8397', '344-6404', '417-9455', '343-1009', '365-3493', '376-7043', '348-5728', '357-5784', '417-9844', '333-7225', '382-4943', '345-4589', '404-6337', '412-1470', '394-9220', '364-5362', '372-9852', '394-9984', '402-1668', '339-5659', '341-7279', '371-3236', '343-5679', '347-4626', '344-8498', '349-3005', '371-3498', '367-4853', '422-3454', '403-8915', '371-2418', '411-2977', '389-8163', '417-4456', '351-1894', '386-6408', '370-9592', '397-9251', '395-6913', '332-3804', '421-1326', '415-8200', '371-9414', '347-3895', '342-5854', '379-7192', '394-5753', '390-6932', '394-3171', '394-5202', '348-3777', '407-3949', '363-4779', '340-2239', '359-3423', '382-9297', '330-9294', '362-8763', '403-4816', '371-2155', '334-1339', '341-7412', '375-4770', '406-7643', '415-8164', '354-3545', '377-3139', '418-7478', '385-6952', '381-8593', '365-9371', '401-7335', '364-5126', '385-7157', '385-4766', '390-1760', '365-8831', '353-4002', '367-5923', '393-9548', '362-2356', '365-2341', '388-8797', '400-4713', '420-3042', '396-4171', '389-8417', '339-4068', '341-4873', '336-2322', '402-1607', '379-3037', '382-1399', '394-5489', '387-6065', '327-6087', '341-8667', '338-9612', '364-1134', '413-4811', '354-4333', '382-2026', '368-3287', '367-8298', '391-1783', '393-8762', '385-1423', '406-7670', '339-5423', '366-8939', '353-2391', '372-4203', '385-5688', '397-7453', '366-9015', '356-1654', '337-3932', '350-1126', '416-3649', '349-1726', '405-1589', '366-7560', '333-9643', '355-6422', '329-5400', '383-6356', '377-7276', '337-1586', '336-9273', '415-5476', '332-2650', '418-8257', '407-3121', '381-2413', '378-1144', '359-5091', '378-6986', '386-6580', '419-9713', '382-6153', '332-1690', '348-9383', '420-3857', '405-2653', '417-9278', '352-5663', '370-8786', '415-6333', '391-6558', '396-4234', '345-6961', '346-5992', '402-3908', '350-2340', '410-2015', '380-3311', '399-7029', '337-3868', '354-8088', '416-9723', '337-4403', '416-1536', '386-3796', '340-4989', '340-6221', '363-3469', '345-3787', '362-3107', '345-1994', '377-5417', '369-8574', '344-6847', '391-7528', '393-6053', '392-6286', '365-9079', '399-3089', 221, '365-2192', '394-3051', '357-2429', '421-6268', '401-5915', '348-6057', '349-3843', '396-5561', '370-9622', '371-9602', '351-2815', '369-8703', '355-2840', '372-1115', '337-2986', '404-3238', '397-4968', '327-1058', '419-9509', '349-7282', '382-5743', '358-2694', '378-1884', '330-1627', '392-5716', '384-6132', '359-2740', '338-6714', '347-9968', '343-3399', '334-6129', '377-4975', '405-3533', '337-9326', '338-6556', '354-3040', '396-1278', '354-6810', '403-6237', '411-6823', '338-1400', '412-6245', '377-3417', '343-2597', '388-8282', '416-8394', '343-6643', '330-4364', '414-1537', '408-1913', '406-5532', '417-7722', '367-5226', '344-5766', '405-1370', '368-9073', '373-7974', '371-4633', '336-4960', '405-5083', '392-1105', '378-2397', '331-4184', '376-2408', '345-3614', '370-9296', '402-5076', '401-7334', '409-3428', '362-2067', '352-2270', '404-5840', '360-3126', '364-8731', '388-4331', '335-7324', '362-8886', '410-4882', '371-1139', '391-5516', '380-3186', '347-9995', '340-9013', '362-8378', '418-8969', '417-1488', '358-9898', '373-7308', '330-7137', '406-8445', '404-5283', '398-3632', '399-5763', '340-9449', '363-1123', '361-2170', '406-6304', '392-5090', '373-7713', '392-1376', '390-6388', '379-7290', '397-9928', '378-6924', '411-5677', '400-2738', '409-1856', '362-5899', '377-1164', '368-8555', '347-6812', '348-3830', '414-4276', '370-3271', '328-8230', '364-6381', '400-4344', 196, 224, 186, 205, 217, 210, 212, 195, 225, 204, 209, 194, 178, 192, 197, 201, 193, 184, 168, 173, 181, 180, 183, 185, 179, 170, 164, 167, 176, 171, 189, 182, 190, 169, 174, 154, 156, 172, 165, 177, 158, 150, 162, 159, 153, 151, 152, 157, 163, 145, 166, 160, 142, 144, 140, 143, 155, 133, 147, 161, 135, 146, 59, 139, 149, 126, 134, 128, 141, 77, 30, 114, 79, 102, 118, 76, 83, 109, 53, 137, 136, 81, 138, 82, 131, 96, 148, 89, 129, 84, 132, 125, 104, 91, 124, 111, 97, 110, 85, 130, 108, 121, 78, 115, 117, 98, 119, 113, 94, 80, 103, 92, 106, 122, 88, 120, 127, 123, 107, 99, 112, 116, 100, 95, 86, 90, 41, 93, 101, 87, 105, 61, 37, 8, 63, 35, 49, 57, 67, 33, 6, 10, 26, 32, 43, 4, 65, 45, 47, 0, 18, 75, 73, 22, 28, 55, 39, 12, 16, 71, 20, 69, 51, 'yes', 24, 14, 13, 23, 19, 50, 68, 15, 70, 11, 38, 27, 21, 54, 2, 72, 74, 17, 31, 46, 44, 64, 42, 1, 25, 9, 48, 5, 56, 66, 34, 62, 7, 36, 60, 40, 29, 52, 58, 3, 'no']\n",
      "items:  []\n",
      "{1: ['no'], 2: []}\n"
     ]
    }
   ],
   "source": [
    "import pandas as pd\n",
    "\n",
    "df = pd.read_csv('churn.txt')\n",
    "columns = [\"Account Length\",\"Int'l Plan\", 'VMail Plan', 'CustServ Calls', 'Phone']\n",
    "rows = df[columns].values.tolist()\n",
    "tid=1;\n",
    "data = {}\n",
    "for line in rows:                    \n",
    "  itemset= line # a python set is a native way for storing an itemset.\n",
    "  for item in itemset:  \n",
    "      s[item]+=1     #Why don't we compute support of items while reading data?\n",
    "  data[tid]= itemset\n",
    "  tid+=1   \n",
    "\n",
    "a=TP(data=data,s=s, minSup=3000)\n",
    "\n",
    "print(a.miningResults())"
   ]
  }
 ],
 "metadata": {
  "colab": {
   "collapsed_sections": [],
   "name": "Copy of Lab01 - Frequent itemset mining.ipynb",
   "provenance": [],
   "toc_visible": true
  },
  "kernelspec": {
   "display_name": "Python 3 (ipykernel)",
   "language": "python",
   "name": "python3"
  },
  "language_info": {
   "codemirror_mode": {
    "name": "ipython",
    "version": 3
   },
   "file_extension": ".py",
   "mimetype": "text/x-python",
   "name": "python",
   "nbconvert_exporter": "python",
   "pygments_lexer": "ipython3",
   "version": "3.11.4"
  }
 },
 "nbformat": 4,
 "nbformat_minor": 1
}
