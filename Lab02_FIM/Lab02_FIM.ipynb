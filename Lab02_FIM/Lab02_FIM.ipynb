{
 "cells": [
  {
   "attachments": {},
   "cell_type": "markdown",
   "metadata": {
    "id": "DSYvP0n8RjYH"
   },
   "source": [
    "# Lab02: Frequent itemset mining\n",
    "\n",
    "- Student ID: 21424075  \n",
    "- Student name: Trần Đình Huy\n",
    "\n",
    "**How to do your homework**\n",
    "\n",
    "\n",
    "You will work directly on this notebook; the word `TODO` indicate the parts you need to do.\n",
    "\n",
    "You can discuss ideas with classmates as well as finding information from the internet, book, etc...; but *this homework must be your*.\n",
    "\n",
    "**How to submit your homework**\n",
    "\n",
    "Before submitting, rerun the notebook (`Kernel` ->` Restart & Run All`).\n",
    "\n",
    "Then create a folder named `ID` (for example, if your ID is 1234567, then name the folder `1234567`) Copy file notebook to this folder, compress and submit it on moodle.\n",
    "\n",
    "**Contents:**\n",
    "\n",
    "- Frequent itemset mining."
   ]
  },
  {
   "cell_type": "markdown",
   "metadata": {
    "id": "aXZ5gCVaRjYa"
   },
   "source": [
    "# 1. Preliminaries\n",
    "## This is how it all started ...\n",
    "- Rakesh Agrawal, Tomasz Imielinski, Arun N. Swami: Mining Association Rules between Sets of Items in Large Databases. SIGMOD Conference 1993: 207-216\n",
    "- Rakesh Agrawal, Ramakrishnan Srikant: Fast Algorithms for Mining Association Rules in Large Databases. VLDB 1994: 487-499\n",
    "\n",
    "**These two papers are credited with the birth of Data Mining**\n",
    "## Frequent itemset mining (FIM)\n",
    "\n",
    "Find combinations of items (itemsets) that occur frequently.\n",
    "## Applications\n",
    "- Items = products, transactions = sets of products someone bought in one trip to the store.\n",
    "$\\Rightarrow$ items people frequently buy together.\n",
    "    + Example: if people usually buy bread and coffee together, we run a sale of bread to attract people attention and raise price of coffee.\n",
    "- Items = webpages, transactions = words. Unusual words appearing together in a large number of documents, e.g., “Brad” and “Angelina,” may indicate an interesting relationship.\n",
    "- Transactions = Sentences, Items = Documents containing those sentences. Items that appear together too often could represent plagiarism."
   ]
  },
  {
   "cell_type": "markdown",
   "metadata": {
    "id": "x8vAJ8A2RjYi"
   },
   "source": [
    "## Transactional Database\n",
    "A transactional database $D$ consists of $N$ transactions: $D=\\left\\{T_1,T_2,...,T_N\\right\\}$. A transaction $T_n \\in D (1 \\le n \\le N)$ contains one or more items and that $I= \\left\\{ i_1,i_2,…,i_M \\right\\}$ is the set of distinct items in $D$, $T_n \\subset I$. Commonly, a transactional database is represented by a flat file instead of a database system: items are non-negative integers, each row represents a transaction, items in a transaction separated by space.\n",
    "\n",
    "Example: \n",
    "\n",
    "1 2 3 4 5 6 7 8 9 10 11 12 13 14 15 16 17 18 19 20 21 22 23 24 25 26 27 28 29 \n",
    "\n",
    "30 31 32 \n",
    "\n",
    "33 34 35 \n",
    "\n",
    "36 37 38 39 40 41 42 43 44 45 46 \n",
    "\n",
    "38 39 47 48 \n",
    "\n",
    "38 39 48 49 50 51 52 53 54 55 56 57 58 \n",
    "\n",
    "32 41 59 60 61 62 \n",
    "\n",
    "3 39 48 \n",
    "\n",
    "63 64 65 66 67 68 \n",
    "\n",
    "\n",
    "\n",
    "# Definition\n",
    "\n",
    "- Itemset: A collection of one or more items.\n",
    "    + Example: {1 4 5}\n",
    "- **k-itemset**: An itemset that contains k items.\n",
    "- Support: Frequency of occurrence of an itemset.\n",
    "    + Example: From the example above, item 3 appear in 2 transactions so its support is 2.\n",
    "- Frequent itemset: An itemset whose support is greater than or equal to a `minsup` threshold"
   ]
  },
  {
   "cell_type": "markdown",
   "metadata": {
    "id": "hdykKxr6RjY-"
   },
   "source": [
    "# The Apriori Principle\n",
    "- If an itemset is frequent, then all of its subsets must also be frequent.\n",
    "- If an itemset is not frequent, then all of its supersets cannot be frequent.\n",
    "- The support of an itemset never exceeds the support of its subsets.\n",
    "$$ \\forall{X,Y}: (X \\subseteq Y) \\Rightarrow s(X)\\ge s(Y)$$\n"
   ]
  },
  {
   "cell_type": "markdown",
   "metadata": {
    "id": "NvfMR7-CRjZB"
   },
   "source": [
    "# 2. Implementation\n"
   ]
  },
  {
   "cell_type": "markdown",
   "metadata": {
    "id": "p9gZh4DORjZD"
   },
   "source": [
    "## The Apriori algorithm\n",
    "Suppose:\n",
    "\n",
    "$C_k$ candidate itemsets of size k.\n",
    "\n",
    "$L_k$ frequent itemsets of size k.\n",
    "\n",
    "The level-wise approach of Apriori algorithm can be descibed as follow:\n",
    "1. k=1, $C_k$ = all items.\n",
    "2. While $C_k$ not empty:\n",
    "    3. Scan the database to find which itemsets in $C_k$ are frequent and put them into $L_k$.\n",
    "    4. Use $L_k$ to generate a collection of candidate itemsets $C_{k+1}$ of size k+1.\n",
    "    5. k=k+1."
   ]
  },
  {
   "cell_type": "markdown",
   "metadata": {
    "id": "qF9xHOBLRjZJ"
   },
   "source": [
    "### Import library"
   ]
  },
  {
   "cell_type": "code",
   "execution_count": 691,
   "metadata": {
    "id": "7F0lUOSuRjZN"
   },
   "outputs": [],
   "source": [
    "from collections import defaultdict"
   ]
  },
  {
   "cell_type": "markdown",
   "metadata": {
    "id": "1OogwdcLRjZf"
   },
   "source": [
    "### Read data\n",
    "First we have to read data from database"
   ]
  },
  {
   "cell_type": "code",
   "execution_count": 692,
   "metadata": {
    "id": "U2bsGrTERjZg"
   },
   "outputs": [],
   "source": [
    "\n",
    "def readData(path):\n",
    "    \"\"\"\n",
    "    Parameters\n",
    "    --------------------------\n",
    "        path: path of database D.\n",
    "         \n",
    "    --------------------------\n",
    "    Returns\n",
    "        data: a dictionary for representing database D\n",
    "                 - keys: transaction tids\n",
    "                 - values: itemsets.\n",
    "        s: support of distict items in D.\n",
    "    \"\"\"\n",
    "    data={}\n",
    "    s=defaultdict(lambda: 0) # Initialize a dictionary for storing support of items in I.  \n",
    "    with open(path,'rt') as f:       \n",
    "        tid=1;\n",
    "        for line in f:           \n",
    "            itemset=set(map(int,line.split())) # a python set is a native way for storing an itemset.\n",
    "            for item in itemset:  \n",
    "                s[item]+=1     #Why don't we compute support of items while reading data?\n",
    "            data[tid]= itemset\n",
    "            tid+=1\n",
    "   \n",
    "    return data, s"
   ]
  },
  {
   "cell_type": "markdown",
   "metadata": {
    "id": "oSTC78WURjZu"
   },
   "source": [
    "### Tree Projection"
   ]
  },
  {
   "cell_type": "markdown",
   "metadata": {
    "id": "uGAkmuXtRjZw"
   },
   "source": [
    "**I gave you pseudo code of Apriori algorithm above but we implement Tree Projection. Tell me the differences of two algorithms.**\n",
    "\n",
    "\n",
    "**TODO:**"
   ]
  },
  {
   "cell_type": "code",
   "execution_count": 693,
   "metadata": {
    "id": "BVRT5BnWRjZz"
   },
   "outputs": [],
   "source": [
    "def joinset(a, b):\n",
    "    '''\n",
    "    Parameters\n",
    "    -------------------\n",
    "        2 itemsets a and b (of course they are at same branch in search space)\n",
    "\n",
    "    -------------------\n",
    "    return\n",
    "        ret: itemset generated by joining a and b\n",
    "    '''\n",
    "    # TODO (hint: this function will be called in generateSearchSpace method.):\n",
    "    combined_set = a.union(b)\n",
    "    ret = combined_set\n",
    "    return ret\n",
    "\n",
    "class TP:\n",
    "    def __init__(self, data=None, s=None, minSup=None):\n",
    "        self.data = data\n",
    "        self.s = {}\n",
    "\n",
    "        for key, support in sorted(s.items(), key=lambda item: item[1]):\n",
    "            self.s[key] = support\n",
    "        # TODO: why should we do this, answer it at the markdown below?\n",
    "    \n",
    "        self.minSup = minSup\n",
    "        self.L = {}  # Store frequent itemsets mined from database\n",
    "        self.runAlgorithm()\n",
    "\n",
    "    def initialize(self):\n",
    "        \"\"\"\n",
    "        Initialize search space at first step\n",
    "        --------------------------------------\n",
    "        We represent our search space in a tree structure\n",
    "        \"\"\"\n",
    "        tree = {}\n",
    "\n",
    "        search_space = {}\n",
    "        for item, support in self.s.items():\n",
    "            search_space[item] = {}\n",
    "\n",
    "            search_space[item]['itemset'] = [item]\n",
    "            ''' \n",
    "            python set does not remain elements order\n",
    "            so we use a list to extend it easily when create new itemset \n",
    "            but why we store itemset in data by a python set???? '''\n",
    "            # TODO: study about python set and its advantages,\n",
    "            # answer at the markdown below.\n",
    " \n",
    "            search_space[item]['pruned'] = False\n",
    "            # TODO:\n",
    "            # After finish implementing the algorithm tell me why should you use this\n",
    "            # instead of delete item directly from search_space and tree.\n",
    "\n",
    "            search_space[item]['support'] = support\n",
    "            tree[item] = {}\n",
    "            '''\n",
    "            Why should i store an additional tree (here it called tree)? \n",
    "            Answer: This really help in next steps.\n",
    "\n",
    "            Remember that there is always a big gap from theory to practicality\n",
    "            and implementing this algorithm in python is not as simple as you think.\n",
    "            '''\n",
    "\n",
    "        return tree, search_space\n",
    "\n",
    "    def computeItemsetSupport(self, itemset):\n",
    "\n",
    "        '''Return support of itemset'''\n",
    "        # TODO (hint: this is why i use python set in data)\n",
    "        support = 0\n",
    "        itemset = set(itemset)\n",
    "        for tid, transaction in self.data.items():                         \n",
    "            if itemset.issubset(transaction):\n",
    "                support += 1\n",
    "\n",
    "        return support \n",
    "\n",
    "    def get_sub_tree(self, k, tree, search_space, itter_node):\n",
    "        if k == 0:\n",
    "            return search_space[itter_node]['support']\n",
    "        subtree = search_space[itter_node]\n",
    "        for node in subtree.keys():\n",
    "            k-=1\n",
    "            self.get_sub_tree(k,tree,search_space,node)\n",
    "\n",
    "\n",
    "    def prune(self, k, tree, search_space):\n",
    "\n",
    "        '''\n",
    "        In this method we will find out which itemset in current search space is frequent\n",
    "        itemset then add it to L[k]. In addition, we prune those are not frequent itemsets.\n",
    "        '''\n",
    "        if self.L.get(k) is None: self.L[k] = []\n",
    "        # TODO\n",
    "        frequent_itemsets = []\n",
    "        pruned_itemsets = []\n",
    "        for itemset in search_space.keys():\n",
    "            \n",
    "            support = self.computeItemsetSupport(search_space[itemset]['itemset'])\n",
    "     \n",
    "            if support >= self.minSup:\n",
    "                frequent_itemsets.append(itemset)\n",
    "            else:\n",
    "                pruned_itemsets.append(itemset)\n",
    "                search_space[itemset].update({\"pruned\": True})             \n",
    "                \n",
    "\n",
    "        # print(k, frequent_itemsets)\n",
    "        self.L[k] = self.L[k] + frequent_itemsets\n",
    "        # for itemset in pruned_itemsets:\n",
    "        #   del tree[itemset]\n",
    "        #   search_space[itemset]['pruned'] = True\n",
    "          \n",
    "          \n",
    "       \n",
    "     \n",
    "\n",
    "\n",
    "    def generateSearchSpace(self, k, tree, search_space):\n",
    "        '''\n",
    "        Generate search space for exploring k+1 itemset. (Recursive function)\n",
    "        '''\n",
    "        items = list(tree.keys())\n",
    "        ''' print search_space.keys() you will understand  \n",
    "         why we need an additional tree, '''\n",
    "        l = len(items)\n",
    "        self.prune(k, tree, search_space)  \n",
    "        # sub_search_space = {}\n",
    "        # sub_tree = {}\n",
    "       \n",
    "        if l == 0: return  # Stop condition\n",
    "        for i in range(l - 1):\n",
    "            sub_search_space = {}\n",
    "            sub_tree = {}\n",
    "           \n",
    "            a = items[i]\n",
    "                \n",
    "            if search_space[a]['pruned']: continue\n",
    "            # print(\"a\" ,search_space[a])\n",
    "            for j in range(i + 1, l):\n",
    "                b = items[j]              \n",
    "                search_space[a][b] = {}\n",
    "                tree[a][b] = {}\n",
    "                # You really need to understand what am i doing here before doing work below.\n",
    "                # (Hint: draw tree and search space to draft).\n",
    "\n",
    "\n",
    "                # TODO:print\n",
    "                # First create newset using join set\n",
    "\n",
    "                newset = joinset(set(search_space[a]['itemset']),set([b]))\n",
    "               \n",
    "                # Second add newset to search_space  \n",
    "                print(len(newset))\n",
    "                if(len(newset) == )\n",
    "                search_space[a][b]['itemset'] = newset\n",
    "                search_space[a][b]['pruned'] = False\n",
    "                search_space[a][b]['support'] = 0                       \n",
    "                sub_search_space[tuple(newset)] = search_space[a][b]\n",
    "                sub_tree[tuple(newset)] = {}\n",
    "                \n",
    "            # Generate search_space for k+1-itemset \n",
    "            self.generateSearchSpace(k + 1, sub_tree, sub_search_space)\n",
    "        # self.generateSearchSpace(k + 1, sub_tree, sub_search_space)\n",
    "\n",
    "    def runAlgorithm(self):\n",
    "        tree, search_space = self.initialize()  # generate search space for 1-itemset\n",
    "        self.generateSearchSpace(1, tree, search_space)\n",
    "\n",
    "    def miningResults(self):\n",
    "        return self.L"
   ]
  },
  {
   "cell_type": "markdown",
   "metadata": {
    "id": "6tMTpwxLRjZ-"
   },
   "source": [
    "Ok, let's test on a typical dataset `chess`."
   ]
  },
  {
   "cell_type": "code",
   "execution_count": 694,
   "metadata": {
    "id": "gLygYqiYRjZ-"
   },
   "outputs": [],
   "source": [
    "data, s = readData('chess.txt')"
   ]
  },
  {
   "cell_type": "code",
   "execution_count": 695,
   "metadata": {
    "colab": {
     "base_uri": "https://localhost:8080/"
    },
    "id": "PnxbU77YRjaF",
    "outputId": "c3b158be-6b46-4a3c-9b71-6a92d3d31ded"
   },
   "outputs": [
    {
     "name": "stdout",
     "output_type": "stream",
     "text": [
      "2\n",
      "2\n",
      "2\n",
      "2\n",
      "2\n",
      "2\n",
      "2\n",
      "2\n",
      "2\n",
      "2\n",
      "2\n",
      "3\n",
      "2\n",
      "2\n",
      "2\n",
      "2\n",
      "2\n",
      "2\n",
      "2\n",
      "2\n",
      "2\n",
      "2\n",
      "3\n",
      "3\n",
      "3\n",
      "2\n",
      "2\n",
      "2\n",
      "2\n",
      "2\n",
      "2\n",
      "2\n",
      "2\n",
      "2\n",
      "3\n",
      "3\n",
      "3\n",
      "3\n",
      "3\n",
      "3\n",
      "3\n",
      "2\n",
      "2\n",
      "2\n",
      "2\n",
      "2\n",
      "2\n",
      "2\n",
      "2\n",
      "3\n",
      "3\n",
      "3\n",
      "3\n",
      "3\n",
      "3\n",
      "2\n",
      "2\n",
      "2\n",
      "2\n",
      "2\n",
      "2\n",
      "2\n",
      "3\n",
      "3\n",
      "3\n",
      "3\n",
      "3\n",
      "3\n",
      "3\n",
      "3\n",
      "3\n",
      "3\n",
      "2\n",
      "2\n",
      "2\n",
      "2\n",
      "2\n",
      "2\n",
      "3\n",
      "3\n",
      "3\n",
      "3\n",
      "3\n",
      "3\n",
      "3\n",
      "3\n",
      "3\n",
      "3\n",
      "2\n",
      "2\n",
      "2\n",
      "2\n",
      "2\n",
      "3\n",
      "3\n",
      "3\n",
      "3\n",
      "3\n",
      "3\n",
      "3\n",
      "3\n",
      "3\n",
      "3\n",
      "2\n",
      "2\n",
      "2\n",
      "2\n",
      "3\n",
      "3\n",
      "3\n",
      "3\n",
      "3\n",
      "3\n",
      "2\n",
      "2\n",
      "2\n",
      "3\n",
      "3\n",
      "3\n",
      "2\n",
      "2\n",
      "3\n",
      "2\n",
      "{1: [48, 56, 66, 34, 62, 7, 36, 60, 40, 29, 52, 58], 2: [(48, 52), (48, 58), (56, 29), (56, 52), (56, 58), (66, 60), (66, 29), (66, 52), (66, 58), (40, 34), (34, 29), (34, 52), (34, 58), (60, 62), (40, 62), (29, 62), (52, 62), (58, 62), (60, 7), (40, 7), (29, 7), (52, 7), (58, 7), (36, 60), (40, 36), (36, 29), (36, 52), (58, 36), (40, 60), (60, 29), (60, 52), (58, 60), (40, 29), (40, 52), (40, 58), (52, 29), (58, 29), (58, 52)], 3: []}\n"
     ]
    }
   ],
   "source": [
    "#\n",
    "a=TP(data=data,s=s, minSup=3000)\n",
    "print(a.miningResults())"
   ]
  },
  {
   "attachments": {},
   "cell_type": "markdown",
   "metadata": {
    "id": "Mp0RFbw-RjaU"
   },
   "source": [
    "### Answer questions here:\n",
    "**Why don't we compute support of items while reading data?**\n",
    "\n",
    "Trong quá trình đọc dữ liệu, chúng ta tính toán hỗ trợ của các mục riêng biệt trong từ điển `s`. Đối với mỗi mục trong mỗi itemset, chúng ta tăng giá trị hỗ trợ của mục đó trong từ điển `s`.\n",
    "\n",
    " Mục đích của việc tính toán hỗ trợ ở đây là thu thập thông tin về tần suất xuất hiện của các mục trong cơ sở dữ liệu.\n",
    "\n",
    "**why should we do sort**\n",
    "\n",
    "Việc sắp xếp và lưu trữ từ điển `s` theo `support` giúp đảm bảo rằng các mục sẽ được xử lý theo thứ tự tăng dần của `support`. \n",
    "\n",
    "Điều này quan trọng vì trong quá trình thực thi thuật toán, việc xử lý các mục theo thứ tự `support` giúp tăng hiệu suất và tính nhất quán của thuật toán.\n",
    "\n",
    " Kết quả là các itemset thường xuyên sẽ được khai thác và lưu trữ theo thứ tự hỗ trợ tăng dần trong thuộc tính self.s.\n",
    "\n",
    "**study about python set and its advantages ?**\n",
    "\n",
    "`Python set` có một số ưu điểm:\n",
    "\n",
    "1. Cấu trúc dữ liệu set trong Python giữ được tính duy nhất (unique) của các phần tử. Điều này giúp loại bỏ các phần tử trùng lặp trong itemset, vì các phần tử trong itemset thường không có tính chất thứ tự quan trọng.\n",
    "\n",
    "2. Set trong Python cung cấp các phương thức và toán tử để thực hiện các phép toán tập hợp như giao, hợp, phần tử không thuộc, kiểm tra sự thuộc, và nhiều hơn nữa. Điều này giúp cho việc xử lý itemset dễ dàng và hiệu quả.\n",
    "\n",
    "**After finish implementing the algorithm tell me why should you use this? Instead of delete item directly from search_space and tree.**\n",
    "\n",
    "Lý do sử dụng cờ 'pruned' trong search_space thay vì xóa mục trực tiếp khỏi search_space và tree là để duy trì cấu trúc và tính toàn vẹn của không gian tìm kiếm và cây trong suốt quá trình thực thi thuật toán.\n",
    "\n",
    "1. Tính linh hoạt: Cờ `pruned` cho phép chúng ta dễ dàng hoàn tác hoặc sửa đổi quyết định cắt tỉa nếu cần thiết. Thay vì xóa các mục một cách vĩnh viễn, chúng ta có thể đánh dấu chúng là đã bị cắt tỉa và sau này xem xét lại nếu cần thiết.Tính linh hoạt này là quan trọng khi triển khai các thuật toán phức tạp, nơi các điều kiện và tiêu chí khác nhau có thể ảnh hưởng đến quá trình cắt tỉa.\n",
    "\n",
    "2. Tính nhất quán dữ liệu: Không gian tìm kiếm và cây là các thành phần quan trọng của thuật toán, được sử dụng để tạo ra và khám phá các itemset. Bằng cách sử dụng cờ 'pruned', chúng ta có thể giữ cấu trúc gốc nguyên vẹn và đảm bảo rằng các hoạt động và vòng lặp tiếp theo diễn ra đúng. Nếu chúng ta xóa mục trực tiếp, có thể dẫn đến sự không nhất quán hoặc lỗi khi duyệt hoặc truy cập không gian tìm kiếm và cây.\n",
    "\n",
    "\n",
    "**Apriori algorithm and Tree Projection, tell me the differences of two algorithms.**\n",
    "\n",
    "- Giải thuật Apriori: Giải thuật Apriori là một phương pháp lặp lại sử dụng việc tạo và loại bỏ ứng viên để tìm tập hợp phổ biến. Nó tạo ra các tập hợp ứng viên có độ dài k dựa trên tập hợp phổ biến có độ dài k-1 và loại bỏ các ứng viên không đáp ứng ngưỡng hỗ trợ tối thiểu.\n",
    "\n",
    "- Giải thuật Tree Projection: Giải thuật Tree Projection, còn được gọi là FP-growth (Frequent Pattern growth), là một phương pháp chia để trị xây dựng một cấu trúc dữ liệu gọn gọi là FP-tree. Nó xây dựng FP-tree theo cách đệ quy bằng cách chiếu và gộp các tập hợp phổ biến từ tập dữ liệu. Các tập hợp phổ biến có thể được đọc trực tiếp từ FP-tree, loại bỏ nhu cầu tạo và loại bỏ ứng viên.\n",
    "\n"
   ]
  },
  {
   "cell_type": "markdown",
   "metadata": {
    "id": "NnVm8wYIRjaV"
   },
   "source": [
    "# 3. Churn analysis\n",
    "\n",
    "In this section, you will use frequent itemset mining technique to analyze `churn` dataset (for any purposes). \n",
    "\n",
    "*Remember this dataset is not represented as a transactional database, first thing that you have to do is transforming it into a flat file.  "
   ]
  },
  {
   "cell_type": "code",
   "execution_count": 696,
   "metadata": {},
   "outputs": [
    {
     "name": "stdout",
     "output_type": "stream",
     "text": [
      "[[128, 'no', 'yes', 1, '382-4657'], [107, 'no', 'yes', 1, '371-7191'], [137, 'no', 'no', 0, '358-1921'], [84, 'yes', 'no', 2, '375-9999'], [75, 'yes', 'no', 3, '330-6626'], [118, 'yes', 'no', 0, '391-8027'], [121, 'no', 'yes', 3, '355-9993'], [147, 'yes', 'no', 0, '329-9001'], [117, 'no', 'no', 1, '335-4719'], [141, 'yes', 'yes', 0, '330-8173'], [65, 'no', 'no', 4, '329-6603'], [74, 'no', 'no', 0, '344-9403'], [168, 'no', 'no', 1, '363-1107'], [95, 'no', 'no', 3, '394-8006'], [62, 'no', 'no', 4, '366-9238'], [161, 'no', 'no', 4, '351-7269'], [85, 'no', 'yes', 1, '350-8884'], [93, 'no', 'no', 3, '386-2923'], [76, 'no', 'yes', 1, '356-2992'], [73, 'no', 'no', 1, '373-2782'], [147, 'no', 'no', 0, '396-5800'], [77, 'no', 'no', 5, '393-7984'], [130, 'no', 'no', 0, '358-1958'], [111, 'no', 'no', 2, '350-2565'], [132, 'no', 'no', 0, '343-4696'], [174, 'no', 'no', 3, '331-3698'], [57, 'no', 'yes', 0, '357-3817'], [54, 'no', 'no', 3, '418-6412'], [20, 'no', 'no', 0, '353-2630'], [49, 'no', 'no', 1, '410-7789'], [142, 'no', 'no', 2, '416-8428'], [75, 'no', 'no', 1, '370-3359'], [172, 'no', 'no', 3, '383-1121'], [12, 'no', 'no', 1, '360-1596'], [57, 'no', 'yes', 0, '395-2854'], [72, 'no', 'yes', 3, '362-1407'], [36, 'no', 'yes', 0, '341-9764'], [78, 'no', 'no', 1, '353-3305'], [136, 'yes', 'yes', 3, '402-1381'], [149, 'no', 'no', 1, '332-9891'], [98, 'no', 'no', 3, '372-9976'], [135, 'yes', 'yes', 0, '383-6029'], [34, 'no', 'no', 2, '353-7289'], [160, 'no', 'no', 3, '390-7274'], [64, 'no', 'no', 1, '352-1237'], [59, 'no', 'yes', 2, '353-3061'], [65, 'no', 'no', 3, '363-5450'], [142, 'no', 'no', 2, '364-1995'], [119, 'no', 'no', 5, '398-1294'], [97, 'no', 'yes', 1, '405-7146'], [52, 'no', 'no', 3, '413-4957'], [60, 'no', 'no', 1, '420-5645'], [10, 'no', 'no', 2, '349-4396'], [96, 'no', 'no', 2, '404-3211'], [87, 'no', 'no', 5, '353-3759'], [81, 'no', 'no', 1, '363-5947'], [141, 'no', 'no', 1, '340-5121'], [121, 'no', 'yes', 3, '370-7574'], [68, 'no', 'no', 3, '403-9733'], [125, 'no', 'no', 1, '355-7251'], [174, 'no', 'no', 1, '359-5893'], [116, 'no', 'yes', 2, '405-3371'], [74, 'no', 'yes', 2, '344-5117'], [149, 'no', 'yes', 3, '332-8160'], [38, 'no', 'no', 2, '359-4081'], [40, 'no', 'yes', 2, '352-8305'], [43, 'yes', 'no', 0, '329-9847'], [113, 'yes', 'no', 0, '365-9011'], [126, 'no', 'no', 1, '338-9472'], [150, 'no', 'no', 4, '374-8042'], [138, 'no', 'no', 3, '359-1231'], [162, 'no', 'yes', 0, '413-7170'], [147, 'no', 'no', 3, '415-2935'], [90, 'no', 'no', 1, '399-4246'], [85, 'no', 'no', 0, '362-5889'], [50, 'no', 'no', 1, '350-8921'], [82, 'no', 'no', 0, '374-5353'], [144, 'no', 'no', 4, '360-1171'], [46, 'no', 'no', 2, '355-8887'], [70, 'no', 'no', 1, '333-1967'], [144, 'no', 'no', 1, '354-4577'], [116, 'yes', 'no', 3, '331-7425'], [55, 'no', 'yes', 3, '419-2637'], [70, 'no', 'yes', 1, '411-1530'], [106, 'no', 'no', 2, '395-3026'], [128, 'no', 'yes', 0, '388-6441'], [94, 'no', 'no', 4, '402-1251'], [111, 'no', 'no', 1, '412-9997'], [74, 'no', 'yes', 2, '346-7302'], [128, 'no', 'no', 1, '358-9095'], [82, 'no', 'no', 1, '400-9770'], [155, 'no', 'no', 0, '334-1275'], [80, 'no', 'no', 1, '340-4953'], [78, 'no', 'no', 3, '400-9510'], [90, 'no', 'no', 3, '387-6103'], [104, 'no', 'no', 1, '366-4467'], [73, 'no', 'no', 0, '370-3450'], [99, 'no', 'no', 4, '327-3954'], [120, 'no', 'no', 1, '355-6291'], [77, 'no', 'no', 2, '362-9748'], [98, 'no', 'yes', 4, '379-6506'], [108, 'no', 'no', 0, '347-7741'], [135, 'no', 'no', 0, '354-3783'], [95, 'no', 'no', 1, '401-7594'], [122, 'no', 'no', 1, '397-4976'], [95, 'no', 'no', 4, '334-2577'], [36, 'no', 'yes', 2, '400-3637'], [93, 'no', 'yes', 1, '383-4361'], [141, 'no', 'yes', 1, '371-4306'], [157, 'no', 'no', 3, '403-4298'], [120, 'no', 'no', 1, '409-3786'], [103, 'no', 'no', 2, '337-4697'], [98, 'no', 'no', 4, '383-1509'], [125, 'no', 'no', 1, '359-9794'], [63, 'no', 'no', 1, '407-7035'], [36, 'yes', 'yes', 0, '363-1069'], [64, 'no', 'no', 1, '391-4652'], [74, 'no', 'no', 1, '355-6837'], [112, 'no', 'yes', 2, '409-1244'], [97, 'no', 'no', 2, '328-3266'], [46, 'no', 'no', 1, '352-7072'], [41, 'no', 'yes', 0, '370-7550'], [121, 'no', 'no', 3, '369-5526'], [193, 'no', 'no', 1, '329-4391'], [130, 'no', 'no', 2, '408-4195'], [85, 'no', 'no', 1, '354-4445'], [162, 'no', 'no', 4, '335-4858'], [61, 'no', 'yes', 4, '414-8718'], [92, 'no', 'no', 2, '409-5939'], [131, 'no', 'yes', 3, '331-4902'], [90, 'no', 'no', 3, '353-6870'], [75, 'no', 'no', 1, '355-2909'], [78, 'no', 'no', 1, '390-6101'], [82, 'no', 'no', 4, '400-3446'], [163, 'no', 'no', 1, '411-5859'], [91, 'yes', 'no', 3, '387-2919'], [75, 'no', 'yes', 5, '374-8525'], [91, 'no', 'no', 3, '379-5592'], [127, 'no', 'yes', 1, '345-8237'], [113, 'no', 'yes', 2, '422-6690'], [110, 'no', 'no', 1, '346-2359'], [120, 'no', 'yes', 0, '374-3534'], [157, 'no', 'yes', 3, '381-4756'], [103, 'no', 'no', 1, '390-2805'], [117, 'yes', 'no', 2, '390-2390'], [140, 'no', 'no', 3, '419-9097'], [127, 'no', 'no', 1, '386-7281'], [83, 'yes', 'no', 1, '380-3561'], [121, 'no', 'no', 1, '390-8760'], [145, 'no', 'yes', 2, '366-6730'], [113, 'no', 'no', 1, '395-5285'], [117, 'no', 'no', 1, '354-3436'], [65, 'no', 'no', 1, '336-7600'], [56, 'no', 'no', 1, '383-6293'], [96, 'no', 'no', 5, '362-4596'], [151, 'no', 'no', 0, '401-3926'], [83, 'no', 'no', 0, '370-9116'], [139, 'no', 'yes', 0, '328-6289'], [6, 'no', 'no', 1, '350-9994'], [115, 'no', 'yes', 1, '351-4616'], [87, 'no', 'no', 0, '360-5779'], [141, 'no', 'no', 0, '417-4885'], [141, 'no', 'yes', 3, '406-4710'], [62, 'no', 'no', 1, '409-8743'], [146, 'no', 'no', 1, '335-4584'], [92, 'no', 'yes', 2, '361-9845'], [185, 'no', 'yes', 1, '366-5699'], [148, 'no', 'no', 1, '329-9364'], [94, 'no', 'yes', 1, '390-7434'], [32, 'no', 'no', 0, '404-9680'], [68, 'no', 'no', 1, '338-9398'], [64, 'no', 'yes', 2, '394-2445'], [25, 'no', 'no', 3, '381-2709'], [65, 'no', 'no', 1, '397-5060'], [179, 'no', 'no', 0, '415-2393'], [94, 'no', 'no', 2, '377-1765'], [62, 'no', 'no', 0, '409-2111'], [127, 'no', 'no', 2, '401-3170'], [116, 'no', 'no', 3, '405-5681'], [70, 'no', 'no', 3, '411-4582'], [94, 'yes', 'yes', 4, '355-5009'], [126, 'no', 'no', 5, '372-3750'], [67, 'no', 'yes', 2, '405-2888'], [19, 'no', 'no', 2, '361-3337'], [170, 'yes', 'no', 3, '350-1639'], [73, 'no', 'no', 1, '333-3221'], [106, 'no', 'no', 1, '422-1471'], [93, 'no', 'no', 2, '399-7865'], [164, 'no', 'no', 1, '373-4819'], [51, 'no', 'no', 1, '338-6981'], [107, 'no', 'no', 0, '418-4365'], [130, 'no', 'no', 1, '359-5461'], [80, 'no', 'no', 2, '375-3586'], [94, 'no', 'no', 0, '407-8376'], [118, 'no', 'yes', 1, '408-6496'], [117, 'no', 'yes', 1, '385-7688'], [78, 'no', 'no', 0, '332-6934'], [208, 'no', 'no', 2, '378-3625'], [131, 'yes', 'yes', 4, '353-7292'], [63, 'no', 'no', 0, '399-6786'], [53, 'no', 'yes', 3, '358-3261'], [62, 'no', 'no', 2, '377-9932'], [97, 'no', 'no', 3, '397-4030'], [105, 'no', 'no', 2, '367-1062'], [157, 'no', 'no', 1, '341-8467'], [66, 'no', 'yes', 1, '339-9453'], [122, 'no', 'no', 2, '344-3388'], [38, 'no', 'no', 3, '375-8013'], [106, 'no', 'no', 3, '408-4142'], [99, 'no', 'no', 3, '386-3671'], [99, 'no', 'no', 1, '411-2284'], [144, 'yes', 'no', 0, '346-7795'], [82, 'no', 'yes', 1, '333-5609'], [86, 'no', 'yes', 1, '405-1842'], [70, 'yes', 'no', 2, '366-6345'], [93, 'no', 'no', 3, '337-9345'], [93, 'no', 'no', 0, '328-6770'], [120, 'no', 'no', 3, '380-7321'], [136, 'no', 'no', 1, '375-1476'], [106, 'no', 'no', 0, '356-1567'], [81, 'no', 'no', 3, '422-6685'], [127, 'no', 'yes', 1, '336-1090'], [65, 'no', 'no', 1, '343-2095'], [35, 'no', 'no', 2, '345-3934'], [88, 'no', 'no', 2, '338-8050'], [65, 'no', 'no', 1, '388-9568'], [123, 'no', 'no', 3, '402-6591'], [126, 'no', 'yes', 2, '403-6419'], [104, 'no', 'yes', 4, '386-9790'], [45, 'no', 'yes', 0, '378-5692'], [93, 'yes', 'no', 0, '360-3324'], [63, 'yes', 'yes', 1, '410-3719'], [100, 'no', 'no', 3, '352-4221'], [53, 'no', 'no', 0, '327-6179'], [92, 'yes', 'no', 1, '359-6196'], [139, 'no', 'no', 5, '374-9107'], [110, 'no', 'yes', 2, '357-4078'], [110, 'no', 'no', 3, '366-5780'], [215, 'no', 'no', 0, '393-9619'], [73, 'no', 'no', 1, '355-9295'], [138, 'no', 'no', 0, '400-5751'], [137, 'yes', 'no', 2, '338-1027'], [36, 'no', 'no', 1, '405-8867'], [85, 'no', 'no', 3, '336-5616'], [108, 'no', 'no', 0, '335-1697'], [22, 'no', 'no', 0, '331-5138'], [107, 'no', 'yes', 0, '385-8240'], [51, 'no', 'no', 0, '348-1359'], [94, 'no', 'no', 4, '354-7339'], [119, 'no', 'yes', 2, '349-1687'], [33, 'no', 'yes', 4, '380-2558'], [106, 'no', 'no', 4, '365-2153'], [82, 'no', 'no', 3, '345-6043'], [86, 'no', 'yes', 0, '349-2808'], [97, 'yes', 'no', 0, '411-1715'], [106, 'no', 'yes', 4, '385-2488'], [108, 'no', 'no', 1, '377-7177'], [114, 'no', 'no', 1, '342-1099'], [92, 'yes', 'no', 1, '386-4170'], [59, 'no', 'no', 1, '413-1269'], [24, 'no', 'yes', 1, '396-4460'], [151, 'no', 'no', 1, '334-2730'], [117, 'no', 'no', 1, '340-3182'], [78, 'no', 'no', 1, '377-8608'], [155, 'no', 'no', 2, '417-3676'], [114, 'no', 'yes', 1, '417-6774'], [114, 'no', 'yes', 4, '411-9554'], [119, 'no', 'no', 3, '420-3192'], [64, 'no', 'yes', 0, '389-1475'], [118, 'yes', 'no', 2, '343-7734'], [101, 'no', 'no', 0, '410-3390'], [117, 'no', 'no', 1, '344-6495'], [49, 'no', 'yes', 3, '331-6229'], [139, 'no', 'no', 3, '337-7501'], [92, 'no', 'yes', 1, '339-9631'], [83, 'no', 'no', 3, '369-4384'], [148, 'yes', 'no', 0, '416-3915'], [144, 'no', 'yes', 2, '339-3049'], [131, 'no', 'yes', 2, '361-7998'], [146, 'yes', 'no', 3, '355-4842'], [143, 'no', 'no', 2, '387-6440'], [81, 'no', 'no', 2, '369-2625'], [48, 'no', 'yes', 1, '389-7073'], [86, 'no', 'yes', 1, '370-8463'], [71, 'no', 'no', 3, '362-7318'], [145, 'no', 'yes', 2, '412-1194'], [137, 'no', 'no', 2, '355-9508'], [137, 'no', 'no', 2, '352-8202'], [167, 'no', 'no', 0, '335-5882'], [89, 'no', 'no', 1, '352-6976'], [199, 'no', 'yes', 0, '393-6733'], [132, 'no', 'no', 0, '335-1838'], [94, 'no', 'no', 1, '355-6930'], [96, 'no', 'yes', 5, '387-5860'], [96, 'no', 'yes', 1, '343-2605'], [166, 'no', 'no', 1, '350-6759'], [74, 'no', 'no', 2, '371-1514'], [36, 'no', 'no', 0, '346-9317'], [113, 'no', 'no', 4, '398-4313'], [94, 'no', 'no', 1, '412-4399'], [67, 'no', 'no', 2, '330-1835'], [127, 'no', 'no', 1, '416-1676'], [121, 'no', 'no', 0, '329-7347'], [158, 'no', 'no', 1, '360-6868'], [136, 'no', 'no', 1, '405-6641'], [196, 'no', 'no', 2, '393-2373'], [113, 'no', 'no', 1, '419-1714'], [122, 'no', 'no', 4, '336-3819'], [112, 'no', 'no', 0, '341-3464'], [209, 'no', 'no', 3, '413-5310'], [62, 'no', 'no', 1, '366-7912'], [110, 'no', 'yes', 1, '399-8845'], [16, 'no', 'no', 0, '368-2583'], [73, 'no', 'no', 0, '360-6309'], [128, 'no', 'no', 0, '359-5890'], [39, 'no', 'no', 1, '332-2462'], [103, 'no', 'yes', 2, '381-9196'], [119, 'no', 'yes', 3, '329-3222'], [173, 'no', 'yes', 3, '363-5819'], [128, 'yes', 'yes', 2, '413-9269'], [86, 'no', 'no', 0, '330-7483'], [114, 'no', 'yes', 1, '403-7775'], [104, 'no', 'no', 0, '360-2479'], [148, 'no', 'no', 1, '394-3791'], [129, 'no', 'no', 3, '384-2632'], [100, 'no', 'yes', 0, '359-8466'], [121, 'no', 'yes', 1, '331-8909'], [143, 'no', 'yes', 1, '359-5160'], [76, 'no', 'no', 0, '330-9833'], [158, 'no', 'no', 0, '362-2314'], [116, 'no', 'no', 3, '338-8478'], [54, 'no', 'no', 1, '387-5453'], [86, 'no', 'no', 7, '380-3437'], [108, 'no', 'no', 0, '365-8779'], [66, 'no', 'no', 1, '407-2750'], [151, 'no', 'yes', 1, '396-8265'], [99, 'no', 'no', 0, '397-4304'], [55, 'no', 'no', 2, '333-2611'], [77, 'no', 'no', 2, '409-8814'], [78, 'no', 'no', 0, '336-5406'], [89, 'no', 'no', 1, '343-6940'], [101, 'no', 'no', 1, '361-9923'], [44, 'no', 'yes', 0, '350-6639'], [98, 'no', 'yes', 2, '376-4300'], [64, 'no', 'yes', 1, '349-6567'], [141, 'no', 'no', 3, '333-7749'], [81, 'no', 'yes', 1, '408-6089'], [162, 'no', 'no', 1, '375-2165'], [83, 'no', 'yes', 3, '400-6999'], [100, 'no', 'no', 4, '420-7823'], [59, 'no', 'no', 4, '366-5241'], [179, 'yes', 'yes', 4, '413-3412'], [79, 'no', 'no', 1, '406-2752'], [117, 'no', 'no', 2, '337-8078'], [64, 'yes', 'no', 2, '402-1942'], [31, 'no', 'no', 1, '371-7917'], [124, 'yes', 'no', 1, '343-6374'], [122, 'no', 'yes', 2, '385-8730'], [37, 'yes', 'yes', 1, '393-7892'], [90, 'no', 'yes', 1, '407-6748'], [159, 'yes', 'no', 1, '341-4463'], [148, 'no', 'no', 0, '351-2587'], [39, 'no', 'yes', 1, '421-9752'], [77, 'no', 'no', 2, '356-4001'], [194, 'no', 'no', 0, '328-9869'], [154, 'no', 'no', 1, '343-5709'], [112, 'no', 'no', 4, '334-1872'], [45, 'no', 'no', 1, '350-1040'], [132, 'no', 'no', 1, '369-3214'], [128, 'no', 'no', 0, '385-6778'], [135, 'no', 'no', 1, '383-7689'], [56, 'no', 'no', 2, '385-5722'], [151, 'yes', 'no', 0, '357-1909'], [32, 'no', 'no', 2, '364-3567'], [90, 'no', 'no', 2, '422-4241'], [87, 'no', 'yes', 0, '370-2957'], [138, 'no', 'no', 2, '329-6562'], [79, 'no', 'no', 1, '363-3515'], [95, 'yes', 'no', 1, '374-7787'], [127, 'no', 'no', 2, '345-2931'], [137, 'no', 'no', 3, '373-5732'], [97, 'no', 'no', 1, '348-7437'], [149, 'yes', 'no', 0, '332-9460'], [117, 'yes', 'yes', 1, '355-6531'], [84, 'no', 'no', 2, '336-9390'], [137, 'no', 'no', 4, '346-8581'], [99, 'no', 'no', 3, '363-8824'], [54, 'no', 'no', 1, '353-3351'], [85, 'no', 'no', 1, '360-4320'], [150, 'no', 'no', 3, '417-6252'], [43, 'no', 'no', 1, '393-4949'], [35, 'no', 'no', 0, '401-3156'], [98, 'no', 'no', 5, '338-6283'], [112, 'no', 'no', 2, '352-9017'], [16, 'no', 'no', 0, '405-5305'], [98, 'no', 'yes', 0, '376-9249'], [84, 'no', 'no', 0, '339-7139'], [94, 'no', 'no', 1, '328-6011'], [84, 'no', 'no', 1, '378-1303'], [66, 'no', 'no', 1, '402-5155'], [98, 'no', 'yes', 1, '333-5430'], [74, 'no', 'no', 0, '365-9696'], [96, 'no', 'yes', 1, '410-4023'], [119, 'no', 'no', 1, '411-7649'], [73, 'no', 'no', 4, '338-4065'], [92, 'yes', 'no', 0, '421-9401'], [21, 'no', 'no', 0, '343-9658'], [122, 'no', 'no', 4, '332-5521'], [133, 'yes', 'no', 1, '349-4369'], [145, 'no', 'no', 2, '351-4288'], [25, 'no', 'no', 2, '422-5874'], [64, 'no', 'no', 2, '396-2324'], [85, 'no', 'no', 0, '416-5662'], [126, 'no', 'no', 3, '363-9663'], [76, 'no', 'no', 0, '410-9477'], [113, 'no', 'no', 2, '352-4418'], [224, 'yes', 'no', 1, '361-6563'], [117, 'no', 'no', 0, '417-4404'], [128, 'no', 'yes', 1, '372-8048'], [115, 'no', 'no', 2, '356-3646'], [141, 'no', 'yes', 2, '351-9604'], [51, 'no', 'no', 1, '355-9581'], [100, 'no', 'no', 0, '396-5189'], [96, 'no', 'yes', 3, '356-9187'], [112, 'no', 'yes', 1, '394-5537'], [129, 'yes', 'no', 1, '408-2712'], [163, 'no', 'no', 1, '404-4486'], [67, 'no', 'yes', 1, '355-1113'], [140, 'no', 'no', 3, '411-4674'], [49, 'no', 'no', 2, '376-4519'], [46, 'no', 'no', 2, '365-5979'], [148, 'no', 'no', 1, '382-2879'], [112, 'no', 'no', 1, '420-1383'], [78, 'no', 'no', 2, '411-7390'], [61, 'no', 'yes', 0, '383-8848'], [58, 'no', 'yes', 1, '387-9301'], [155, 'no', 'no', 1, '399-3164'], [100, 'no', 'no', 0, '385-8997'], [113, 'no', 'no', 1, '352-6573'], [81, 'no', 'no', 2, '408-3384'], [135, 'no', 'yes', 1, '419-6033'], [99, 'no', 'no', 0, '336-2090'], [59, 'no', 'yes', 1, '343-7242'], [135, 'no', 'no', 1, '376-1713'], [85, 'yes', 'no', 2, '381-5878'], [70, 'no', 'no', 0, '390-5470'], [88, 'no', 'no', 3, '414-4803'], [55, 'no', 'no', 2, '382-5478'], [75, 'no', 'no', 1, '333-7637'], [79, 'no', 'yes', 4, '341-1647'], [85, 'no', 'no', 0, '411-4232'], [86, 'no', 'yes', 0, '339-2616'], [91, 'no', 'no', 0, '327-3850'], [149, 'no', 'yes', 1, '328-7209'], [97, 'no', 'no', 1, '405-6189'], [88, 'no', 'no', 1, '418-6737'], [60, 'no', 'no', 2, '366-2212'], [54, 'no', 'no', 2, '356-1420'], [11, 'no', 'yes', 3, '343-1323'], [109, 'no', 'no', 0, '361-8239'], [90, 'no', 'no', 1, '384-1621'], [115, 'no', 'no', 3, '360-3525'], [144, 'no', 'yes', 1, '392-3813'], [91, 'no', 'no', 0, '337-6898'], [105, 'no', 'yes', 0, '366-8036'], [71, 'yes', 'no', 3, '352-8327'], [132, 'no', 'yes', 3, '334-9505'], [112, 'no', 'no', 1, '336-5702'], [86, 'no', 'yes', 3, '392-2381'], [41, 'no', 'yes', 2, '369-6880'], [44, 'no', 'no', 1, '416-8697'], [78, 'no', 'no', 3, '345-3451'], [149, 'no', 'no', 1, '379-2514'], [72, 'no', 'yes', 4, '418-6651'], [139, 'no', 'yes', 0, '421-3528'], [74, 'no', 'no', 3, '329-9046'], [50, 'no', 'no', 1, '406-3890'], [141, 'no', 'yes', 3, '403-8904'], [140, 'no', 'no', 1, '393-4086'], [99, 'no', 'no', 2, '400-1367'], [166, 'no', 'no', 1, '377-9473'], [124, 'no', 'no', 1, '396-3068'], [74, 'no', 'no', 0, '331-9293'], [117, 'no', 'no', 2, '347-1914'], [85, 'no', 'no', 3, '395-1962'], [36, 'no', 'yes', 0, '401-5485'], [102, 'yes', 'no', 0, '355-6560'], [76, 'no', 'no', 0, '363-3911'], [165, 'no', 'no', 1, '345-1998'], [130, 'no', 'no', 1, '361-5277'], [78, 'no', 'no', 0, '376-7145'], [55, 'yes', 'no', 1, '375-2975'], [92, 'yes', 'no', 2, '376-8573'], [129, 'no', 'yes', 2, '366-7360'], [18, 'no', 'no', 1, '347-7898'], [161, 'yes', 'no', 2, '390-7328'], [93, 'no', 'yes', 2, '356-5491'], [144, 'no', 'no', 2, '373-3251'], [75, 'yes', 'no', 4, '343-1965'], [95, 'no', 'no', 1, '378-8019'], [126, 'no', 'yes', 3, '386-1548'], [124, 'no', 'yes', 1, '397-1649'], [93, 'yes', 'no', 1, '366-7247'], [109, 'yes', 'yes', 0, '402-9691'], [80, 'no', 'no', 0, '334-9806'], [41, 'no', 'no', 1, '378-7733'], [136, 'no', 'yes', 2, '407-2248'], [92, 'no', 'no', 3, '405-3916'], [143, 'no', 'yes', 1, '407-2081'], [118, 'no', 'yes', 5, '397-9148'], [193, 'no', 'yes', 1, '415-4857'], [73, 'no', 'no', 3, '354-7314'], [62, 'no', 'no', 2, '346-5611'], [30, 'no', 'yes', 0, '349-4703'], [60, 'yes', 'yes', 0, '411-7778'], [148, 'no', 'yes', 1, '421-1469'], [96, 'no', 'no', 2, '420-5990'], [52, 'no', 'no', 2, '389-4780'], [87, 'no', 'no', 1, '357-2735'], [41, 'no', 'no', 3, '409-4791'], [112, 'no', 'no', 1, '380-5286'], [88, 'no', 'no', 4, '394-8402'], [122, 'no', 'yes', 7, '392-1616'], [61, 'no', 'no', 2, '364-1969'], [87, 'no', 'no', 1, '390-4152'], [176, 'no', 'no', 2, '367-7039'], [30, 'no', 'no', 0, '391-6607'], [95, 'no', 'yes', 0, '379-6652'], [46, 'no', 'no', 2, '384-1833'], [100, 'yes', 'no', 0, '403-2455'], [47, 'no', 'yes', 2, '391-1348'], [77, 'no', 'no', 2, '408-4174'], [98, 'no', 'yes', 2, '366-4334'], [125, 'no', 'yes', 1, '406-5059'], [67, 'no', 'no', 4, '373-6784'], [194, 'no', 'no', 1, '408-3532'], [128, 'no', 'yes', 1, '350-8680'], [190, 'no', 'yes', 0, '398-9870'], [165, 'no', 'no', 0, '343-3356'], [59, 'no', 'no', 2, '415-4609'], [47, 'no', 'yes', 1, '404-5387'], [150, 'no', 'yes', 0, '415-8151'], [152, 'yes', 'yes', 9, '416-2778'], [26, 'no', 'no', 3, '393-3300'], [79, 'no', 'yes', 3, '391-7661'], [95, 'no', 'yes', 1, '339-4317'], [69, 'yes', 'no', 2, '418-6455'], [95, 'yes', 'yes', 5, '378-3508'], [31, 'no', 'yes', 0, '390-9359'], [121, 'no', 'yes', 4, '364-2495'], [111, 'no', 'no', 4, '364-7719'], [157, 'no', 'no', 2, '421-1189'], [44, 'no', 'no', 3, '419-8987'], [61, 'yes', 'no', 2, '402-9980'], [65, 'no', 'no', 2, '376-5908'], [74, 'no', 'yes', 2, '400-3150'], [123, 'no', 'no', 0, '336-1749'], [58, 'no', 'yes', 1, '420-1259'], [74, 'no', 'no', 2, '339-7541'], [125, 'no', 'no', 2, '378-9029'], [80, 'no', 'no', 1, '342-7514'], [53, 'no', 'yes', 0, '422-4956'], [99, 'no', 'yes', 1, '389-8606'], [99, 'no', 'no', 1, '406-7261'], [66, 'no', 'yes', 2, '417-7973'], [97, 'no', 'no', 3, '390-2891'], [75, 'no', 'yes', 2, '385-7387'], [85, 'yes', 'no', 2, '362-2776'], [108, 'no', 'no', 2, '329-1955'], [133, 'yes', 'yes', 2, '344-3160'], [51, 'no', 'no', 1, '406-2454'], [186, 'no', 'yes', 2, '335-3913'], [44, 'yes', 'no', 1, '355-7705'], [64, 'no', 'yes', 3, '410-7108'], [44, 'no', 'no', 2, '419-1674'], [114, 'no', 'yes', 1, '351-7369'], [92, 'no', 'no', 3, '349-9566'], [110, 'no', 'no', 2, '333-3421'], [90, 'no', 'yes', 1, '393-8199'], [72, 'no', 'yes', 1, '388-4879'], [113, 'no', 'no', 1, '353-6007'], [171, 'no', 'yes', 3, '416-1557'], [104, 'no', 'no', 1, '356-7217'], [165, 'no', 'no', 1, '350-2012'], [104, 'no', 'no', 0, '420-9838'], [110, 'no', 'no', 1, '373-6379'], [90, 'yes', 'no', 1, '355-7293'], [114, 'no', 'no', 1, '406-4588'], [101, 'no', 'no', 5, '345-1524'], [117, 'no', 'yes', 1, '375-8493'], [109, 'no', 'no', 2, '361-2924'], [82, 'no', 'no', 1, '359-6163'], [92, 'no', 'no', 2, '411-8140'], [82, 'no', 'yes', 2, '381-9049'], [90, 'no', 'no', 2, '344-4478'], [87, 'no', 'yes', 1, '360-2690'], [124, 'no', 'no', 3, '410-7383'], [39, 'no', 'no', 2, '356-1889'], [84, 'no', 'no', 1, '341-2360'], [75, 'no', 'yes', 0, '370-3021'], [102, 'no', 'no', 2, '336-4656'], [62, 'yes', 'no', 0, '386-2810'], [143, 'no', 'no', 1, '350-1354'], [53, 'no', 'no', 3, '346-5707'], [30, 'no', 'no', 1, '405-8370'], [112, 'no', 'no', 2, '373-2053'], [129, 'no', 'no', 0, '369-5222'], [63, 'no', 'yes', 1, '347-7420'], [28, 'no', 'no', 0, '392-6856'], [111, 'no', 'no', 3, '371-5556'], [91, 'no', 'no', 3, '334-5337'], [90, 'no', 'no', 1, '334-8817'], [151, 'no', 'no', 4, '339-1405'], [105, 'yes', 'yes', 1, '380-7742'], [41, 'no', 'yes', 2, '329-6191'], [48, 'no', 'yes', 1, '340-3075'], [166, 'yes', 'yes', 2, '416-5849'], [79, 'no', 'no', 3, '334-7443'], [153, 'no', 'no', 1, '394-9121'], [110, 'yes', 'no', 0, '383-1657'], [163, 'no', 'no', 1, '347-4112'], [126, 'no', 'no', 1, '362-8280'], [105, 'no', 'yes', 2, '402-9982'], [172, 'no', 'no', 3, '392-8905'], [126, 'no', 'no', 0, '392-5512'], [97, 'no', 'no', 3, '351-6384'], [95, 'yes', 'yes', 0, '348-8015'], [87, 'no', 'no', 4, '374-6966'], [97, 'no', 'no', 1, '328-2236'], [76, 'no', 'no', 0, '372-6497'], [140, 'no', 'no', 0, '417-8617'], [169, 'no', 'no', 0, '361-9621'], [68, 'no', 'yes', 3, '421-2723'], [122, 'no', 'yes', 2, '327-9341'], [36, 'no', 'no', 2, '383-5474'], [120, 'no', 'yes', 5, '328-8147'], [121, 'no', 'no', 1, '373-5438'], [64, 'no', 'yes', 0, '333-9253'], [13, 'no', 'yes', 1, '347-9421'], [106, 'no', 'no', 0, '419-3167'], [88, 'no', 'no', 2, '414-4162'], [74, 'no', 'no', 1, '416-5341'], [83, 'no', 'no', 0, '368-8600'], [49, 'no', 'no', 0, '336-6085'], [111, 'no', 'yes', 1, '377-1479'], [50, 'no', 'yes', 3, '360-2107'], [153, 'no', 'yes', 0, '405-9384'], [88, 'no', 'no', 1, '420-5179'], [131, 'no', 'yes', 0, '331-3174'], [79, 'no', 'no', 3, '411-5958'], [140, 'no', 'no', 2, '333-8180'], [105, 'no', 'no', 1, '357-2679'], [54, 'no', 'yes', 3, '396-2867'], [87, 'no', 'yes', 3, '341-9443'], [96, 'no', 'yes', 1, '341-4103'], [79, 'no', 'no', 5, '416-8701'], [55, 'no', 'no', 0, '397-6109'], [130, 'no', 'no', 2, '392-5587'], [34, 'no', 'no', 0, '392-9342'], [139, 'no', 'no', 1, '368-2845'], [109, 'no', 'no', 1, '405-4920'], [65, 'no', 'yes', 1, '348-7484'], [63, 'no', 'no', 0, '338-5207'], [152, 'no', 'no', 3, '418-7846'], [147, 'no', 'no', 1, '358-8729'], [112, 'no', 'yes', 2, '349-1943'], [120, 'no', 'no', 2, '368-8283'], [27, 'no', 'no', 0, '345-1419'], [171, 'no', 'no', 1, '358-8025'], [101, 'no', 'yes', 0, '383-8695'], [32, 'no', 'yes', 1, '370-7565'], [3, 'no', 'yes', 2, '401-6162'], [151, 'no', 'no', 0, '386-5303'], [60, 'no', 'no', 3, '351-6552'], [119, 'no', 'no', 1, '345-5338'], [43, 'no', 'no', 1, '330-2849'], [42, 'no', 'no', 0, '364-6801'], [84, 'no', 'no', 1, '375-3003'], [65, 'no', 'no', 0, '383-8878'], [75, 'yes', 'no', 1, '384-2372'], [116, 'no', 'no', 1, '377-7107'], [107, 'no', 'no', 0, '361-1581'], [189, 'no', 'yes', 3, '417-7888'], [123, 'no', 'no', 1, '383-8364'], [110, 'no', 'no', 3, '396-2335'], [63, 'no', 'yes', 1, '408-4530'], [176, 'no', 'no', 3, '408-6621'], [108, 'no', 'no', 1, '393-7522'], [13, 'no', 'yes', 3, '338-7120'], [71, 'no', 'no', 1, '357-4265'], [88, 'no', 'no', 2, '398-8801'], [137, 'no', 'no', 1, '346-2347'], [82, 'no', 'no', 4, '343-2741'], [92, 'no', 'yes', 3, '420-8242'], [165, 'no', 'no', 6, '402-7746'], [96, 'no', 'no', 1, '332-1494'], [156, 'no', 'no', 1, '388-6223'], [63, 'no', 'no', 0, '404-9539'], [37, 'no', 'no', 0, '341-7332'], [98, 'no', 'no', 0, '338-7886'], [121, 'no', 'no', 0, '332-5596'], [94, 'no', 'no', 0, '348-9945'], [99, 'no', 'no', 1, '407-1896'], [163, 'no', 'yes', 1, '398-9408'], [161, 'no', 'no', 3, '369-8005'], [99, 'no', 'no', 1, '346-2530'], [108, 'no', 'no', 1, '400-5984'], [84, 'no', 'yes', 3, '351-1007'], [83, 'yes', 'yes', 2, '345-5980'], [139, 'no', 'no', 2, '368-8964'], [69, 'no', 'no', 3, '358-1912'], [129, 'no', 'no', 4, '379-3132'], [106, 'no', 'no', 2, '340-9910'], [158, 'no', 'no', 2, '396-2719'], [168, 'no', 'yes', 2, '369-6204'], [115, 'yes', 'no', 1, '420-9971'], [57, 'yes', 'yes', 2, '410-3782'], [67, 'no', 'no', 1, '404-4481'], [127, 'no', 'no', 1, '383-9255'], [78, 'no', 'no', 2, '418-9385'], [100, 'no', 'yes', 0, '360-9676'], [103, 'no', 'yes', 6, '327-3587'], [113, 'no', 'no', 1, '385-4715'], [78, 'no', 'no', 3, '414-2695'], [129, 'no', 'yes', 1, '331-5999'], [57, 'no', 'no', 2, '337-7739'], [82, 'no', 'no', 1, '388-6658'], [64, 'no', 'no', 1, '405-6943'], [86, 'no', 'yes', 2, '382-4084'], [151, 'no', 'yes', 0, '352-8249'], [94, 'no', 'no', 3, '353-8363'], [90, 'no', 'no', 2, '416-2825'], [48, 'no', 'no', 2, '342-6696'], [85, 'no', 'yes', 2, '338-9210'], [93, 'yes', 'yes', 1, '328-1768'], [169, 'yes', 'no', 3, '406-5870'], [68, 'no', 'no', 5, '398-3834'], [91, 'yes', 'no', 2, '330-7754'], [68, 'no', 'no', 1, '414-9054'], [101, 'no', 'no', 1, '350-2832'], [67, 'no', 'yes', 1, '414-9027'], [66, 'no', 'no', 0, '337-1225'], [116, 'no', 'yes', 5, '394-6577'], [158, 'no', 'no', 1, '359-6995'], [78, 'no', 'no', 1, '377-7561'], [119, 'no', 'yes', 1, '380-6631'], [120, 'no', 'no', 1, '390-8876'], [155, 'no', 'no', 1, '413-2201'], [106, 'no', 'no', 1, '374-2073'], [87, 'yes', 'no', 1, '417-1272'], [146, 'no', 'yes', 3, '358-1129'], [101, 'no', 'yes', 0, '394-1211'], [22, 'no', 'yes', 3, '327-1319'], [90, 'no', 'no', 2, '399-4413'], [41, 'no', 'no', 1, '393-9985'], [69, 'no', 'no', 2, '401-8377'], [33, 'no', 'no', 2, '331-3202'], [112, 'no', 'no', 1, '358-5953'], [108, 'no', 'yes', 2, '380-7624'], [136, 'no', 'yes', 2, '416-5261'], [128, 'no', 'no', 1, '417-5067'], [27, 'no', 'no', 2, '345-6515'], [161, 'yes', 'no', 1, '406-1349'], [33, 'no', 'yes', 0, '360-9038'], [120, 'no', 'yes', 0, '348-3444'], [113, 'no', 'no', 2, '370-2892'], [122, 'yes', 'no', 0, '383-4061'], [148, 'no', 'yes', 2, '391-7937'], [74, 'no', 'no', 3, '389-4083'], [106, 'no', 'no', 1, '410-9633'], [179, 'no', 'no', 1, '418-9502'], [149, 'yes', 'yes', 5, '339-6637'], [77, 'no', 'no', 0, '356-3403'], [127, 'yes', 'no', 1, '371-9457'], [80, 'no', 'no', 1, '391-8087'], [106, 'no', 'no', 1, '392-6420'], [61, 'no', 'yes', 0, '399-4094'], [135, 'yes', 'yes', 2, '378-4013'], [115, 'no', 'yes', 6, '386-6306'], [167, 'yes', 'no', 2, '359-3618'], [107, 'yes', 'no', 2, '340-8875'], [112, 'yes', 'no', 1, '330-2693'], [35, 'no', 'yes', 1, '403-7627'], [103, 'yes', 'no', 3, '342-3678'], [107, 'no', 'yes', 1, '344-9943'], [69, 'no', 'no', 3, '390-5686'], [85, 'no', 'no', 0, '358-5826'], [24, 'no', 'no', 2, '393-7826'], [90, 'no', 'no', 2, '335-9786'], [137, 'no', 'no', 3, '368-9860'], [92, 'yes', 'yes', 0, '416-9522'], [38, 'no', 'no', 2, '416-7307'], [69, 'yes', 'yes', 1, '397-6789'], [45, 'no', 'no', 2, '335-9501'], [73, 'no', 'no', 1, '388-1250'], [92, 'no', 'no', 1, '386-1374'], [113, 'no', 'yes', 1, '346-8112'], [68, 'yes', 'no', 1, '364-9040'], [135, 'no', 'yes', 2, '366-3944'], [100, 'no', 'yes', 1, '331-9861'], [96, 'no', 'yes', 1, '330-2881'], [108, 'no', 'no', 1, '402-9558'], [84, 'no', 'no', 0, '341-3180'], [134, 'no', 'no', 1, '371-8598'], [72, 'no', 'no', 0, '398-8385'], [83, 'no', 'no', 0, '333-4154'], [137, 'no', 'no', 0, '330-3589'], [56, 'no', 'yes', 1, '417-1477'], [61, 'yes', 'yes', 0, '327-5525'], [171, 'no', 'yes', 1, '363-8244'], [123, 'no', 'no', 1, '419-9104'], [58, 'no', 'no', 0, '363-1560'], [156, 'no', 'no', 1, '341-4075'], [166, 'no', 'no', 0, '366-9074'], [75, 'no', 'yes', 1, '367-1424'], [75, 'no', 'no', 2, '341-1191'], [83, 'no', 'no', 1, '342-9480'], [243, 'no', 'no', 2, '355-9360'], [153, 'no', 'no', 1, '343-1538'], [150, 'no', 'no', 1, '335-2331'], [92, 'no', 'yes', 2, '335-7257'], [80, 'no', 'no', 0, '332-2137'], [134, 'no', 'no', 1, '352-2998'], [77, 'no', 'yes', 1, '346-6941'], [147, 'no', 'no', 2, '400-2203'], [74, 'no', 'no', 1, '421-2955'], [138, 'yes', 'no', 1, '331-6629'], [143, 'no', 'no', 0, '343-6314'], [64, 'no', 'no', 2, '414-6638'], [120, 'no', 'no', 2, '350-5883'], [121, 'yes', 'no', 3, '409-4447'], [88, 'no', 'no', 2, '376-4856'], [87, 'no', 'no', 2, '335-1874'], [100, 'no', 'no', 0, '397-6255'], [104, 'no', 'no', 3, '381-5047'], [27, 'no', 'no', 1, '403-6850'], [81, 'no', 'yes', 0, '375-3658'], [64, 'yes', 'yes', 0, '341-2603'], [107, 'no', 'yes', 1, '342-5062'], [88, 'no', 'yes', 1, '354-1558'], [111, 'no', 'no', 3, '351-9537'], [77, 'no', 'no', 5, '401-1252'], [67, 'yes', 'no', 2, '366-9538'], [102, 'no', 'no', 1, '364-7622'], [146, 'no', 'yes', 1, '393-9918'], [144, 'no', 'yes', 1, '376-4484'], [96, 'no', 'no', 1, '410-6791'], [70, 'no', 'yes', 1, '343-2392'], [149, 'no', 'no', 0, '408-4323'], [129, 'no', 'no', 2, '395-1718'], [166, 'no', 'no', 0, '354-9492'], [136, 'yes', 'no', 3, '367-8168'], [149, 'no', 'no', 3, '340-3500'], [70, 'no', 'no', 3, '369-4962'], [120, 'no', 'yes', 2, '334-8967'], [66, 'no', 'no', 2, '402-2377'], [104, 'no', 'no', 1, '366-3917'], [160, 'no', 'no', 1, '333-3531'], [129, 'no', 'yes', 1, '333-8954'], [93, 'no', 'no', 3, '374-9203'], [169, 'no', 'no', 2, '334-3289'], [58, 'no', 'no', 1, '353-7822'], [75, 'no', 'yes', 3, '350-1422'], [45, 'no', 'no', 1, '385-8406'], [155, 'no', 'no', 3, '380-7277'], [52, 'no', 'no', 4, '352-1798'], [119, 'no', 'yes', 0, '385-7922'], [86, 'no', 'no', 1, '353-7730'], [42, 'no', 'no', 0, '337-7163'], [127, 'yes', 'no', 2, '348-5567'], [123, 'no', 'no', 0, '420-9575'], [98, 'no', 'no', 4, '366-3358'], [149, 'no', 'yes', 1, '359-9972'], [160, 'no', 'no', 1, '387-3332'], [103, 'no', 'no', 5, '354-6960'], [132, 'no', 'yes', 1, '405-3335'], [137, 'no', 'no', 1, '379-4257'], [129, 'yes', 'no', 1, '355-4992'], [62, 'no', 'no', 1, '383-6373'], [122, 'no', 'yes', 4, '382-7993'], [32, 'no', 'no', 1, '422-5865'], [86, 'no', 'no', 3, '410-9961'], [130, 'no', 'no', 1, '343-9946'], [42, 'no', 'no', 1, '357-7060'], [73, 'no', 'no', 2, '355-9541'], [66, 'no', 'yes', 2, '378-4145'], [103, 'no', 'yes', 0, '386-2317'], [128, 'no', 'no', 1, '335-8146'], [104, 'no', 'no', 2, '377-2235'], [103, 'no', 'no', 0, '386-9141'], [124, 'no', 'no', 0, '416-5623'], [87, 'no', 'no', 1, '327-3053'], [109, 'no', 'yes', 1, '395-6195'], [167, 'yes', 'no', 2, '397-8772'], [97, 'no', 'no', 4, '346-7656'], [106, 'no', 'no', 2, '343-2350'], [125, 'no', 'no', 2, '372-4722'], [108, 'no', 'yes', 0, '399-8615'], [125, 'no', 'no', 1, '379-8248'], [89, 'no', 'yes', 1, '414-6219'], [72, 'yes', 'yes', 0, '387-1343'], [23, 'no', 'no', 2, '370-5527'], [149, 'no', 'no', 7, '393-8736'], [73, 'no', 'no', 0, '402-7626'], [61, 'no', 'no', 1, '370-2688'], [161, 'no', 'no', 4, '418-9036'], [73, 'no', 'no', 0, '417-2035'], [118, 'no', 'yes', 1, '355-3602'], [23, 'no', 'no', 6, '393-4027'], [127, 'no', 'yes', 0, '418-5141'], [42, 'no', 'yes', 0, '406-1247'], [118, 'no', 'no', 5, '402-3892'], [45, 'no', 'no', 2, '332-2965'], [50, 'no', 'yes', 1, '377-1218'], [179, 'no', 'no', 0, '355-2464'], [152, 'no', 'no', 2, '404-4611'], [105, 'no', 'no', 2, '373-2339'], [72, 'no', 'no', 0, '410-3503'], [52, 'no', 'no', 1, '410-4739'], [125, 'no', 'no', 1, '365-3562'], [143, 'no', 'no', 1, '387-7641'], [65, 'no', 'no', 1, '385-9744'], [80, 'no', 'no', 1, '398-5006'], [1, 'no', 'no', 1, '408-3977'], [60, 'no', 'no', 1, '334-2729'], [43, 'no', 'no', 1, '334-7685'], [143, 'no', 'no', 0, '350-9228'], [81, 'no', 'yes', 0, '407-5774'], [205, 'no', 'yes', 2, '413-4039'], [24, 'no', 'no', 1, '343-2077'], [74, 'no', 'no', 0, '336-5661'], [77, 'no', 'no', 1, '355-4143'], [74, 'no', 'no', 1, '366-5918'], [74, 'yes', 'no', 1, '368-7555'], [200, 'no', 'no', 1, '408-2119'], [86, 'no', 'no', 4, '329-2789'], [91, 'no', 'yes', 0, '334-1508'], [76, 'no', 'no', 2, '337-1506'], [130, 'no', 'no', 1, '396-8400'], [56, 'no', 'no', 2, '349-2654'], [117, 'no', 'no', 0, '417-2716'], [63, 'no', 'no', 2, '402-1725'], [126, 'no', 'no', 0, '403-3229'], [132, 'no', 'no', 1, '353-6056'], [81, 'no', 'yes', 4, '399-9802'], [122, 'no', 'no', 2, '366-7069'], [46, 'no', 'no', 2, '332-5949'], [150, 'no', 'yes', 1, '393-6376'], [99, 'no', 'no', 1, '354-7025'], [87, 'no', 'no', 1, '351-6585'], [108, 'no', 'no', 1, '330-5462'], [101, 'no', 'no', 4, '407-2292'], [53, 'no', 'no', 3, '340-3011'], [132, 'no', 'yes', 2, '345-9153'], [158, 'no', 'no', 2, '379-5503'], [114, 'no', 'yes', 0, '389-6790'], [77, 'no', 'yes', 2, '408-3610'], [144, 'yes', 'no', 0, '375-8238'], [91, 'no', 'yes', 3, '378-5633'], [58, 'no', 'no', 2, '389-9120'], [5, 'no', 'no', 3, '380-2758'], [97, 'no', 'no', 0, '402-2728'], [107, 'no', 'no', 3, '354-9062'], [142, 'no', 'yes', 1, '417-2054'], [9, 'no', 'yes', 1, '353-1941'], [73, 'no', 'no', 0, '328-1522'], [48, 'no', 'yes', 2, '408-4529'], [43, 'no', 'no', 0, '417-5320'], [122, 'no', 'yes', 1, '370-9755'], [93, 'no', 'no', 0, '372-4835'], [85, 'no', 'no', 1, '334-6605'], [59, 'no', 'no', 3, '399-5564'], [87, 'no', 'no', 1, '392-2887'], [137, 'no', 'no', 0, '328-2110'], [21, 'no', 'yes', 6, '383-5976'], [129, 'no', 'no', 0, '332-6181'], [104, 'no', 'no', 0, '330-5255'], [93, 'no', 'yes', 4, '413-5190'], [63, 'no', 'no', 4, '394-7447'], [161, 'no', 'no', 0, '353-7096'], [50, 'no', 'no', 3, '395-6002'], [103, 'no', 'yes', 1, '372-9816'], [84, 'no', 'yes', 1, '400-7253'], [92, 'no', 'no', 1, '344-7470'], [77, 'no', 'no', 1, '378-8572'], [64, 'yes', 'no', 1, '345-9140'], [159, 'no', 'yes', 1, '340-5460'], [110, 'yes', 'yes', 1, '369-8024'], [138, 'no', 'no', 3, '395-8595'], [178, 'no', 'no', 1, '359-4587'], [38, 'no', 'yes', 0, '375-5439'], [50, 'no', 'yes', 2, '361-3779'], [45, 'no', 'yes', 1, '375-8934'], [70, 'no', 'no', 0, '395-4757'], [147, 'no', 'yes', 3, '421-7205'], [94, 'no', 'no', 1, '379-8805'], [179, 'no', 'no', 0, '348-2150'], [116, 'no', 'no', 2, '417-9128'], [59, 'no', 'no', 0, '351-4226'], [165, 'no', 'no', 0, '330-6630'], [133, 'no', 'no', 2, '387-9137'], [140, 'no', 'no', 1, '372-3987'], [93, 'no', 'yes', 2, '408-5183'], [52, 'no', 'yes', 0, '412-9357'], [64, 'no', 'yes', 1, '402-3599'], [12, 'yes', 'no', 2, '379-5211'], [48, 'no', 'no', 2, '405-9217'], [181, 'no', 'no', 1, '340-9200'], [168, 'no', 'yes', 2, '339-9026'], [155, 'no', 'no', 3, '343-4772'], [105, 'no', 'no', 0, '345-2108'], [11, 'no', 'no', 2, '401-4650'], [182, 'no', 'no', 2, '400-3945'], [104, 'no', 'no', 1, '338-3781'], [102, 'no', 'no', 0, '342-6316'], [122, 'no', 'no', 0, '336-5920'], [41, 'no', 'no', 1, '332-1060'], [132, 'no', 'no', 2, '418-3426'], [76, 'no', 'no', 1, '408-6326'], [13, 'no', 'no', 1, '334-6142'], [115, 'no', 'yes', 2, '336-6128'], [67, 'no', 'no', 1, '406-6708'], [154, 'no', 'no', 0, '388-8670'], [100, 'no', 'no', 2, '363-5853'], [146, 'yes', 'no', 1, '383-6544'], [148, 'no', 'yes', 1, '378-2940'], [67, 'no', 'yes', 2, '338-7683'], [161, 'yes', 'no', 1, '329-2786'], [70, 'no', 'no', 1, '369-9465'], [116, 'no', 'no', 0, '337-3769'], [99, 'no', 'yes', 2, '400-6257'], [87, 'no', 'no', 1, '411-6663'], [87, 'no', 'no', 1, '384-3101'], [70, 'no', 'no', 2, '339-5329'], [131, 'no', 'no', 2, '388-9944'], [119, 'no', 'no', 2, '403-1769'], [119, 'no', 'yes', 3, '390-1612'], [87, 'yes', 'no', 0, '421-7214'], [112, 'no', 'no', 5, '338-6962'], [75, 'no', 'no', 2, '333-9826'], [150, 'no', 'no', 4, '411-8549'], [161, 'no', 'yes', 0, '381-9234'], [91, 'yes', 'yes', 0, '387-9855'], [124, 'no', 'no', 3, '371-6990'], [94, 'yes', 'no', 4, '417-3046'], [217, 'no', 'no', 4, '385-7082'], [158, 'no', 'no', 0, '365-5886'], [102, 'no', 'no', 0, '373-5196'], [85, 'no', 'no', 0, '327-6194'], [79, 'no', 'no', 1, '381-4565'], [139, 'no', 'yes', 2, '357-9832'], [103, 'no', 'no', 0, '396-4845'], [98, 'yes', 'no', 1, '378-6772'], [78, 'no', 'no', 2, '353-4296'], [50, 'no', 'no', 1, '362-8331'], [161, 'no', 'no', 1, '362-4685'], [67, 'no', 'no', 0, '383-1431'], [86, 'no', 'yes', 1, '332-2258'], [92, 'no', 'no', 0, '375-8304'], [174, 'no', 'no', 1, '340-5580'], [124, 'no', 'no', 1, '362-1490'], [132, 'no', 'yes', 1, '336-4281'], [190, 'no', 'yes', 1, '361-1315'], [101, 'no', 'no', 1, '342-5906'], [185, 'yes', 'yes', 2, '405-7904'], [68, 'no', 'yes', 0, '349-4762'], [117, 'no', 'yes', 0, '385-3263'], [118, 'no', 'no', 1, '405-9496'], [124, 'no', 'no', 0, '396-6775'], [22, 'no', 'no', 1, '393-6475'], [75, 'no', 'no', 1, '379-7779'], [134, 'no', 'no', 1, '408-8650'], [164, 'no', 'yes', 1, '400-3497'], [44, 'no', 'no', 1, '407-9244'], [177, 'no', 'no', 2, '406-8809'], [110, 'no', 'no', 0, '358-1778'], [53, 'no', 'yes', 1, '337-4339'], [108, 'no', 'no', 4, '344-7197'], [80, 'no', 'no', 0, '333-7631'], [158, 'no', 'no', 1, '372-6623'], [114, 'no', 'no', 0, '363-2602'], [64, 'no', 'yes', 1, '387-7757'], [88, 'no', 'no', 3, '397-5381'], [82, 'yes', 'no', 3, '406-4604'], [111, 'no', 'no', 3, '376-9513'], [60, 'no', 'no', 2, '360-1852'], [113, 'no', 'no', 3, '421-7270'], [109, 'no', 'no', 1, '371-9482'], [105, 'no', 'yes', 0, '337-4101'], [85, 'no', 'no', 2, '420-2796'], [131, 'no', 'no', 0, '366-4225'], [59, 'no', 'no', 2, '398-4567'], [148, 'no', 'no', 1, '388-4571'], [210, 'no', 'no', 2, '360-8666'], [115, 'no', 'no', 0, '333-3704'], [106, 'no', 'no', 1, '383-2566'], [93, 'no', 'no', 1, '406-5584'], [57, 'no', 'yes', 1, '344-4691'], [98, 'no', 'no', 1, '347-9737'], [157, 'no', 'no', 3, '333-7961'], [116, 'no', 'yes', 1, '364-2439'], [30, 'no', 'no', 2, '411-8043'], [111, 'no', 'no', 4, '332-5084'], [52, 'no', 'no', 0, '413-4831'], [72, 'no', 'no', 4, '343-4806'], [135, 'no', 'yes', 2, '401-8735'], [86, 'no', 'no', 3, '391-8626'], [98, 'no', 'yes', 3, '327-5817'], [151, 'no', 'no', 3, '381-4712'], [118, 'no', 'no', 0, '335-3320'], [117, 'no', 'no', 2, '415-8780'], [55, 'no', 'no', 0, '362-1146'], [82, 'no', 'no', 0, '352-7413'], [152, 'no', 'no', 1, '387-6716'], [108, 'no', 'yes', 1, '352-1127'], [98, 'no', 'no', 1, '368-1288'], [130, 'no', 'no', 3, '403-5279'], [136, 'yes', 'no', 1, '397-9333'], [47, 'no', 'no', 3, '411-7353'], [189, 'no', 'no', 3, '383-2537'], [107, 'no', 'no', 1, '330-4419'], [91, 'no', 'no', 5, '390-7930'], [159, 'no', 'no', 1, '362-5111'], [11, 'no', 'yes', 2, '358-6796'], [167, 'no', 'no', 1, '409-7494'], [111, 'no', 'no', 2, '400-1636'], [99, 'no', 'yes', 2, '389-2747'], [159, 'no', 'yes', 0, '415-2176'], [114, 'yes', 'yes', 2, '377-8067'], [71, 'no', 'no', 2, '362-7835'], [122, 'no', 'no', 1, '361-5225'], [100, 'no', 'yes', 1, '333-3447'], [83, 'no', 'yes', 1, '341-3044'], [64, 'no', 'no', 5, '350-7306'], [105, 'no', 'no', 1, '353-8849'], [144, 'no', 'yes', 2, '402-3476'], [106, 'yes', 'yes', 1, '338-6018'], [19, 'no', 'yes', 1, '409-3520'], [46, 'no', 'no', 1, '357-1085'], [127, 'no', 'no', 2, '353-3285'], [9, 'no', 'yes', 1, '409-9885'], [157, 'no', 'no', 1, '388-7701'], [105, 'no', 'no', 6, '385-8184'], [105, 'no', 'yes', 0, '345-2863'], [155, 'no', 'no', 2, '353-6300'], [31, 'no', 'no', 0, '389-5649'], [161, 'no', 'no', 1, '378-8137'], [95, 'no', 'yes', 0, '340-4627'], [122, 'no', 'no', 3, '352-6833'], [37, 'yes', 'no', 2, '420-2000'], [132, 'no', 'no', 5, '368-5437'], [119, 'no', 'yes', 0, '418-8170'], [16, 'no', 'no', 1, '403-9417'], [99, 'no', 'no', 1, '330-6165'], [76, 'no', 'yes', 1, '412-4185'], [167, 'no', 'no', 4, '409-4734'], [129, 'no', 'no', 1, '348-9828'], [116, 'no', 'no', 1, '418-8850'], [60, 'yes', 'no', 1, '330-8351'], [128, 'no', 'no', 0, '347-7773'], [47, 'no', 'yes', 0, '392-6841'], [40, 'yes', 'no', 3, '354-2189'], [173, 'no', 'no', 0, '349-9060'], [157, 'no', 'yes', 1, '334-1311'], [66, 'no', 'yes', 2, '415-3120'], [50, 'yes', 'yes', 0, '387-5891'], [72, 'no', 'no', 3, '368-8026'], [130, 'no', 'no', 1, '332-9446'], [143, 'no', 'no', 1, '393-5284'], [89, 'yes', 'no', 1, '376-1677'], [108, 'no', 'no', 0, '392-2268'], [32, 'no', 'no', 1, '396-4311'], [166, 'no', 'no', 2, '363-4005'], [109, 'no', 'no', 1, '344-9966'], [72, 'no', 'yes', 1, '337-7377'], [134, 'no', 'yes', 0, '373-7037'], [13, 'no', 'no', 4, '356-7580'], [90, 'no', 'no', 3, '390-3401'], [111, 'no', 'yes', 3, '350-9313'], [101, 'no', 'yes', 1, '420-9009'], [72, 'no', 'no', 0, '415-2641'], [67, 'no', 'yes', 1, '392-4929'], [172, 'no', 'no', 3, '346-5068'], [154, 'no', 'yes', 2, '389-2631'], [69, 'no', 'no', 2, '368-3808'], [123, 'no', 'no', 3, '406-8599'], [130, 'no', 'yes', 0, '386-7456'], [142, 'no', 'yes', 2, '357-4936'], [29, 'no', 'no', 1, '397-7411'], [87, 'no', 'yes', 0, '353-6218'], [149, 'no', 'no', 0, '369-5942'], [146, 'yes', 'no', 2, '416-8543'], [88, 'yes', 'no', 4, '358-4576'], [119, 'yes', 'yes', 5, '352-5118'], [48, 'no', 'no', 1, '408-2621'], [135, 'no', 'no', 1, '353-3994'], [100, 'no', 'no', 1, '367-4277'], [98, 'no', 'no', 4, '354-3237'], [75, 'no', 'yes', 2, '394-8504'], [180, 'no', 'yes', 1, '370-4139'], [100, 'no', 'yes', 1, '382-6135'], [119, 'no', 'yes', 2, '359-5718'], [86, 'no', 'no', 0, '385-3111'], [155, 'no', 'yes', 1, '353-4880'], [78, 'yes', 'no', 1, '343-7019'], [153, 'no', 'no', 1, '419-6133'], [92, 'no', 'yes', 0, '350-7344'], [13, 'no', 'yes', 2, '397-6064'], [154, 'no', 'no', 3, '363-6896'], [144, 'yes', 'yes', 0, '416-9021'], [48, 'no', 'no', 1, '408-3269'], [94, 'no', 'no', 1, '408-9463'], [139, 'no', 'no', 1, '340-7062'], [126, 'no', 'no', 1, '417-4309'], [122, 'no', 'no', 2, '421-2659'], [139, 'no', 'no', 1, '383-2017'], [95, 'no', 'no', 3, '411-6294'], [80, 'no', 'yes', 4, '332-9525'], [131, 'no', 'yes', 3, '401-5012'], [36, 'no', 'no', 1, '368-8835'], [180, 'no', 'no', 2, '351-1382'], [25, 'no', 'no', 2, '359-7694'], [113, 'no', 'no', 3, '419-5505'], [88, 'no', 'yes', 1, '341-4570'], [120, 'no', 'no', 1, '366-6991'], [74, 'no', 'no', 1, '377-7399'], [109, 'no', 'no', 2, '377-9092'], [162, 'no', 'yes', 0, '373-6681'], [124, 'no', 'yes', 1, '417-7736'], [177, 'no', 'no', 2, '393-2812'], [91, 'no', 'no', 1, '398-3176'], [105, 'no', 'no', 0, '334-8694'], [24, 'no', 'no', 0, '369-5449'], [48, 'no', 'no', 0, '380-5246'], [86, 'no', 'no', 2, '390-3873'], [163, 'no', 'no', 4, '354-4568'], [91, 'no', 'no', 0, '339-6968'], [56, 'no', 'no', 3, '379-5933'], [147, 'yes', 'yes', 3, '365-5682'], [64, 'no', 'no', 2, '382-8518'], [108, 'no', 'yes', 4, '356-8449'], [159, 'no', 'no', 5, '333-3460'], [136, 'yes', 'no', 3, '375-8596'], [116, 'no', 'yes', 1, '384-5907'], [45, 'no', 'yes', 1, '373-2903'], [122, 'no', 'no', 2, '361-7702'], [138, 'no', 'no', 5, '388-5850'], [132, 'no', 'no', 1, '405-6298'], [101, 'yes', 'no', 0, '368-2074'], [58, 'no', 'no', 2, '328-5050'], [81, 'no', 'no', 1, '395-5783'], [87, 'no', 'no', 3, '420-7301'], [116, 'no', 'no', 2, '328-2478'], [85, 'yes', 'no', 4, '381-2460'], [62, 'no', 'yes', 2, '390-9811'], [90, 'no', 'no', 0, '373-5670'], [98, 'no', 'no', 2, '351-7016'], [73, 'no', 'no', 1, '394-9934'], [107, 'yes', 'no', 2, '422-8268'], [55, 'no', 'yes', 2, '373-7690'], [76, 'no', 'yes', 3, '366-9781'], [30, 'no', 'no', 3, '404-5427'], [157, 'no', 'no', 4, '389-9783'], [40, 'no', 'yes', 1, '351-7005'], [72, 'no', 'no', 1, '348-2009'], [95, 'no', 'yes', 1, '340-4236'], [42, 'no', 'no', 0, '348-1528'], [86, 'no', 'no', 1, '365-5039'], [131, 'no', 'no', 0, '411-1810'], [55, 'no', 'yes', 4, '364-7644'], [74, 'no', 'no', 0, '335-9066'], [81, 'yes', 'yes', 1, '362-7581'], [81, 'no', 'no', 4, '346-1095'], [28, 'no', 'no', 6, '357-9136'], [111, 'no', 'no', 0, '390-7863'], [3, 'no', 'yes', 2, '344-2416'], [51, 'no', 'no', 1, '373-1448'], [68, 'no', 'yes', 1, '360-7076'], [163, 'no', 'no', 0, '413-2241'], [87, 'no', 'no', 2, '343-3961'], [58, 'no', 'no', 0, '375-4107'], [109, 'no', 'no', 0, '414-7410'], [111, 'no', 'no', 4, '351-2535'], [144, 'no', 'no', 2, '416-9615'], [135, 'no', 'no', 5, '377-1293'], [109, 'no', 'yes', 4, '388-6479'], [107, 'no', 'yes', 1, '390-2755'], [149, 'no', 'no', 2, '340-5930'], [56, 'no', 'no', 1, '401-3622'], [129, 'no', 'no', 0, '382-1104'], [92, 'no', 'no', 0, '355-9324'], [67, 'no', 'yes', 1, '393-4843'], [120, 'no', 'no', 0, '401-4052'], [166, 'no', 'no', 1, '385-1830'], [66, 'no', 'no', 1, '348-7409'], [76, 'no', 'no', 0, '361-4910'], [79, 'no', 'no', 2, '415-6578'], [98, 'no', 'yes', 2, '395-5015'], [141, 'no', 'yes', 1, '369-6012'], [49, 'no', 'no', 2, '394-4520'], [46, 'no', 'no', 3, '380-5873'], [137, 'no', 'no', 3, '372-5384'], [171, 'no', 'no', 1, '419-1863'], [10, 'no', 'no', 1, '352-5697'], [88, 'no', 'no', 3, '373-4274'], [89, 'no', 'no', 2, '382-4024'], [82, 'no', 'no', 3, '395-9215'], [139, 'no', 'no', 3, '331-9149'], [87, 'no', 'no', 0, '347-3958'], [137, 'yes', 'no', 2, '389-2540'], [45, 'no', 'no', 1, '399-3083'], [90, 'no', 'no', 1, '420-8308'], [103, 'no', 'no', 1, '384-7724'], [100, 'no', 'no', 2, '389-2114'], [110, 'no', 'no', 3, '335-4414'], [124, 'no', 'no', 2, '370-5361'], [10, 'no', 'no', 2, '374-5965'], [89, 'no', 'yes', 2, '420-6414'], [121, 'no', 'no', 2, '392-2708'], [101, 'no', 'no', 3, '352-7234'], [103, 'no', 'yes', 2, '337-9878'], [51, 'no', 'no', 1, '350-7288'], [2, 'yes', 'no', 2, '415-8448'], [111, 'no', 'no', 0, '392-6331'], [118, 'no', 'no', 2, '392-3315'], [17, 'no', 'yes', 6, '382-5401'], [130, 'no', 'no', 2, '389-7012'], [193, 'no', 'no', 2, '411-4714'], [114, 'no', 'no', 1, '343-3846'], [137, 'no', 'no', 2, '370-4395'], [185, 'no', 'yes', 2, '422-4394'], [101, 'no', 'no', 3, '405-1780'], [95, 'no', 'yes', 3, '393-2220'], [7, 'no', 'yes', 1, '355-8299'], [126, 'no', 'no', 1, '379-8681'], [71, 'no', 'no', 0, '409-7034'], [124, 'no', 'no', 3, '358-1922'], [97, 'yes', 'no', 0, '346-1629'], [28, 'no', 'no', 2, '347-1870'], [90, 'yes', 'no', 4, '374-9576'], [190, 'no', 'no', 1, '380-1096'], [31, 'no', 'yes', 1, '396-5790'], [52, 'no', 'yes', 2, '356-5244'], [73, 'no', 'no', 0, '341-1412'], [111, 'no', 'no', 0, '387-7371'], [98, 'no', 'no', 4, '392-2555'], [106, 'yes', 'no', 1, '403-9167'], [111, 'no', 'no', 0, '338-6550'], [59, 'no', 'no', 1, '357-5801'], [71, 'no', 'yes', 2, '403-1953'], [55, 'no', 'no', 0, '357-6039'], [13, 'no', 'no', 1, '388-9653'], [136, 'no', 'yes', 0, '359-2915'], [123, 'no', 'no', 0, '381-4562'], [105, 'no', 'no', 2, '406-2213'], [50, 'no', 'yes', 3, '330-6436'], [118, 'no', 'no', 1, '332-4289'], [97, 'no', 'no', 3, '386-3596'], [51, 'no', 'no', 0, '337-3740'], [73, 'no', 'no', 1, '414-1496'], [35, 'no', 'no', 2, '349-7291'], [64, 'no', 'no', 1, '385-1985'], [63, 'no', 'no', 3, '329-7102'], [117, 'no', 'yes', 3, '394-2553'], [115, 'no', 'no', 1, '339-1330'], [162, 'no', 'no', 1, '398-1959'], [89, 'no', 'no', 3, '408-7015'], [94, 'yes', 'no', 1, '384-9254'], [129, 'no', 'no', 4, '355-9475'], [86, 'no', 'no', 1, '334-1337'], [96, 'no', 'no', 1, '359-1441'], [190, 'no', 'no', 1, '391-5442'], [80, 'no', 'no', 1, '374-1551'], [108, 'no', 'no', 4, '399-6233'], [97, 'no', 'yes', 0, '337-4749'], [84, 'no', 'yes', 0, '403-5552'], [65, 'no', 'no', 4, '405-3097'], [131, 'no', 'yes', 1, '364-9240'], [58, 'yes', 'yes', 1, '404-9348'], [36, 'no', 'no', 3, '336-1462'], [54, 'no', 'no', 1, '364-8981'], [45, 'no', 'no', 1, '412-7606'], [125, 'no', 'yes', 2, '380-6342'], [72, 'no', 'yes', 2, '418-3017'], [141, 'no', 'no', 3, '367-3648'], [113, 'no', 'no', 0, '341-5892'], [20, 'no', 'yes', 0, '334-4678'], [212, 'no', 'no', 1, '366-6751'], [99, 'yes', 'no', 4, '397-8512'], [94, 'no', 'no', 1, '367-9495'], [40, 'no', 'no', 1, '379-2991'], [86, 'no', 'yes', 3, '356-4832'], [101, 'no', 'no', 3, '413-4040'], [170, 'no', 'no', 0, '366-4444'], [105, 'no', 'no', 1, '394-3806'], [103, 'no', 'no', 0, '368-5647'], [140, 'yes', 'yes', 4, '412-1076'], [101, 'no', 'no', 1, '413-7655'], [98, 'no', 'yes', 1, '371-2316'], [104, 'no', 'no', 4, '420-3346'], [115, 'no', 'no', 3, '367-3971'], [112, 'no', 'no', 0, '417-5813'], [70, 'no', 'no', 1, '421-8535'], [126, 'no', 'no', 0, '375-1721'], [87, 'no', 'yes', 3, '331-8484'], [125, 'no', 'no', 4, '366-5829'], [86, 'no', 'no', 1, '367-7906'], [73, 'no', 'yes', 6, '412-2520'], [232, 'no', 'no', 1, '386-9177'], [1, 'no', 'yes', 0, '420-6780'], [133, 'no', 'no', 1, '401-1454'], [103, 'no', 'no', 1, '379-2508'], [131, 'no', 'yes', 1, '353-3492'], [95, 'no', 'yes', 0, '406-4840'], [182, 'no', 'no', 1, '391-7982'], [99, 'no', 'no', 0, '379-9821'], [27, 'no', 'no', 3, '398-7414'], [141, 'no', 'no', 1, '338-8566'], [29, 'yes', 'yes', 2, '397-3058'], [65, 'no', 'no', 2, '389-8096'], [81, 'yes', 'no', 3, '393-6840'], [37, 'no', 'yes', 0, '360-7404'], [107, 'no', 'yes', 1, '411-5740'], [127, 'yes', 'yes', 1, '412-3726'], [78, 'no', 'no', 0, '372-7326'], [55, 'no', 'no', 2, '338-9873'], [86, 'no', 'yes', 2, '383-4322'], [176, 'no', 'no', 2, '401-7654'], [96, 'yes', 'no', 2, '410-5455'], [11, 'no', 'yes', 1, '419-4310'], [48, 'no', 'yes', 1, '367-2056'], [127, 'no', 'no', 1, '363-6695'], [63, 'no', 'no', 0, '374-6217'], [79, 'no', 'no', 1, '337-9569'], [47, 'no', 'yes', 2, '350-9720'], [89, 'yes', 'yes', 0, '380-4080'], [83, 'no', 'yes', 1, '333-7460'], [126, 'yes', 'yes', 4, '378-3722'], [60, 'no', 'no', 2, '353-9339'], [122, 'no', 'no', 0, '386-6535'], [136, 'no', 'no', 1, '403-5575'], [172, 'no', 'yes', 1, '331-5962'], [102, 'no', 'no', 1, '390-9627'], [113, 'yes', 'no', 1, '406-4560'], [79, 'no', 'no', 3, '359-6931'], [55, 'no', 'yes', 1, '331-7342'], [111, 'no', 'yes', 2, '367-2227'], [160, 'no', 'no', 0, '335-8836'], [110, 'no', 'no', 4, '398-6703'], [192, 'no', 'no', 4, '370-8379'], [93, 'no', 'no', 0, '335-3880'], [101, 'no', 'yes', 2, '375-8761'], [77, 'no', 'no', 2, '367-1398'], [105, 'no', 'yes', 2, '395-7857'], [133, 'no', 'yes', 2, '398-8745'], [131, 'no', 'no', 1, '386-3717'], [106, 'no', 'yes', 1, '330-1175'], [118, 'no', 'no', 1, '418-6752'], [125, 'no', 'no', 1, '349-6464'], [95, 'no', 'no', 0, '366-7331'], [80, 'no', 'no', 3, '361-8288'], [145, 'no', 'no', 0, '377-6635'], [37, 'no', 'no', 2, '408-1513'], [87, 'no', 'no', 1, '370-7546'], [69, 'no', 'no', 3, '389-4278'], [83, 'no', 'no', 1, '379-3012'], [195, 'no', 'no', 0, '355-3620'], [67, 'yes', 'yes', 0, '413-7743'], [75, 'no', 'yes', 3, '372-2296'], [123, 'no', 'yes', 0, '333-9728'], [41, 'no', 'yes', 1, '415-6110'], [75, 'no', 'no', 0, '340-9803'], [76, 'yes', 'no', 1, '400-7002'], [86, 'yes', 'no', 1, '395-7435'], [140, 'no', 'no', 0, '336-7143'], [70, 'no', 'no', 3, '352-2175'], [121, 'no', 'yes', 0, '346-6352'], [112, 'no', 'no', 1, '405-7467'], [118, 'no', 'no', 2, '379-8526'], [66, 'no', 'yes', 1, '410-5713'], [78, 'no', 'no', 0, '408-5916'], [129, 'no', 'yes', 2, '370-5626'], [6, 'no', 'no', 3, '408-1331'], [107, 'yes', 'no', 1, '419-9688'], [107, 'yes', 'no', 3, '343-5219'], [138, 'no', 'no', 1, '401-5586'], [103, 'no', 'no', 0, '377-9178'], [116, 'no', 'yes', 0, '345-5639'], [189, 'no', 'no', 2, '336-3488'], [161, 'no', 'no', 2, '414-6426'], [1, 'no', 'no', 1, '335-5591'], [89, 'no', 'no', 1, '421-9144'], [64, 'no', 'no', 1, '422-7728'], [126, 'no', 'yes', 4, '344-3466'], [129, 'no', 'no', 2, '398-7978'], [128, 'no', 'yes', 0, '346-8368'], [81, 'no', 'yes', 3, '392-2722'], [114, 'no', 'no', 1, '393-3274'], [50, 'no', 'no', 0, '339-4636'], [86, 'no', 'no', 3, '349-7138'], [96, 'no', 'no', 1, '363-3295'], [72, 'no', 'no', 0, '407-9830'], [64, 'no', 'yes', 8, '333-8822'], [57, 'yes', 'yes', 2, '419-6418'], [65, 'no', 'no', 2, '351-8955'], [163, 'no', 'no', 1, '338-1840'], [136, 'no', 'no', 2, '336-6997'], [116, 'no', 'no', 1, '408-6266'], [93, 'no', 'no', 3, '332-4291'], [142, 'no', 'yes', 3, '355-7895'], [92, 'no', 'no', 1, '348-2916'], [70, 'no', 'no', 1, '339-8132'], [22, 'no', 'yes', 1, '374-1684'], [37, 'no', 'no', 2, '362-7604'], [51, 'no', 'no', 1, '389-3206'], [174, 'no', 'no', 2, '336-2829'], [68, 'no', 'no', 1, '403-8916'], [130, 'no', 'no', 1, '384-1135'], [104, 'no', 'no', 2, '390-2320'], [134, 'no', 'no', 2, '398-8578'], [108, 'no', 'yes', 2, '393-9424'], [103, 'no', 'no', 3, '417-6330'], [62, 'no', 'no', 1, '340-6339'], [162, 'no', 'no', 2, '380-6571'], [93, 'no', 'yes', 2, '368-6488'], [42, 'no', 'no', 1, '363-2193'], [155, 'no', 'yes', 2, '328-1206'], [36, 'no', 'no', 0, '385-3540'], [143, 'no', 'no', 0, '337-7167'], [197, 'no', 'no', 3, '372-8405'], [81, 'no', 'no', 1, '377-1273'], [138, 'yes', 'no', 4, '380-7816'], [103, 'no', 'yes', 0, '402-6744'], [127, 'yes', 'no', 2, '400-2181'], [136, 'no', 'no', 1, '366-1613'], [99, 'no', 'no', 2, '347-8205'], [95, 'no', 'no', 0, '328-2982'], [118, 'yes', 'yes', 4, '384-8723'], [113, 'no', 'no', 5, '341-7686'], [128, 'yes', 'no', 0, '353-6038'], [117, 'no', 'no', 3, '416-8827'], [48, 'no', 'yes', 3, '418-8450'], [81, 'yes', 'no', 0, '385-7861'], [57, 'no', 'no', 1, '393-3507'], [140, 'no', 'no', 1, '372-5262'], [107, 'no', 'yes', 2, '411-3095'], [56, 'no', 'no', 1, '331-5919'], [159, 'no', 'no', 1, '402-1556'], [102, 'no', 'no', 1, '349-7362'], [107, 'no', 'no', 1, '339-2734'], [106, 'no', 'no', 2, '330-4914'], [225, 'no', 'no', 0, '371-2500'], [75, 'no', 'no', 2, '335-3681'], [86, 'no', 'no', 0, '405-1132'], [169, 'no', 'no', 1, '399-9239'], [122, 'no', 'yes', 2, '350-7227'], [106, 'no', 'no', 0, '384-6654'], [52, 'no', 'yes', 2, '376-4271'], [79, 'no', 'yes', 2, '391-8124'], [135, 'no', 'no', 2, '393-2524'], [70, 'no', 'no', 0, '384-4385'], [80, 'no', 'no', 2, '377-8266'], [37, 'no', 'no', 0, '345-1243'], [161, 'no', 'yes', 1, '394-8086'], [137, 'no', 'no', 1, '348-9145'], [123, 'no', 'no', 0, '376-5201'], [80, 'no', 'yes', 2, '356-2093'], [94, 'no', 'no', 0, '353-2080'], [105, 'no', 'yes', 1, '397-7500'], [73, 'no', 'yes', 0, '414-5786'], [112, 'no', 'no', 2, '388-4282'], [179, 'no', 'no', 1, '415-5132'], [57, 'no', 'no', 1, '352-4541'], [127, 'no', 'yes', 1, '373-5928'], [122, 'yes', 'yes', 1, '406-7737'], [33, 'no', 'yes', 1, '332-7607'], [94, 'no', 'no', 3, '359-7788'], [100, 'no', 'no', 1, '384-1549'], [106, 'no', 'no', 2, '352-8508'], [148, 'no', 'yes', 2, '404-1002'], [120, 'no', 'yes', 0, '414-2905'], [91, 'no', 'yes', 1, '380-9849'], [86, 'no', 'no', 1, '387-6498'], [78, 'no', 'yes', 0, '360-6024'], [94, 'no', 'no', 1, '352-5815'], [85, 'no', 'no', 2, '366-2273'], [89, 'no', 'no', 1, '414-9119'], [128, 'no', 'no', 1, '409-8796'], [115, 'yes', 'no', 1, '337-2442'], [76, 'no', 'no', 1, '404-1931'], [75, 'no', 'yes', 1, '367-9765'], [90, 'no', 'yes', 2, '378-7299'], [30, 'no', 'no', 3, '410-5192'], [105, 'yes', 'no', 1, '405-1108'], [102, 'no', 'yes', 3, '392-1734'], [83, 'no', 'no', 3, '395-6030'], [63, 'no', 'yes', 0, '330-5168'], [155, 'no', 'no', 2, '334-3142'], [82, 'no', 'yes', 2, '362-9983'], [87, 'no', 'no', 1, '414-2606'], [115, 'no', 'yes', 0, '402-4501'], [99, 'yes', 'no', 0, '387-2604'], [121, 'yes', 'yes', 3, '400-3343'], [54, 'no', 'yes', 2, '353-2450'], [105, 'no', 'no', 3, '406-2032'], [73, 'no', 'no', 1, '409-4462'], [95, 'no', 'no', 0, '392-5941'], [21, 'no', 'yes', 3, '334-9182'], [163, 'no', 'yes', 2, '346-3445'], [57, 'no', 'no', 0, '368-9507'], [104, 'yes', 'no', 4, '382-3966'], [83, 'no', 'yes', 0, '334-5844'], [141, 'no', 'no', 2, '362-9411'], [95, 'no', 'no', 3, '390-3565'], [184, 'no', 'no', 1, '417-4810'], [74, 'no', 'no', 2, '384-3389'], [67, 'no', 'no', 0, '414-9717'], [104, 'yes', 'no', 0, '357-1700'], [71, 'no', 'yes', 1, '376-7207'], [149, 'no', 'no', 4, '368-7706'], [154, 'no', 'yes', 0, '346-4216'], [138, 'no', 'yes', 0, '370-9533'], [117, 'no', 'no', 1, '372-1493'], [130, 'no', 'no', 1, '387-6031'], [73, 'no', 'no', 2, '366-6248'], [100, 'no', 'yes', 0, '369-3756'], [149, 'no', 'no', 1, '363-1719'], [29, 'no', 'no', 2, '402-6666'], [131, 'no', 'no', 1, '408-9779'], [153, 'no', 'no', 2, '407-2441'], [84, 'no', 'no', 2, '384-5027'], [133, 'no', 'no', 2, '380-3161'], [112, 'no', 'no', 0, '360-8135'], [87, 'no', 'no', 0, '399-5426'], [72, 'no', 'no', 2, '385-2564'], [66, 'no', 'no', 4, '337-8618'], [65, 'no', 'yes', 1, '354-8491'], [74, 'no', 'no', 2, '394-6278'], [116, 'no', 'no', 6, '405-2276'], [68, 'no', 'no', 2, '376-1000'], [68, 'no', 'no', 3, '397-1659'], [54, 'yes', 'no', 1, '379-3953'], [99, 'no', 'no', 1, '418-6512'], [107, 'no', 'no', 3, '392-5296'], [124, 'no', 'no', 1, '355-3814'], [95, 'no', 'yes', 3, '375-2098'], [173, 'no', 'no', 0, '372-7990'], [110, 'no', 'no', 1, '356-4558'], [102, 'no', 'no', 0, '398-5788'], [130, 'no', 'no', 0, '390-4003'], [91, 'no', 'yes', 1, '332-8103'], [64, 'yes', 'no', 1, '406-9926'], [176, 'no', 'yes', 1, '418-2402'], [93, 'yes', 'no', 1, '384-3299'], [84, 'no', 'yes', 1, '378-9090'], [138, 'no', 'no', 3, '350-6473'], [101, 'no', 'yes', 1, '379-4583'], [136, 'no', 'no', 2, '411-5078'], [111, 'no', 'no', 2, '347-4982'], [132, 'no', 'yes', 0, '341-9274'], [128, 'no', 'no', 3, '353-7461'], [92, 'no', 'yes', 1, '371-7366'], [197, 'yes', 'no', 5, '395-7923'], [191, 'no', 'no', 1, '351-8398'], [99, 'no', 'yes', 2, '329-2204'], [106, 'no', 'yes', 3, '407-7507'], [88, 'no', 'no', 2, '405-8075'], [78, 'no', 'no', 0, '390-9698'], [98, 'no', 'no', 1, '403-4917'], [17, 'no', 'yes', 1, '391-6709'], [56, 'no', 'yes', 1, '389-5988'], [84, 'no', 'no', 2, '372-1534'], [95, 'no', 'no', 2, '395-6369'], [16, 'no', 'no', 5, '400-3197'], [76, 'yes', 'no', 1, '377-4169'], [93, 'no', 'no', 0, '384-5343'], [83, 'no', 'no', 2, '338-4472'], [123, 'no', 'no', 1, '332-2126'], [64, 'no', 'no', 1, '349-2157'], [82, 'no', 'no', 0, '393-4823'], [107, 'no', 'no', 2, '385-2683'], [110, 'no', 'no', 1, '345-8350'], [96, 'no', 'yes', 1, '334-4506'], [47, 'no', 'yes', 2, '332-3544'], [115, 'no', 'no', 2, '380-5102'], [69, 'no', 'no', 3, '395-6149'], [163, 'no', 'yes', 2, '398-8122'], [90, 'no', 'no', 3, '334-4438'], [98, 'no', 'no', 3, '384-7459'], [90, 'no', 'yes', 1, '368-3931'], [174, 'no', 'yes', 1, '353-1352'], [95, 'no', 'no', 2, '348-5725'], [79, 'no', 'no', 1, '365-2008'], [123, 'no', 'yes', 1, '393-3635'], [99, 'no', 'no', 7, '380-8727'], [114, 'no', 'no', 2, '381-2376'], [141, 'no', 'no', 1, '365-8114'], [132, 'no', 'no', 1, '415-5008'], [133, 'no', 'no', 0, '392-8318'], [133, 'no', 'no', 4, '401-4007'], [93, 'no', 'yes', 2, '338-7709'], [34, 'no', 'no', 2, '374-1981'], [140, 'no', 'no', 4, '333-5101'], [96, 'no', 'yes', 2, '345-3734'], [144, 'no', 'no', 1, '384-5004'], [24, 'no', 'yes', 3, '341-9396'], [54, 'no', 'no', 1, '408-6302'], [50, 'no', 'no', 5, '348-7193'], [92, 'no', 'yes', 4, '417-4063'], [96, 'no', 'no', 3, '375-6911'], [146, 'no', 'no', 2, '358-3604'], [138, 'yes', 'yes', 0, '339-7485'], [102, 'no', 'no', 4, '368-3078'], [76, 'no', 'no', 5, '418-7055'], [99, 'no', 'no', 3, '386-9981'], [83, 'no', 'yes', 0, '366-2541'], [36, 'no', 'yes', 1, '335-3110'], [70, 'no', 'no', 1, '400-7809'], [109, 'yes', 'no', 2, '404-3106'], [100, 'no', 'no', 2, '333-2337'], [104, 'no', 'no', 1, '353-6482'], [106, 'no', 'no', 1, '397-8162'], [84, 'no', 'no', 1, '380-6722'], [80, 'no', 'no', 2, '329-2918'], [100, 'no', 'no', 1, '348-8022'], [99, 'no', 'no', 2, '388-4459'], [50, 'no', 'no', 1, '358-3114'], [105, 'no', 'no', 1, '343-9654'], [113, 'no', 'yes', 4, '401-9909'], [111, 'no', 'yes', 2, '404-9978'], [161, 'no', 'no', 2, '397-8011'], [70, 'no', 'no', 0, '341-8719'], [97, 'no', 'yes', 3, '408-1242'], [130, 'no', 'no', 0, '406-7726'], [92, 'no', 'no', 1, '351-2773'], [119, 'no', 'no', 0, '368-6174'], [115, 'no', 'no', 1, '334-5029'], [134, 'no', 'no', 0, '413-1789'], [127, 'no', 'yes', 0, '414-1246'], [80, 'no', 'no', 2, '330-4978'], [153, 'no', 'yes', 0, '386-1631'], [85, 'no', 'no', 3, '363-1208'], [79, 'no', 'no', 1, '334-5263'], [35, 'no', 'no', 1, '361-4137'], [120, 'no', 'yes', 0, '374-8187'], [68, 'no', 'no', 0, '370-1525'], [60, 'no', 'no', 1, '355-3801'], [120, 'no', 'no', 1, '392-5605'], [71, 'no', 'yes', 1, '363-1366'], [124, 'no', 'no', 3, '358-5274'], [23, 'no', 'no', 1, '376-9607'], [225, 'no', 'no', 1, '374-1213'], [181, 'yes', 'no', 0, '421-8537'], [63, 'no', 'no', 2, '351-5576'], [54, 'yes', 'no', 2, '407-7258'], [80, 'yes', 'yes', 1, '405-4420'], [118, 'yes', 'yes', 1, '340-2855'], [42, 'yes', 'no', 2, '342-8002'], [134, 'no', 'no', 0, '355-6826'], [66, 'no', 'yes', 0, '402-3886'], [66, 'no', 'no', 2, '336-5900'], [127, 'no', 'yes', 1, '339-7684'], [146, 'no', 'no', 0, '390-2433'], [93, 'no', 'yes', 1, '360-7246'], [77, 'no', 'no', 0, '335-6508'], [111, 'no', 'no', 4, '348-6720'], [125, 'no', 'no', 2, '406-6400'], [115, 'no', 'yes', 2, '390-7370'], [115, 'yes', 'no', 2, '390-5055'], [114, 'no', 'no', 2, '405-7542'], [106, 'no', 'no', 0, '364-4927'], [118, 'no', 'yes', 2, '329-3458'], [59, 'no', 'no', 1, '331-3842'], [87, 'yes', 'yes', 1, '343-4147'], [21, 'no', 'no', 1, '335-2274'], [142, 'no', 'yes', 0, '343-3227'], [62, 'no', 'no', 0, '336-6907'], [149, 'no', 'no', 3, '331-1391'], [54, 'no', 'yes', 2, '360-1643'], [112, 'no', 'no', 1, '410-2518'], [68, 'no', 'no', 1, '344-4970'], [201, 'no', 'yes', 1, '408-1486'], [88, 'no', 'no', 1, '396-1648'], [85, 'no', 'yes', 1, '391-2022'], [51, 'yes', 'no', 0, '420-6465'], [45, 'no', 'yes', 2, '398-2628'], [116, 'no', 'no', 0, '409-5519'], [146, 'no', 'yes', 1, '391-8554'], [63, 'no', 'yes', 1, '395-1693'], [133, 'no', 'no', 0, '393-3194'], [125, 'no', 'no', 2, '328-3402'], [72, 'no', 'no', 1, '411-4781'], [130, 'no', 'no', 0, '401-2581'], [97, 'no', 'no', 1, '385-1214'], [54, 'no', 'no', 1, '348-6853'], [160, 'no', 'yes', 1, '341-8412'], [79, 'no', 'no', 1, '330-8142'], [92, 'no', 'yes', 0, '361-1404'], [59, 'no', 'no', 1, '375-9671'], [132, 'no', 'no', 1, '372-1824'], [21, 'no', 'no', 0, '408-3606'], [93, 'no', 'no', 2, '333-3595'], [147, 'no', 'yes', 5, '379-7009'], [101, 'no', 'no', 1, '411-4940'], [125, 'yes', 'no', 0, '409-7523'], [63, 'no', 'no', 3, '408-6725'], [107, 'no', 'no', 0, '350-2384'], [110, 'no', 'no', 3, '348-1706'], [83, 'no', 'no', 3, '415-6145'], [117, 'no', 'no', 1, '373-3731'], [124, 'no', 'no', 0, '341-3349'], [115, 'no', 'no', 3, '399-8859'], [156, 'yes', 'no', 1, '377-4518'], [89, 'no', 'no', 0, '341-1594'], [72, 'no', 'no', 0, '418-8770'], [101, 'no', 'yes', 0, '332-9118'], [53, 'no', 'no', 2, '386-1418'], [116, 'no', 'no', 2, '393-3535'], [78, 'no', 'no', 3, '328-9006'], [117, 'no', 'yes', 0, '402-2482'], [56, 'no', 'no', 1, '408-4865'], [123, 'no', 'yes', 1, '396-6247'], [127, 'no', 'no', 2, '396-9462'], [116, 'no', 'yes', 2, '396-9279'], [138, 'no', 'yes', 1, '363-8715'], [120, 'no', 'no', 3, '356-1358'], [102, 'no', 'no', 3, '360-7839'], [95, 'no', 'no', 2, '364-8774'], [102, 'no', 'no', 2, '348-5038'], [89, 'no', 'yes', 1, '365-4728'], [50, 'no', 'no', 1, '351-9037'], [93, 'no', 'yes', 7, '397-9184'], [68, 'no', 'no', 1, '398-4538'], [70, 'no', 'no', 2, '382-6827'], [138, 'no', 'yes', 0, '408-1340'], [141, 'no', 'yes', 4, '333-9511'], [112, 'no', 'yes', 0, '358-7379'], [117, 'yes', 'no', 1, '397-1766'], [1, 'no', 'yes', 1, '331-2144'], [70, 'no', 'no', 1, '345-7014'], [87, 'no', 'yes', 2, '395-1898'], [52, 'no', 'yes', 2, '373-8920'], [97, 'no', 'no', 0, '373-8908'], [105, 'no', 'no', 2, '415-1203'], [77, 'no', 'yes', 4, '369-7017'], [80, 'yes', 'no', 2, '420-8435'], [120, 'no', 'yes', 1, '395-2579'], [54, 'no', 'yes', 2, '405-7850'], [148, 'yes', 'no', 2, '394-7710'], [119, 'no', 'no', 2, '342-4122'], [162, 'no', 'yes', 1, '340-1876'], [85, 'no', 'no', 5, '383-6095'], [101, 'no', 'yes', 1, '413-1061'], [172, 'no', 'no', 0, '343-5347'], [80, 'no', 'no', 1, '376-4861'], [67, 'no', 'no', 2, '417-2265'], [86, 'no', 'no', 1, '419-7415'], [107, 'no', 'no', 1, '407-2259'], [133, 'no', 'no', 0, '333-2906'], [116, 'no', 'no', 0, '360-7477'], [63, 'no', 'no', 0, '342-5243'], [119, 'yes', 'yes', 0, '417-3999'], [133, 'yes', 'no', 0, '379-1720'], [94, 'yes', 'no', 1, '368-3117'], [69, 'no', 'no', 0, '352-5000'], [146, 'no', 'no', 7, '405-7676'], [119, 'no', 'no', 2, '361-2349'], [142, 'yes', 'yes', 0, '383-2901'], [123, 'no', 'no', 3, '369-7049'], [101, 'no', 'no', 1, '387-5533'], [43, 'no', 'no', 0, '362-3660'], [69, 'no', 'no', 0, '357-3577'], [15, 'yes', 'no', 2, '394-3312'], [107, 'no', 'yes', 1, '395-8330'], [67, 'no', 'no', 2, '373-8895'], [99, 'no', 'no', 1, '386-4581'], [46, 'no', 'no', 1, '354-8191'], [55, 'yes', 'no', 1, '359-7562'], [39, 'no', 'no', 1, '359-4336'], [92, 'no', 'no', 2, '336-9901'], [56, 'no', 'no', 4, '406-3069'], [76, 'no', 'no', 0, '334-6519'], [132, 'yes', 'yes', 2, '361-8113'], [140, 'no', 'yes', 1, '347-9769'], [51, 'yes', 'yes', 2, '352-9130'], [27, 'no', 'no', 1, '378-4557'], [224, 'no', 'no', 3, '360-8919'], [105, 'yes', 'yes', 0, '405-4109'], [117, 'no', 'no', 2, '381-2498'], [91, 'no', 'no', 1, '357-5696'], [135, 'no', 'no', 4, '412-2947'], [146, 'no', 'no', 3, '363-3571'], [147, 'yes', 'no', 0, '405-5403'], [68, 'no', 'no', 2, '330-9354'], [68, 'no', 'no', 3, '396-7091'], [86, 'no', 'yes', 0, '398-3004'], [131, 'no', 'no', 1, '400-4020'], [86, 'no', 'yes', 1, '356-3448'], [159, 'no', 'no', 2, '335-2019'], [134, 'no', 'yes', 1, '332-6633'], [113, 'no', 'no', 1, '359-7648'], [132, 'no', 'no', 1, '412-9190'], [85, 'no', 'no', 1, '368-9007'], [93, 'yes', 'yes', 1, '384-5632'], [174, 'no', 'yes', 4, '352-6068'], [61, 'no', 'no', 2, '343-9645'], [91, 'no', 'yes', 1, '384-7873'], [88, 'no', 'yes', 2, '396-2187'], [88, 'no', 'yes', 2, '383-5109'], [195, 'no', 'yes', 0, '377-7843'], [182, 'no', 'no', 0, '382-7999'], [118, 'no', 'no', 4, '328-1222'], [103, 'no', 'no', 8, '371-1727'], [65, 'no', 'no', 2, '369-8871'], [61, 'no', 'yes', 3, '335-9726'], [172, 'no', 'no', 1, '357-3709'], [72, 'no', 'no', 1, '422-9964'], [113, 'no', 'no', 2, '366-9211'], [177, 'no', 'no', 1, '384-9033'], [100, 'no', 'no', 6, '382-4932'], [67, 'no', 'no', 1, '404-7518'], [136, 'no', 'no', 3, '353-1954'], [71, 'no', 'no', 4, '391-7166'], [134, 'no', 'no', 1, '370-9000'], [124, 'no', 'no', 1, '332-3642'], [84, 'no', 'no', 2, '412-3898'], [39, 'no', 'no', 2, '366-5640'], [110, 'no', 'no', 3, '356-2302'], [102, 'no', 'no', 1, '345-9018'], [70, 'no', 'no', 0, '365-6205'], [142, 'no', 'no', 1, '337-1151'], [81, 'yes', 'no', 1, '374-4664'], [17, 'no', 'no', 1, '396-9656'], [119, 'no', 'no', 1, '377-5043'], [105, 'no', 'no', 0, '401-7359'], [108, 'yes', 'yes', 3, '375-2184'], [90, 'no', 'no', 2, '367-6005'], [100, 'no', 'yes', 1, '364-2166'], [155, 'no', 'yes', 1, '414-4741'], [113, 'no', 'no', 2, '403-9719'], [123, 'no', 'no', 1, '371-8452'], [145, 'no', 'no', 1, '392-6239'], [42, 'no', 'no', 2, '410-5250'], [125, 'no', 'no', 0, '336-1574'], [131, 'no', 'yes', 1, '406-8324'], [107, 'no', 'no', 1, '411-7110'], [48, 'no', 'no', 1, '341-9907'], [76, 'no', 'no', 0, '400-8952'], [128, 'no', 'no', 1, '333-9266'], [73, 'no', 'no', 0, '419-4894'], [52, 'no', 'no', 4, '364-9904'], [126, 'yes', 'yes', 1, '394-3048'], [124, 'no', 'no', 1, '352-6265'], [137, 'no', 'no', 0, '357-3187'], [71, 'no', 'no', 0, '373-8483'], [139, 'no', 'no', 0, '375-9930'], [107, 'no', 'yes', 3, '352-6282'], [147, 'no', 'no', 1, '396-2945'], [116, 'no', 'no', 3, '412-3527'], [60, 'no', 'yes', 2, '328-4231'], [38, 'no', 'no', 0, '413-9055'], [63, 'no', 'no', 3, '363-8755'], [94, 'no', 'no', 3, '388-8891'], [131, 'no', 'no', 0, '360-1776'], [158, 'no', 'no', 1, '411-3578'], [139, 'no', 'no', 1, '399-7268'], [77, 'no', 'no', 1, '350-1532'], [140, 'no', 'no', 3, '359-2197'], [72, 'no', 'no', 1, '407-9290'], [52, 'no', 'yes', 1, '358-6672'], [103, 'no', 'no', 5, '393-4621'], [74, 'no', 'yes', 1, '336-7357'], [124, 'no', 'no', 2, '351-1466'], [85, 'no', 'yes', 5, '394-6668'], [113, 'no', 'yes', 5, '403-2673'], [71, 'no', 'no', 2, '355-1735'], [177, 'no', 'yes', 1, '416-7679'], [49, 'yes', 'no', 2, '340-4972'], [106, 'yes', 'no', 3, '417-4826'], [60, 'no', 'no', 1, '408-6676'], [43, 'no', 'no', 4, '417-6683'], [66, 'no', 'no', 1, '331-6270'], [125, 'no', 'no', 0, '404-9754'], [114, 'no', 'yes', 3, '364-9425'], [112, 'no', 'no', 3, '339-6477'], [101, 'no', 'yes', 2, '362-2787'], [70, 'no', 'no', 0, '405-9233'], [59, 'no', 'no', 0, '416-1845'], [59, 'no', 'no', 1, '385-9657'], [124, 'no', 'yes', 2, '420-5652'], [99, 'no', 'no', 2, '415-1141'], [150, 'no', 'no', 1, '334-5634'], [81, 'no', 'no', 2, '403-4200'], [86, 'no', 'no', 0, '357-7893'], [84, 'no', 'no', 0, '369-2899'], [118, 'no', 'yes', 1, '381-1026'], [89, 'no', 'no', 1, '388-8722'], [93, 'no', 'no', 3, '418-3135'], [85, 'no', 'no', 2, '380-3974'], [160, 'no', 'no', 0, '338-7232'], [28, 'no', 'no', 3, '334-5223'], [73, 'no', 'no', 1, '340-8323'], [156, 'no', 'no', 3, '337-6851'], [33, 'yes', 'no', 1, '344-5973'], [77, 'no', 'no', 4, '335-2261'], [119, 'no', 'no', 1, '343-1458'], [91, 'no', 'yes', 3, '415-4875'], [102, 'no', 'no', 3, '381-2726'], [86, 'no', 'yes', 3, '395-3852'], [82, 'no', 'no', 0, '358-7914'], [89, 'no', 'no', 0, '332-6958'], [86, 'no', 'no', 3, '355-1019'], [134, 'no', 'no', 1, '382-9447'], [92, 'no', 'no', 2, '386-8536'], [87, 'no', 'no', 3, '363-3818'], [64, 'no', 'no', 0, '360-6416'], [80, 'no', 'no', 3, '332-8764'], [165, 'no', 'yes', 3, '398-4814'], [153, 'no', 'yes', 1, '410-5963'], [41, 'no', 'yes', 1, '399-6642'], [108, 'no', 'no', 2, '390-9986'], [104, 'no', 'yes', 1, '391-1793'], [115, 'no', 'no', 1, '352-5542'], [87, 'no', 'no', 1, '386-8118'], [159, 'no', 'yes', 2, '394-9825'], [119, 'no', 'no', 2, '382-4952'], [69, 'no', 'no', 1, '387-2698'], [87, 'yes', 'yes', 1, '417-1360'], [93, 'no', 'no', 1, '408-4836'], [154, 'yes', 'no', 0, '374-8329'], [57, 'no', 'yes', 1, '363-8424'], [130, 'no', 'no', 5, '408-8910'], [151, 'no', 'no', 2, '399-3840'], [162, 'no', 'no', 2, '367-8692'], [60, 'no', 'no', 1, '387-4504'], [81, 'no', 'no', 3, '328-2647'], [132, 'no', 'no', 3, '369-7903'], [86, 'no', 'no', 1, '399-6852'], [136, 'no', 'no', 1, '335-4888'], [121, 'no', 'yes', 1, '344-2260'], [105, 'no', 'yes', 2, '349-4070'], [105, 'no', 'yes', 2, '394-6505'], [51, 'no', 'yes', 1, '419-3612'], [64, 'no', 'no', 3, '356-1952'], [80, 'yes', 'yes', 0, '416-7866'], [56, 'no', 'no', 4, '398-1759'], [120, 'no', 'no', 1, '338-9950'], [103, 'no', 'no', 3, '412-7278'], [164, 'no', 'yes', 3, '347-1263'], [116, 'no', 'yes', 2, '386-5684'], [121, 'no', 'no', 1, '334-4354'], [55, 'yes', 'no', 1, '398-5970'], [183, 'no', 'no', 2, '330-3429'], [104, 'no', 'no', 0, '418-4637'], [90, 'no', 'no', 1, '393-7322'], [82, 'no', 'no', 1, '353-5557'], [101, 'no', 'no', 3, '411-5334'], [9, 'no', 'yes', 2, '398-8588'], [97, 'no', 'no', 0, '374-7285'], [94, 'no', 'no', 3, '379-7215'], [127, 'no', 'yes', 0, '357-7875'], [125, 'no', 'yes', 0, '393-9677'], [140, 'no', 'no', 1, '345-9598'], [90, 'no', 'no', 2, '353-3203'], [67, 'no', 'no', 2, '330-7486'], [113, 'no', 'no', 1, '397-6425'], [121, 'no', 'yes', 0, '338-1815'], [93, 'no', 'no', 4, '406-5023'], [121, 'no', 'no', 1, '368-2458'], [53, 'no', 'no', 0, '400-8375'], [75, 'no', 'no', 1, '387-8201'], [132, 'no', 'no', 2, '346-4360'], [162, 'no', 'no', 3, '412-8811'], [140, 'no', 'no', 1, '413-3990'], [91, 'no', 'no', 2, '345-2448'], [73, 'no', 'yes', 2, '394-4512'], [95, 'yes', 'no', 4, '400-8538'], [145, 'no', 'no', 0, '412-8769'], [100, 'no', 'no', 1, '390-1552'], [122, 'no', 'no', 2, '389-2477'], [109, 'no', 'no', 0, '389-4695'], [82, 'no', 'no', 1, '406-8037'], [65, 'no', 'yes', 0, '382-9138'], [52, 'no', 'no', 3, '414-7942'], [136, 'no', 'yes', 2, '348-7071'], [75, 'no', 'no', 1, '404-2942'], [146, 'no', 'no', 1, '348-3581'], [105, 'no', 'no', 4, '327-6764'], [48, 'no', 'no', 2, '405-2831'], [45, 'no', 'no', 1, '416-4351'], [106, 'no', 'yes', 2, '419-3196'], [33, 'no', 'no', 2, '411-6211'], [68, 'no', 'no', 2, '391-8369'], [106, 'no', 'no', 0, '416-4464'], [141, 'no', 'no', 0, '347-1814'], [98, 'no', 'no', 0, '386-7337'], [94, 'no', 'yes', 0, '375-8505'], [65, 'no', 'no', 2, '407-5056'], [85, 'no', 'no', 1, '367-8924'], [71, 'no', 'no', 3, '419-5171'], [112, 'no', 'yes', 0, '396-7687'], [110, 'no', 'no', 0, '394-4548'], [111, 'no', 'no', 2, '382-6438'], [74, 'no', 'no', 2, '413-2194'], [105, 'no', 'no', 2, '366-2622'], [40, 'no', 'no', 0, '416-7591'], [128, 'yes', 'yes', 0, '355-2634'], [123, 'no', 'no', 2, '422-5350'], [122, 'no', 'no', 0, '329-2388'], [114, 'no', 'yes', 3, '381-5273'], [102, 'no', 'yes', 2, '421-6694'], [126, 'no', 'no', 0, '342-1702'], [150, 'no', 'no', 4, '381-4029'], [60, 'no', 'no', 2, '335-2967'], [123, 'no', 'no', 3, '416-6594'], [138, 'yes', 'no', 0, '388-6026'], [29, 'no', 'no', 1, '367-1024'], [111, 'no', 'no', 4, '386-7118'], [37, 'yes', 'no', 0, '346-2020'], [111, 'no', 'no', 0, '329-9067'], [81, 'no', 'no', 1, '329-6144'], [46, 'no', 'no', 1, '332-1502'], [69, 'no', 'yes', 0, '342-8320'], [125, 'no', 'no', 1, '411-5748'], [43, 'no', 'no', 3, '381-9367'], [127, 'no', 'yes', 1, '400-1280'], [94, 'no', 'no', 1, '360-5794'], [46, 'no', 'no', 3, '373-3538'], [73, 'no', 'yes', 2, '394-9942'], [146, 'no', 'yes', 2, '380-3329'], [93, 'no', 'no', 1, '334-7618'], [52, 'no', 'yes', 1, '327-9289'], [202, 'no', 'no', 3, '351-2589'], [129, 'no', 'yes', 2, '368-6892'], [94, 'no', 'no', 1, '337-9303'], [100, 'no', 'no', 0, '377-5258'], [43, 'no', 'no', 1, '348-5767'], [130, 'no', 'no', 0, '373-3549'], [124, 'no', 'no', 3, '422-8344'], [92, 'yes', 'no', 3, '411-2958'], [48, 'no', 'no', 4, '384-2908'], [98, 'no', 'yes', 2, '347-6393'], [100, 'no', 'no', 1, '385-7148'], [79, 'no', 'no', 3, '419-2767'], [164, 'no', 'no', 1, '375-1746'], [105, 'no', 'no', 1, '362-7870'], [89, 'yes', 'no', 0, '410-3725'], [126, 'no', 'no', 3, '387-1535'], [96, 'no', 'no', 1, '329-2045'], [120, 'no', 'yes', 0, '341-6743'], [212, 'no', 'no', 2, '336-8343'], [72, 'no', 'no', 2, '368-5758'], [155, 'yes', 'yes', 1, '346-8362'], [89, 'no', 'no', 2, '345-9690'], [126, 'yes', 'no', 2, '339-9798'], [172, 'no', 'no', 2, '359-5731'], [75, 'no', 'no', 3, '373-2091'], [143, 'no', 'no', 2, '367-3439'], [166, 'yes', 'no', 0, '367-1681'], [132, 'no', 'no', 1, '420-9973'], [94, 'yes', 'no', 1, '351-4025'], [99, 'no', 'no', 0, '393-5897'], [136, 'no', 'yes', 1, '384-7216'], [119, 'no', 'no', 1, '384-4595'], [115, 'yes', 'no', 3, '329-9667'], [160, 'no', 'no', 2, '347-5063'], [166, 'no', 'no', 2, '345-8433'], [120, 'no', 'no', 1, '339-7602'], [173, 'no', 'no', 1, '332-1109'], [156, 'no', 'no', 0, '343-3296'], [70, 'no', 'no', 0, '366-2536'], [41, 'no', 'no', 1, '355-2293'], [132, 'no', 'no', 0, '350-9318'], [47, 'yes', 'no', 0, '418-5300'], [160, 'no', 'no', 1, '395-2626'], [180, 'no', 'no', 3, '402-7372'], [93, 'no', 'no', 2, '337-9710'], [109, 'no', 'no', 2, '363-4967'], [80, 'no', 'no', 0, '400-5389'], [54, 'no', 'yes', 2, '416-9162'], [121, 'no', 'no', 2, '414-6541'], [157, 'no', 'yes', 1, '392-6647'], [170, 'no', 'yes', 0, '343-2465'], [138, 'no', 'no', 3, '338-9171'], [92, 'no', 'yes', 1, '405-4606'], [126, 'no', 'no', 1, '386-9711'], [41, 'no', 'no', 3, '327-8495'], [167, 'no', 'no', 4, '416-5660'], [91, 'no', 'no', 2, '370-3032'], [127, 'no', 'no', 3, '331-8462'], [88, 'no', 'yes', 1, '414-4037'], [113, 'no', 'no', 1, '415-2865'], [78, 'no', 'no', 2, '362-2353'], [123, 'no', 'no', 2, '329-5114'], [136, 'yes', 'yes', 2, '351-1389'], [68, 'no', 'yes', 1, '375-3668'], [132, 'no', 'yes', 0, '375-5414'], [133, 'no', 'no', 2, '360-7079'], [127, 'no', 'no', 0, '344-9302'], [110, 'no', 'no', 2, '418-1775'], [121, 'no', 'no', 1, '401-2468'], [116, 'no', 'no', 2, '346-4984'], [112, 'yes', 'yes', 1, '351-2928'], [97, 'yes', 'no', 4, '365-7774'], [43, 'no', 'no', 2, '358-3691'], [110, 'no', 'no', 3, '364-9059'], [67, 'no', 'no', 1, '356-7208'], [166, 'no', 'no', 0, '333-5551'], [129, 'no', 'no', 1, '362-6528'], [103, 'yes', 'no', 3, '394-2560'], [71, 'no', 'no', 0, '367-3220'], [112, 'no', 'yes', 4, '418-5708'], [8, 'no', 'yes', 1, '421-2245'], [98, 'no', 'no', 0, '406-2242'], [90, 'no', 'no', 1, '347-6994'], [13, 'no', 'no', 0, '413-7468'], [58, 'no', 'no', 2, '389-6082'], [137, 'no', 'yes', 2, '415-3689'], [116, 'no', 'no', 5, '379-2503'], [94, 'no', 'yes', 3, '396-1106'], [87, 'no', 'no', 3, '379-4372'], [120, 'no', 'no', 2, '336-3738'], [97, 'no', 'yes', 0, '380-2600'], [134, 'no', 'no', 6, '345-4473'], [68, 'no', 'no', 2, '380-9990'], [93, 'no', 'no', 1, '411-1045'], [120, 'no', 'no', 1, '413-5306'], [41, 'no', 'no', 2, '417-6906'], [80, 'no', 'no', 2, '331-4807'], [83, 'no', 'yes', 2, '376-5375'], [109, 'yes', 'no', 2, '361-9839'], [66, 'no', 'yes', 3, '348-8679'], [104, 'no', 'no', 0, '403-6565'], [89, 'no', 'no', 1, '346-5287'], [127, 'no', 'no', 2, '413-6769'], [117, 'no', 'yes', 1, '370-5042'], [128, 'no', 'no', 2, '397-9486'], [88, 'no', 'no', 4, '364-3286'], [61, 'no', 'no', 1, '420-8897'], [22, 'no', 'no', 2, '378-9506'], [78, 'no', 'no', 0, '399-6259'], [56, 'no', 'yes', 1, '335-5806'], [192, 'no', 'no', 2, '401-6392'], [70, 'no', 'no', 2, '379-9859'], [148, 'no', 'no', 1, '415-4051'], [65, 'no', 'yes', 2, '368-5612'], [119, 'no', 'no', 1, '374-5301'], [80, 'no', 'no', 0, '406-5710'], [152, 'no', 'yes', 5, '354-7077'], [113, 'no', 'no', 3, '343-3340'], [75, 'no', 'no', 1, '377-8267'], [80, 'no', 'no', 1, '382-2453'], [148, 'no', 'no', 1, '333-7449'], [63, 'yes', 'no', 1, '366-4287'], [97, 'no', 'yes', 1, '415-2285'], [166, 'no', 'no', 0, '381-1328'], [94, 'no', 'no', 1, '344-4022'], [85, 'no', 'yes', 1, '415-6601'], [80, 'yes', 'no', 1, '351-7309'], [210, 'no', 'yes', 3, '363-7802'], [88, 'yes', 'yes', 1, '408-4870'], [100, 'no', 'no', 4, '378-9478'], [154, 'no', 'yes', 1, '401-4778'], [32, 'no', 'yes', 1, '370-9563'], [18, 'no', 'no', 3, '394-6382'], [126, 'no', 'yes', 0, '333-5295'], [144, 'no', 'yes', 1, '370-2451'], [29, 'no', 'no', 2, '401-6982'], [86, 'no', 'yes', 0, '329-8115'], [138, 'no', 'yes', 0, '340-3409'], [146, 'no', 'no', 3, '397-5911'], [175, 'no', 'no', 1, '415-6127'], [74, 'no', 'no', 2, '392-6073'], [48, 'no', 'no', 2, '419-6564'], [74, 'no', 'yes', 4, '340-8245'], [105, 'yes', 'no', 0, '376-4540'], [157, 'no', 'no', 3, '361-5936'], [217, 'no', 'no', 0, '421-9846'], [68, 'no', 'no', 1, '356-1582'], [80, 'no', 'no', 1, '375-4900'], [38, 'no', 'yes', 2, '420-8953'], [107, 'no', 'yes', 0, '376-4035'], [140, 'no', 'no', 3, '344-5206'], [98, 'no', 'no', 5, '328-7833'], [114, 'no', 'no', 2, '417-4266'], [46, 'no', 'no', 1, '351-6574'], [118, 'no', 'yes', 0, '372-8925'], [37, 'no', 'no', 3, '340-5678'], [34, 'no', 'no', 0, '361-6814'], [98, 'yes', 'yes', 1, '336-7155'], [113, 'no', 'no', 3, '342-8167'], [69, 'no', 'no', 0, '375-9180'], [121, 'no', 'no', 2, '357-7064'], [59, 'yes', 'yes', 1, '347-5354'], [59, 'no', 'no', 0, '362-9391'], [190, 'no', 'no', 0, '386-8984'], [109, 'no', 'no', 1, '384-6372'], [136, 'no', 'no', 2, '358-1329'], [86, 'no', 'no', 1, '400-7987'], [100, 'no', 'yes', 0, '327-8732'], [106, 'no', 'no', 0, '389-6955'], [104, 'no', 'no', 2, '396-1800'], [129, 'no', 'no', 2, '349-4979'], [205, 'no', 'no', 2, '361-5864'], [93, 'no', 'yes', 0, '418-4658'], [123, 'no', 'no', 3, '330-6208'], [99, 'no', 'no', 1, '416-6628'], [61, 'no', 'yes', 3, '349-5617'], [71, 'no', 'no', 1, '397-8051'], [4, 'yes', 'no', 0, '413-6346'], [148, 'no', 'yes', 3, '395-9270'], [141, 'no', 'no', 1, '401-7575'], [56, 'no', 'no', 0, '332-5964'], [160, 'no', 'no', 3, '348-3338'], [43, 'no', 'yes', 3, '387-5411'], [42, 'no', 'no', 2, '378-7872'], [135, 'yes', 'no', 1, '389-6037'], [106, 'no', 'no', 3, '349-3732'], [106, 'no', 'no', 0, '347-9738'], [83, 'no', 'yes', 3, '380-6074'], [110, 'no', 'no', 1, '338-4307'], [153, 'no', 'no', 1, '339-3636'], [109, 'no', 'yes', 5, '328-9315'], [31, 'no', 'no', 1, '402-3634'], [124, 'no', 'no', 4, '348-4316'], [110, 'no', 'no', 2, '375-3826'], [124, 'no', 'no', 0, '360-1406'], [82, 'no', 'no', 6, '356-5475'], [122, 'no', 'no', 1, '363-9969'], [137, 'no', 'no', 1, '350-4367'], [69, 'no', 'no', 1, '348-1592'], [46, 'no', 'yes', 1, '368-9751'], [103, 'no', 'no', 1, '380-6413'], [16, 'no', 'no', 2, '367-9259'], [119, 'no', 'no', 3, '404-8765'], [124, 'yes', 'no', 3, '371-6284'], [122, 'no', 'yes', 1, '403-9468'], [139, 'no', 'no', 4, '335-3133'], [67, 'no', 'no', 2, '366-4426'], [84, 'no', 'no', 1, '354-4752'], [101, 'no', 'yes', 0, '406-4768'], [40, 'no', 'no', 0, '367-9257'], [61, 'no', 'no', 2, '342-8348'], [120, 'yes', 'no', 1, '410-7611'], [95, 'no', 'no', 1, '341-3270'], [98, 'no', 'no', 0, '416-7452'], [114, 'no', 'no', 2, '356-8982'], [68, 'yes', 'yes', 1, '340-6908'], [149, 'no', 'yes', 2, '348-6659'], [22, 'no', 'no', 0, '345-2401'], [176, 'no', 'no', 0, '422-5264'], [152, 'no', 'no', 2, '422-1799'], [118, 'no', 'no', 0, '404-2877'], [101, 'yes', 'no', 1, '417-7913'], [102, 'no', 'no', 2, '399-2457'], [118, 'no', 'no', 2, '419-3427'], [105, 'no', 'no', 2, '358-2490'], [153, 'no', 'no', 1, '349-3112'], [71, 'no', 'no', 0, '414-5422'], [71, 'no', 'yes', 1, '386-3766'], [68, 'no', 'no', 2, '386-9724'], [66, 'no', 'no', 3, '416-7393'], [101, 'no', 'no', 3, '395-1380'], [116, 'no', 'no', 0, '408-4911'], [54, 'no', 'yes', 0, '387-4064'], [112, 'no', 'yes', 1, '380-5667'], [122, 'no', 'yes', 1, '402-8930'], [74, 'no', 'no', 3, '336-6533'], [90, 'no', 'no', 1, '359-9992'], [112, 'no', 'no', 4, '391-1737'], [85, 'no', 'no', 4, '404-2871'], [100, 'no', 'no', 1, '420-6121'], [114, 'no', 'no', 2, '369-4012'], [83, 'no', 'no', 0, '357-2294'], [157, 'yes', 'no', 0, '348-9938'], [51, 'no', 'no', 2, '394-3023'], [42, 'no', 'no', 1, '352-5466'], [101, 'no', 'yes', 1, '364-5510'], [112, 'no', 'no', 3, '396-6462'], [56, 'no', 'no', 2, '384-5335'], [53, 'no', 'no', 9, '416-6886'], [64, 'no', 'yes', 1, '357-2748'], [123, 'no', 'no', 0, '386-7976'], [68, 'no', 'yes', 2, '403-9199'], [40, 'yes', 'no', 0, '361-1900'], [132, 'no', 'no', 0, '405-3848'], [120, 'yes', 'no', 2, '344-1136'], [108, 'no', 'yes', 6, '378-6276'], [161, 'no', 'no', 1, '343-2592'], [130, 'no', 'no', 0, '396-4410'], [122, 'no', 'no', 0, '397-3943'], [130, 'no', 'yes', 2, '347-3821'], [90, 'no', 'no', 1, '400-8069'], [139, 'no', 'yes', 0, '346-5349'], [57, 'no', 'no', 3, '345-5089'], [128, 'no', 'no', 4, '410-4613'], [127, 'yes', 'no', 2, '356-4706'], [107, 'no', 'no', 1, '347-3406'], [177, 'no', 'no', 1, '333-9133'], [121, 'no', 'no', 1, '392-2459'], [99, 'yes', 'yes', 0, '401-3685'], [126, 'yes', 'no', 1, '352-7752'], [77, 'no', 'yes', 5, '388-9285'], [21, 'no', 'no', 2, '332-5582'], [56, 'no', 'no', 1, '376-2550'], [92, 'no', 'yes', 1, '333-4594'], [81, 'no', 'no', 2, '375-2522'], [139, 'yes', 'yes', 1, '388-2240'], [68, 'no', 'no', 1, '420-1782'], [183, 'no', 'yes', 2, '384-8890'], [90, 'no', 'no', 0, '371-4788'], [165, 'no', 'no', 1, '360-5636'], [89, 'no', 'no', 1, '373-4264'], [59, 'no', 'no', 0, '352-9836'], [16, 'yes', 'no', 0, '342-2013'], [114, 'no', 'no', 5, '354-5689'], [113, 'no', 'no', 2, '335-8427'], [120, 'no', 'no', 2, '409-6753'], [115, 'no', 'no', 0, '349-1756'], [37, 'no', 'no', 2, '328-8980'], [100, 'yes', 'no', 2, '399-2151'], [132, 'no', 'no', 4, '379-9524'], [38, 'no', 'yes', 2, '352-9947'], [1, 'no', 'no', 0, '336-1043'], [97, 'no', 'yes', 1, '416-7013'], [55, 'no', 'yes', 2, '345-4551'], [75, 'no', 'no', 1, '405-9864'], [83, 'no', 'no', 2, '350-4297'], [40, 'no', 'no', 6, '350-7114'], [101, 'no', 'yes', 2, '400-4244'], [120, 'no', 'yes', 0, '417-2608'], [183, 'no', 'yes', 1, '372-2990'], [75, 'no', 'no', 4, '353-9998'], [80, 'no', 'no', 2, '330-3008'], [88, 'no', 'no', 0, '384-8629'], [112, 'no', 'yes', 1, '404-9504'], [63, 'no', 'no', 1, '405-8753'], [105, 'no', 'yes', 4, '409-9911'], [92, 'no', 'no', 2, '394-4260'], [177, 'no', 'no', 1, '380-9063'], [118, 'no', 'no', 0, '395-4509'], [111, 'no', 'yes', 1, '401-6671'], [82, 'no', 'yes', 3, '405-7204'], [74, 'no', 'no', 0, '329-5377'], [121, 'no', 'yes', 5, '408-9572'], [131, 'no', 'no', 1, '380-9879'], [125, 'no', 'no', 2, '384-9243'], [19, 'no', 'no', 1, '404-5597'], [138, 'no', 'no', 3, '359-7521'], [119, 'no', 'no', 3, '327-4795'], [137, 'no', 'no', 1, '338-7955'], [182, 'no', 'no', 2, '379-6970'], [135, 'no', 'no', 1, '351-7807'], [134, 'no', 'yes', 1, '342-9394'], [45, 'no', 'no', 1, '384-6264'], [129, 'no', 'no', 1, '352-4534'], [142, 'no', 'no', 4, '378-4617'], [130, 'no', 'yes', 1, '364-9567'], [163, 'no', 'yes', 1, '371-5875'], [105, 'no', 'no', 4, '383-6489'], [119, 'no', 'no', 2, '345-7117'], [78, 'no', 'no', 0, '384-3902'], [92, 'no', 'no', 2, '386-2759'], [146, 'no', 'yes', 2, '356-1270'], [125, 'no', 'yes', 1, '379-1336'], [88, 'no', 'no', 3, '354-7201'], [83, 'no', 'yes', 0, '404-5057'], [3, 'yes', 'no', 1, '407-8012'], [152, 'yes', 'yes', 1, '332-6139'], [48, 'no', 'no', 3, '328-1373'], [189, 'no', 'no', 3, '411-6501'], [95, 'no', 'yes', 0, '329-8056'], [129, 'no', 'no', 1, '415-4564'], [66, 'no', 'yes', 0, '329-6192'], [80, 'no', 'yes', 0, '384-3904'], [1, 'no', 'no', 1, '373-1028'], [84, 'no', 'no', 1, '369-1220'], [96, 'no', 'no', 1, '359-9369'], [123, 'no', 'yes', 1, '415-3016'], [116, 'yes', 'yes', 3, '414-7090'], [105, 'yes', 'no', 3, '350-2250'], [80, 'no', 'no', 1, '383-9355'], [157, 'no', 'no', 2, '417-3257'], [67, 'no', 'yes', 2, '336-8010'], [141, 'no', 'yes', 0, '354-7718'], [79, 'no', 'yes', 1, '358-4412'], [76, 'no', 'no', 0, '368-8972'], [111, 'no', 'no', 0, '407-9841'], [94, 'no', 'no', 0, '393-5208'], [143, 'no', 'no', 4, '332-2889'], [109, 'no', 'no', 1, '374-5530'], [138, 'no', 'no', 2, '332-3381'], [73, 'no', 'no', 0, '344-9347'], [21, 'no', 'no', 5, '412-1991'], [148, 'no', 'yes', 1, '393-4528'], [103, 'no', 'no', 1, '347-2378'], [143, 'no', 'yes', 1, '385-2699'], [79, 'no', 'yes', 2, '383-4319'], [89, 'no', 'no', 1, '352-7915'], [120, 'no', 'no', 1, '375-5547'], [121, 'no', 'yes', 1, '337-2348'], [101, 'no', 'no', 0, '342-8702'], [115, 'no', 'no', 2, '393-5802'], [168, 'no', 'no', 2, '384-2219'], [90, 'no', 'no', 1, '347-6164'], [70, 'no', 'no', 3, '376-9940'], [138, 'no', 'no', 1, '354-4352'], [43, 'no', 'no', 0, '331-8713'], [117, 'no', 'yes', 2, '341-3663'], [108, 'no', 'no', 2, '376-4665'], [118, 'no', 'no', 2, '421-9034'], [169, 'no', 'no', 3, '401-5169'], [62, 'no', 'yes', 0, '370-8262'], [86, 'no', 'no', 2, '387-2041'], [44, 'no', 'no', 0, '356-4146'], [111, 'no', 'no', 5, '372-8883'], [127, 'no', 'yes', 2, '336-1880'], [151, 'yes', 'no', 0, '347-5843'], [53, 'no', 'no', 2, '370-8023'], [15, 'no', 'no', 2, '417-9814'], [123, 'no', 'yes', 1, '387-3422'], [137, 'no', 'no', 1, '365-1664'], [106, 'no', 'no', 2, '367-2436'], [88, 'no', 'no', 3, '344-6258'], [106, 'no', 'no', 1, '353-8928'], [95, 'no', 'no', 0, '365-7784'], [57, 'yes', 'no', 0, '330-2635'], [184, 'no', 'no', 2, '344-3131'], [109, 'no', 'no', 3, '378-4294'], [127, 'no', 'no', 2, '343-9365'], [82, 'no', 'no', 2, '362-5579'], [180, 'no', 'no', 1, '366-7616'], [174, 'no', 'no', 2, '397-2870'], [92, 'no', 'no', 2, '408-3262'], [81, 'no', 'no', 1, '372-9091'], [125, 'no', 'no', 2, '410-3159'], [119, 'no', 'no', 0, '344-5181'], [122, 'no', 'no', 3, '396-8662'], [34, 'no', 'no', 1, '339-6446'], [138, 'yes', 'yes', 3, '384-7236'], [90, 'no', 'yes', 1, '353-5257'], [73, 'no', 'no', 2, '369-7295'], [19, 'no', 'no', 1, '408-5322'], [120, 'no', 'yes', 1, '344-9620'], [160, 'no', 'no', 3, '329-8436'], [141, 'no', 'no', 0, '414-6739'], [90, 'no', 'no', 2, '406-1730'], [72, 'no', 'no', 2, '336-9327'], [117, 'no', 'yes', 1, '378-7418'], [79, 'yes', 'no', 2, '412-6019'], [87, 'no', 'no', 1, '390-4789'], [102, 'no', 'no', 1, '386-9774'], [49, 'no', 'no', 1, '353-8970'], [67, 'no', 'no', 6, '410-5370'], [107, 'no', 'no', 2, '404-4421'], [190, 'no', 'no', 2, '409-3353'], [118, 'no', 'no', 2, '422-2571'], [120, 'no', 'no', 0, '412-3404'], [94, 'no', 'no', 0, '333-2964'], [115, 'no', 'yes', 1, '406-6669'], [61, 'no', 'no', 1, '409-8802'], [143, 'no', 'yes', 1, '354-6183'], [110, 'no', 'no', 1, '354-2434'], [104, 'no', 'no', 1, '389-7620'], [16, 'no', 'no', 1, '338-1724'], [183, 'no', 'no', 0, '399-1750'], [147, 'no', 'no', 2, '354-8914'], [58, 'no', 'no', 2, '409-2983'], [102, 'yes', 'no', 3, '329-9689'], [123, 'no', 'no', 3, '337-8950'], [64, 'no', 'yes', 1, '374-1836'], [103, 'no', 'no', 2, '359-9454'], [152, 'no', 'no', 1, '378-9542'], [124, 'no', 'no', 1, '344-1970'], [97, 'no', 'no', 1, '417-2774'], [131, 'no', 'no', 1, '333-9002'], [57, 'no', 'yes', 2, '369-8576'], [157, 'no', 'no', 2, '372-6920'], [194, 'no', 'no', 0, '333-6575'], [66, 'no', 'no', 1, '410-1190'], [155, 'no', 'no', 0, '376-1641'], [123, 'no', 'no', 4, '329-6731'], [116, 'no', 'no', 2, '393-3976'], [63, 'no', 'no', 1, '388-7355'], [64, 'no', 'no', 3, '412-7791'], [96, 'no', 'no', 3, '368-6111'], [53, 'no', 'no', 1, '401-9420'], [105, 'no', 'no', 3, '352-5750'], [53, 'no', 'yes', 2, '417-3702'], [101, 'no', 'no', 1, '353-5714'], [129, 'no', 'yes', 3, '409-9494'], [122, 'no', 'no', 1, '395-1901'], [163, 'no', 'no', 5, '378-8342'], [93, 'no', 'no', 0, '417-6044'], [115, 'yes', 'no', 1, '348-1163'], [25, 'no', 'no', 1, '337-4600'], [73, 'no', 'no', 1, '355-5922'], [120, 'no', 'no', 2, '369-5810'], [196, 'no', 'no', 1, '340-8291'], [97, 'no', 'no', 0, '354-7397'], [148, 'no', 'no', 1, '407-7464'], [85, 'no', 'yes', 1, '386-6411'], [86, 'yes', 'no', 2, '397-3746'], [78, 'no', 'yes', 2, '410-5236'], [106, 'no', 'no', 3, '409-2412'], [147, 'no', 'yes', 2, '400-7280'], [145, 'no', 'no', 1, '332-5820'], [91, 'no', 'no', 3, '373-4483'], [81, 'no', 'yes', 4, '347-6717'], [116, 'no', 'yes', 1, '380-2929'], [69, 'no', 'yes', 1, '420-7692'], [135, 'no', 'no', 0, '380-6437'], [73, 'no', 'no', 2, '377-8309'], [48, 'no', 'no', 1, '407-2718'], [125, 'yes', 'no', 0, '357-1938'], [100, 'no', 'no', 1, '381-3735'], [165, 'no', 'yes', 0, '409-8453'], [64, 'no', 'no', 2, '395-6758'], [116, 'yes', 'yes', 1, '399-5424'], [147, 'yes', 'yes', 3, '409-4671'], [115, 'no', 'no', 1, '374-6525'], [84, 'no', 'yes', 4, '406-8665'], [86, 'no', 'yes', 4, '342-7716'], [134, 'no', 'no', 2, '417-2221'], [105, 'no', 'no', 0, '376-5213'], [88, 'no', 'no', 2, '348-7448'], [90, 'no', 'yes', 2, '328-8179'], [86, 'no', 'no', 1, '389-4602'], [37, 'no', 'no', 4, '413-2238'], [141, 'no', 'yes', 1, '402-3370'], [148, 'no', 'no', 2, '348-6008'], [163, 'no', 'yes', 2, '371-5655'], [89, 'no', 'yes', 1, '374-5224'], [63, 'no', 'no', 0, '371-1187'], [102, 'no', 'no', 2, '337-1100'], [76, 'no', 'no', 1, '421-8141'], [104, 'no', 'no', 2, '406-2678'], [109, 'no', 'no', 3, '415-9649'], [105, 'no', 'no', 2, '364-8128'], [63, 'no', 'yes', 1, '356-7817'], [105, 'no', 'yes', 3, '404-6357'], [68, 'yes', 'yes', 1, '398-2138'], [63, 'yes', 'yes', 1, '378-8029'], [74, 'no', 'no', 3, '386-4215'], [76, 'no', 'no', 0, '367-8156'], [91, 'yes', 'no', 2, '382-8079'], [101, 'no', 'no', 5, '354-2985'], [116, 'no', 'no', 0, '373-6922'], [131, 'no', 'yes', 1, '397-7125'], [84, 'no', 'no', 1, '333-6296'], [104, 'no', 'no', 2, '365-6022'], [108, 'no', 'no', 3, '365-1688'], [111, 'no', 'no', 0, '382-4872'], [155, 'no', 'yes', 1, '367-6136'], [66, 'no', 'no', 1, '404-3592'], [64, 'no', 'no', 1, '415-2949'], [69, 'no', 'no', 2, '375-8880'], [116, 'no', 'no', 3, '335-6832'], [101, 'no', 'no', 0, '361-8367'], [15, 'no', 'no', 2, '408-2002'], [88, 'no', 'no', 4, '347-8659'], [197, 'no', 'no', 0, '376-2922'], [50, 'yes', 'no', 2, '382-2182'], [172, 'no', 'no', 2, '408-2089'], [188, 'yes', 'yes', 1, '369-6890'], [85, 'yes', 'no', 3, '347-2951'], [103, 'yes', 'no', 1, '420-6324'], [136, 'no', 'yes', 3, '402-7650'], [155, 'no', 'yes', 0, '391-2702'], [145, 'no', 'no', 2, '383-3375'], [116, 'no', 'yes', 2, '392-2733'], [152, 'no', 'no', 2, '397-9933'], [65, 'yes', 'no', 0, '383-9306'], [180, 'no', 'no', 3, '369-1929'], [67, 'no', 'no', 0, '369-4377'], [60, 'no', 'no', 0, '366-9430'], [138, 'no', 'no', 0, '353-7407'], [44, 'no', 'no', 4, '359-7426'], [25, 'no', 'no', 2, '332-7391'], [145, 'no', 'no', 1, '405-6559'], [122, 'no', 'yes', 2, '338-8784'], [121, 'no', 'no', 0, '415-6347'], [55, 'yes', 'no', 0, '354-5058'], [77, 'no', 'no', 1, '342-5701'], [12, 'no', 'no', 2, '378-4179'], [64, 'no', 'no', 3, '407-6391'], [92, 'no', 'yes', 2, '404-3105'], [125, 'yes', 'yes', 1, '390-9735'], [160, 'no', 'no', 1, '350-4820'], [79, 'no', 'no', 0, '383-8807'], [36, 'no', 'no', 3, '366-8382'], [102, 'no', 'no', 2, '402-9704'], [138, 'yes', 'no', 1, '405-2209'], [164, 'no', 'no', 3, '397-3939'], [125, 'no', 'no', 0, '343-2689'], [72, 'no', 'no', 2, '383-9448'], [74, 'no', 'no', 3, '359-6232'], [134, 'no', 'yes', 0, '369-9772'], [145, 'no', 'no', 1, '381-7003'], [136, 'no', 'no', 0, '352-6732'], [209, 'no', 'no', 3, '388-7540'], [66, 'yes', 'no', 3, '356-3333'], [152, 'no', 'yes', 1, '333-9664'], [162, 'no', 'no', 1, '363-3763'], [72, 'no', 'no', 2, '345-7900'], [101, 'no', 'no', 4, '400-5511'], [125, 'no', 'no', 0, '381-7597'], [46, 'no', 'no', 2, '404-9775'], [132, 'no', 'no', 1, '389-4608'], [193, 'no', 'yes', 0, '403-1742'], [63, 'no', 'no', 0, '328-9797'], [124, 'no', 'no', 1, '359-9223'], [144, 'no', 'no', 0, '336-7696'], [116, 'no', 'yes', 2, '369-2214'], [189, 'no', 'yes', 1, '411-1325'], [97, 'no', 'yes', 1, '410-7553'], [137, 'no', 'yes', 2, '376-4284'], [142, 'no', 'yes', 0, '334-2800'], [84, 'no', 'no', 1, '369-1904'], [119, 'no', 'yes', 1, '359-3833'], [158, 'no', 'no', 1, '348-5569'], [50, 'no', 'no', 1, '342-1960'], [98, 'no', 'no', 2, '352-9050'], [101, 'no', 'yes', 2, '390-5316'], [182, 'no', 'no', 2, '418-8568'], [51, 'no', 'no', 0, '401-4844'], [117, 'no', 'no', 2, '376-5471'], [92, 'yes', 'no', 0, '409-2917'], [86, 'no', 'no', 2, '369-6308'], [122, 'no', 'no', 2, '357-7385'], [156, 'no', 'yes', 1, '405-7119'], [127, 'no', 'no', 0, '405-3309'], [130, 'yes', 'no', 5, '384-4938'], [158, 'no', 'no', 2, '377-2725'], [145, 'yes', 'yes', 1, '405-6398'], [90, 'yes', 'yes', 0, '355-9366'], [127, 'no', 'yes', 3, '403-1128'], [109, 'no', 'no', 1, '384-9682'], [88, 'no', 'no', 1, '352-5393'], [101, 'no', 'yes', 0, '395-1229'], [171, 'no', 'no', 0, '361-9195'], [21, 'no', 'no', 1, '351-6366'], [145, 'no', 'yes', 2, '346-4919'], [90, 'no', 'no', 2, '354-9068'], [33, 'no', 'no', 1, '369-2743'], [61, 'no', 'yes', 2, '343-1347'], [107, 'no', 'no', 3, '336-5495'], [147, 'no', 'no', 0, '376-4292'], [117, 'no', 'no', 2, '391-8677'], [95, 'no', 'no', 1, '350-7273'], [186, 'no', 'no', 1, '400-6454'], [128, 'no', 'no', 0, '422-3052'], [55, 'no', 'yes', 3, '365-6756'], [134, 'no', 'no', 2, '406-4158'], [96, 'no', 'yes', 1, '383-4641'], [107, 'no', 'no', 0, '368-5165'], [123, 'no', 'no', 2, '378-2432'], [35, 'no', 'no', 2, '362-4159'], [74, 'no', 'no', 0, '363-7979'], [130, 'no', 'no', 1, '334-9818'], [137, 'yes', 'no', 0, '352-5787'], [88, 'no', 'no', 1, '332-3617'], [80, 'no', 'no', 3, '327-9957'], [116, 'no', 'yes', 3, '338-7527'], [123, 'no', 'yes', 2, '348-8711'], [120, 'no', 'no', 1, '421-3226'], [146, 'yes', 'no', 1, '391-4358'], [106, 'no', 'yes', 3, '379-2523'], [121, 'no', 'yes', 1, '419-2369'], [137, 'no', 'no', 1, '382-1227'], [84, 'no', 'yes', 2, '409-5749'], [67, 'no', 'yes', 1, '362-7951'], [161, 'no', 'no', 4, '415-3537'], [134, 'no', 'yes', 2, '373-3959'], [62, 'yes', 'yes', 0, '358-1346'], [120, 'no', 'yes', 1, '381-8422'], [130, 'no', 'yes', 0, '360-9005'], [20, 'no', 'no', 2, '344-5967'], [68, 'no', 'no', 1, '396-6390'], [112, 'no', 'no', 0, '346-5036'], [77, 'no', 'no', 3, '328-7252'], [109, 'no', 'no', 2, '360-1745'], [108, 'no', 'no', 3, '358-2046'], [79, 'no', 'yes', 1, '344-6935'], [119, 'no', 'no', 3, '401-9665'], [38, 'no', 'no', 5, '399-5291'], [109, 'no', 'yes', 6, '409-6588'], [78, 'no', 'no', 1, '358-5721'], [134, 'no', 'no', 0, '414-7446'], [47, 'no', 'yes', 2, '329-9517'], [59, 'no', 'yes', 0, '415-9553'], [151, 'no', 'no', 0, '413-3177'], [129, 'no', 'no', 1, '347-5113'], [107, 'no', 'yes', 2, '330-2662'], [137, 'yes', 'no', 0, '330-5824'], [76, 'no', 'no', 1, '411-1261'], [24, 'no', 'no', 0, '329-8788'], [169, 'no', 'no', 2, '333-7869'], [30, 'no', 'no', 1, '399-4800'], [70, 'no', 'no', 3, '402-2072'], [52, 'yes', 'no', 0, '403-6187'], [3, 'no', 'no', 4, '355-2872'], [38, 'no', 'no', 2, '386-2970'], [104, 'no', 'no', 3, '389-6081'], [27, 'no', 'no', 1, '348-7556'], [166, 'yes', 'yes', 1, '334-9163'], [13, 'no', 'no', 2, '411-4293'], [52, 'no', 'no', 2, '375-5562'], [114, 'no', 'yes', 1, '386-3823'], [156, 'no', 'no', 1, '364-6445'], [90, 'no', 'yes', 0, '383-2251'], [62, 'no', 'no', 2, '351-3169'], [82, 'no', 'yes', 2, '413-6380'], [52, 'no', 'no', 3, '380-9674'], [146, 'no', 'no', 1, '345-2319'], [120, 'no', 'yes', 2, '377-5441'], [130, 'no', 'no', 1, '358-3692'], [90, 'no', 'no', 1, '400-5831'], [147, 'yes', 'no', 1, '357-5995'], [159, 'no', 'no', 0, '391-2159'], [74, 'no', 'yes', 4, '398-5954'], [130, 'no', 'no', 0, '385-6175'], [155, 'yes', 'no', 0, '334-2961'], [87, 'no', 'no', 2, '405-4303'], [81, 'no', 'no', 0, '406-4100'], [99, 'no', 'no', 2, '352-4401'], [131, 'no', 'no', 2, '347-1473'], [89, 'no', 'no', 5, '347-2016'], [123, 'yes', 'no', 4, '388-8948'], [130, 'no', 'yes', 1, '402-5509'], [99, 'no', 'no', 1, '367-2598'], [36, 'no', 'no', 1, '370-5001'], [87, 'no', 'no', 3, '332-3693'], [139, 'no', 'no', 2, '403-9766'], [189, 'no', 'no', 1, '363-2407'], [96, 'no', 'yes', 3, '395-9214'], [112, 'no', 'no', 2, '351-8894'], [75, 'no', 'no', 1, '406-5003'], [178, 'no', 'yes', 2, '398-1332'], [112, 'no', 'no', 2, '363-8033'], [108, 'no', 'yes', 0, '333-1012'], [100, 'no', 'no', 0, '391-6260'], [121, 'no', 'yes', 0, '336-1353'], [116, 'no', 'no', 1, '365-5629'], [161, 'no', 'no', 1, '349-4397'], [19, 'yes', 'no', 0, '380-3910'], [104, 'no', 'no', 1, '354-7820'], [119, 'yes', 'yes', 0, '338-9952'], [125, 'no', 'no', 0, '405-1821'], [156, 'no', 'no', 1, '329-8669'], [109, 'no', 'no', 2, '328-8808'], [95, 'no', 'no', 2, '409-3018'], [90, 'no', 'no', 1, '421-5994'], [105, 'no', 'yes', 2, '354-4448'], [101, 'no', 'no', 1, '352-5081'], [95, 'no', 'no', 1, '401-7803'], [123, 'no', 'no', 0, '420-6052'], [160, 'no', 'no', 1, '352-6084'], [141, 'no', 'yes', 1, '388-8583'], [87, 'no', 'no', 0, '415-3158'], [81, 'no', 'no', 2, '402-9304'], [75, 'no', 'yes', 4, '341-1916'], [126, 'no', 'yes', 0, '381-2745'], [28, 'no', 'no', 3, '402-5014'], [153, 'no', 'no', 0, '399-8846'], [97, 'no', 'yes', 2, '328-9267'], [115, 'no', 'no', 2, '348-7224'], [95, 'no', 'no', 1, '336-2190'], [17, 'yes', 'no', 0, '376-4705'], [105, 'no', 'yes', 1, '381-4076'], [121, 'no', 'no', 2, '348-8464'], [125, 'no', 'no', 2, '412-7020'], [124, 'no', 'no', 2, '386-8432'], [35, 'no', 'no', 2, '337-1802'], [134, 'no', 'no', 0, '366-1084'], [123, 'no', 'yes', 3, '352-4182'], [124, 'no', 'no', 3, '368-5628'], [133, 'no', 'no', 2, '333-8996'], [185, 'no', 'yes', 0, '353-2557'], [1, 'no', 'yes', 1, '356-8621'], [107, 'no', 'no', 1, '354-6942'], [91, 'no', 'yes', 1, '377-9829'], [178, 'yes', 'no', 2, '348-4660'], [123, 'no', 'no', 1, '410-5199'], [170, 'no', 'no', 1, '397-6542'], [135, 'no', 'no', 1, '333-4492'], [85, 'no', 'no', 1, '405-9573'], [134, 'no', 'yes', 2, '359-7255'], [148, 'no', 'yes', 1, '419-5501'], [93, 'no', 'no', 1, '404-4809'], [138, 'no', 'no', 0, '344-6334'], [159, 'no', 'no', 0, '400-1899'], [103, 'no', 'yes', 1, '346-5053'], [150, 'no', 'yes', 0, '398-2148'], [37, 'no', 'no', 3, '347-7675'], [33, 'yes', 'no', 0, '411-8956'], [55, 'no', 'no', 1, '390-3761'], [134, 'no', 'yes', 0, '377-3876'], [107, 'no', 'no', 2, '345-2476'], [80, 'no', 'yes', 1, '337-7879'], [78, 'no', 'no', 1, '361-7283'], [85, 'no', 'yes', 4, '372-4868'], [61, 'no', 'yes', 2, '346-8863'], [97, 'no', 'yes', 5, '390-5267'], [136, 'yes', 'no', 2, '392-1547'], [135, 'no', 'no', 3, '340-8177'], [87, 'no', 'yes', 1, '383-4802'], [165, 'no', 'no', 0, '378-8567'], [148, 'no', 'no', 2, '406-7844'], [99, 'no', 'no', 2, '402-9173'], [123, 'no', 'no', 2, '352-3440'], [127, 'yes', 'no', 1, '363-1413'], [151, 'no', 'no', 0, '394-8861'], [185, 'no', 'no', 1, '358-4036'], [65, 'no', 'yes', 4, '392-4680'], [58, 'no', 'no', 4, '354-2762'], [104, 'no', 'no', 2, '371-5811'], [44, 'no', 'no', 0, '387-2014'], [58, 'no', 'no', 4, '411-6598'], [108, 'no', 'no', 0, '355-9356'], [132, 'no', 'no', 1, '406-4720'], [80, 'no', 'no', 2, '356-7239'], [162, 'no', 'no', 2, '328-8747'], [110, 'no', 'no', 2, '388-9464'], [96, 'no', 'no', 1, '406-2866'], [168, 'no', 'no', 2, '333-5729'], [72, 'no', 'no', 4, '391-1499'], [125, 'no', 'yes', 1, '386-8690'], [170, 'no', 'no', 2, '391-2231'], [71, 'no', 'no', 3, '332-2275'], [124, 'no', 'no', 1, '340-4028'], [68, 'no', 'no', 2, '363-3486'], [97, 'no', 'no', 1, '418-3181'], [98, 'yes', 'no', 1, '351-3316'], [24, 'no', 'no', 2, '369-3626'], [136, 'no', 'no', 0, '353-2763'], [44, 'no', 'no', 0, '358-7165'], [96, 'no', 'yes', 0, '353-3223'], [31, 'no', 'no', 1, '338-9044'], [72, 'no', 'no', 0, '341-7296'], [24, 'no', 'no', 1, '398-4431'], [112, 'no', 'yes', 4, '408-5601'], [117, 'yes', 'no', 1, '328-5188'], [137, 'no', 'yes', 0, '329-4474'], [136, 'no', 'no', 0, '357-4573'], [95, 'no', 'no', 0, '341-7112'], [82, 'no', 'yes', 1, '400-3147'], [145, 'no', 'no', 1, '378-1936'], [56, 'yes', 'no', 1, '347-1640'], [155, 'yes', 'no', 2, '374-9531'], [133, 'no', 'no', 0, '380-4374'], [53, 'no', 'no', 2, '380-9409'], [123, 'no', 'no', 5, '387-1116'], [136, 'no', 'no', 7, '400-7509'], [57, 'no', 'no', 3, '403-6225'], [62, 'no', 'no', 1, '382-8274'], [112, 'no', 'no', 1, '354-5764'], [55, 'no', 'yes', 1, '387-6912'], [95, 'no', 'no', 6, '384-3413'], [125, 'no', 'no', 1, '367-3950'], [1, 'no', 'no', 5, '396-4254'], [98, 'no', 'yes', 6, '333-3010'], [105, 'no', 'no', 1, '393-1891'], [113, 'no', 'yes', 0, '336-9053'], [99, 'no', 'no', 3, '353-3372'], [103, 'no', 'no', 1, '386-8943'], [177, 'no', 'no', 1, '376-9716'], [149, 'no', 'yes', 0, '370-8676'], [160, 'no', 'no', 1, '360-2329'], [116, 'no', 'no', 2, '360-1320'], [90, 'no', 'yes', 1, '329-8638'], [148, 'yes', 'no', 0, '385-1118'], [147, 'no', 'yes', 2, '408-8269'], [95, 'no', 'no', 0, '391-2334'], [201, 'no', 'no', 1, '373-8900'], [80, 'no', 'no', 0, '382-3512'], [122, 'yes', 'no', 1, '420-4089'], [132, 'no', 'no', 0, '406-8465'], [83, 'no', 'no', 1, '386-6114'], [99, 'no', 'no', 7, '413-9328'], [84, 'no', 'no', 3, '335-7144'], [46, 'no', 'no', 1, '414-5177'], [87, 'no', 'no', 2, '350-5993'], [150, 'no', 'no', 1, '370-1465'], [73, 'no', 'no', 1, '385-2370'], [7, 'no', 'no', 3, '358-9146'], [89, 'no', 'yes', 2, '357-8515'], [131, 'yes', 'no', 3, '406-8995'], [105, 'no', 'no', 3, '344-3145'], [108, 'yes', 'no', 2, '341-9890'], [47, 'no', 'yes', 1, '365-4387'], [101, 'yes', 'no', 1, '375-3341'], [182, 'no', 'yes', 1, '418-3096'], [161, 'no', 'no', 1, '378-3879'], [128, 'no', 'no', 1, '344-1362'], [69, 'no', 'yes', 2, '419-3937'], [113, 'no', 'yes', 1, '348-4961'], [87, 'no', 'yes', 0, '329-1410'], [71, 'no', 'no', 0, '332-9896'], [76, 'no', 'no', 1, '407-8575'], [87, 'no', 'no', 3, '387-2799'], [117, 'no', 'no', 1, '373-9108'], [177, 'no', 'no', 3, '345-3947'], [95, 'no', 'no', 1, '356-7511'], [76, 'no', 'no', 1, '343-4516'], [66, 'no', 'no', 2, '408-6305'], [110, 'no', 'no', 1, '338-7305'], [204, 'no', 'no', 3, '401-3077'], [32, 'no', 'yes', 0, '401-6977'], [133, 'no', 'yes', 5, '385-1464'], [185, 'no', 'no', 2, '417-5034'], [103, 'no', 'yes', 1, '420-7066'], [91, 'no', 'no', 1, '394-8256'], [131, 'no', 'no', 2, '362-5044'], [153, 'no', 'no', 0, '350-2075'], [132, 'no', 'yes', 2, '343-5372'], [148, 'no', 'no', 1, '377-9520'], [141, 'no', 'no', 5, '391-6773'], [105, 'no', 'no', 2, '403-4442'], [169, 'no', 'no', 3, '379-5885'], [127, 'no', 'yes', 1, '399-1021'], [57, 'no', 'no', 0, '342-4004'], [123, 'no', 'yes', 0, '382-7659'], [103, 'no', 'yes', 4, '342-1004'], [101, 'no', 'no', 1, '398-5851'], [123, 'no', 'yes', 2, '396-4869'], [78, 'no', 'yes', 6, '422-8333'], [101, 'no', 'yes', 4, '367-9127'], [129, 'no', 'no', 1, '420-3028'], [67, 'no', 'yes', 0, '357-6348'], [37, 'no', 'no', 3, '386-1131'], [64, 'yes', 'no', 3, '349-8391'], [173, 'no', 'no', 1, '421-1484'], [135, 'no', 'no', 1, '414-2663'], [75, 'no', 'yes', 1, '327-6989'], [88, 'no', 'no', 4, '405-5513'], [112, 'no', 'no', 3, '345-9168'], [113, 'no', 'no', 0, '417-5146'], [121, 'no', 'yes', 2, '339-2792'], [70, 'no', 'no', 1, '345-8397'], [90, 'no', 'no', 0, '344-6404'], [39, 'no', 'no', 0, '417-9455'], [142, 'no', 'no', 0, '343-1009'], [176, 'no', 'no', 1, '365-3493'], [105, 'no', 'no', 1, '376-7043'], [57, 'no', 'no', 2, '348-5728'], [110, 'no', 'no', 1, '357-5784'], [88, 'no', 'no', 2, '417-9844'], [95, 'no', 'no', 0, '333-7225'], [147, 'no', 'no', 3, '382-4943'], [101, 'no', 'no', 4, '345-4589'], [115, 'no', 'no', 1, '404-6337'], [103, 'no', 'no', 2, '412-1470'], [82, 'no', 'no', 0, '394-9220'], [141, 'no', 'no', 0, '364-5362'], [149, 'no', 'no', 2, '372-9852'], [131, 'no', 'no', 2, '394-9984'], [119, 'no', 'no', 1, '402-1668'], [112, 'no', 'no', 3, '339-5659'], [116, 'no', 'yes', 2, '341-7279'], [94, 'no', 'no', 3, '371-3236'], [90, 'no', 'no', 2, '343-5679'], [114, 'no', 'yes', 0, '347-4626'], [63, 'no', 'yes', 1, '344-8498'], [130, 'no', 'no', 4, '349-3005'], [122, 'no', 'yes', 3, '371-3498'], [166, 'no', 'no', 3, '367-4853'], [62, 'no', 'no', 0, '422-3454'], [78, 'no', 'yes', 2, '403-8915'], [148, 'no', 'yes', 1, '371-2418'], [154, 'no', 'no', 3, '411-2977'], [110, 'no', 'yes', 1, '389-8163'], [75, 'no', 'no', 0, '417-4456'], [84, 'no', 'yes', 2, '351-1894'], [113, 'no', 'no', 1, '386-6408'], [181, 'no', 'yes', 2, '370-9592'], [51, 'no', 'no', 2, '397-9251'], [102, 'no', 'yes', 0, '395-6913'], [107, 'no', 'no', 1, '332-3804'], [88, 'no', 'no', 5, '421-1326'], [82, 'no', 'no', 0, '415-8200'], [204, 'no', 'no', 6, '371-9414'], [130, 'no', 'no', 3, '347-3895'], [174, 'no', 'no', 0, '342-5854'], [129, 'no', 'no', 2, '379-7192'], [190, 'yes', 'no', 3, '394-5753'], [54, 'yes', 'no', 3, '390-6932'], [78, 'no', 'no', 0, '394-3171'], [100, 'no', 'yes', 1, '394-5202'], [70, 'no', 'yes', 3, '348-3777'], [111, 'no', 'no', 1, '407-3949'], [117, 'no', 'no', 1, '363-4779'], [68, 'no', 'no', 0, '340-2239'], [27, 'no', 'no', 2, '359-3423'], [91, 'no', 'no', 1, '382-9297'], [181, 'no', 'yes', 1, '330-9294'], [118, 'no', 'yes', 3, '362-8763'], [112, 'no', 'no', 2, '403-4816'], [93, 'no', 'no', 0, '371-2155'], [102, 'no', 'no', 0, '334-1339'], [93, 'no', 'no', 0, '341-7412'], [107, 'no', 'yes', 1, '375-4770'], [100, 'no', 'yes', 3, '406-7643'], [115, 'no', 'no', 2, '415-8164'], [63, 'no', 'yes', 0, '354-3545'], [57, 'no', 'no', 0, '377-3139'], [119, 'no', 'yes', 1, '418-7478'], [73, 'no', 'no', 1, '385-6952'], [98, 'no', 'yes', 2, '381-8593'], [139, 'yes', 'no', 0, '365-9371'], [31, 'no', 'yes', 1, '401-7335'], [129, 'no', 'yes', 1, '364-5126'], [115, 'no', 'no', 7, '385-7157'], [108, 'no', 'no', 2, '385-4766'], [139, 'no', 'no', 0, '390-1760'], [102, 'no', 'no', 4, '365-8831'], [149, 'no', 'no', 1, '353-4002'], [113, 'no', 'no', 2, '367-5923'], [131, 'no', 'yes', 1, '393-9548'], [83, 'no', 'no', 0, '362-2356'], [96, 'no', 'yes', 2, '365-2341'], [98, 'no', 'no', 1, '388-8797'], [3, 'no', 'no', 3, '400-4713'], [77, 'no', 'yes', 0, '420-3042'], [75, 'no', 'yes', 3, '396-4171'], [40, 'no', 'no', 4, '389-8417'], [108, 'no', 'no', 0, '339-4068'], [100, 'no', 'no', 4, '341-4873'], [16, 'no', 'no', 3, '336-2322'], [115, 'no', 'yes', 2, '402-1607'], [108, 'no', 'yes', 3, '379-3037'], [107, 'no', 'no', 5, '382-1399'], [161, 'no', 'no', 2, '394-5489'], [147, 'no', 'no', 2, '387-6065'], [107, 'no', 'no', 3, '327-6087'], [120, 'no', 'no', 1, '341-8667'], [107, 'no', 'yes', 1, '338-9612'], [58, 'no', 'no', 3, '364-1134'], [91, 'no', 'no', 2, '413-4811'], [13, 'no', 'no', 2, '354-4333'], [104, 'no', 'no', 5, '382-2026'], [93, 'no', 'yes', 1, '368-3287'], [95, 'no', 'no', 2, '367-8298'], [104, 'no', 'no', 3, '391-1783'], [35, 'no', 'no', 5, '393-8762'], [62, 'no', 'no', 3, '385-1423'], [143, 'no', 'no', 1, '406-7670'], [62, 'no', 'no', 4, '339-5423'], [60, 'yes', 'no', 0, '366-8939'], [41, 'no', 'no', 1, '353-2391'], [34, 'no', 'yes', 2, '372-4203'], [56, 'no', 'no', 0, '385-5688'], [183, 'no', 'no', 1, '397-7453'], [94, 'no', 'no', 2, '366-9015'], [73, 'no', 'yes', 2, '356-1654'], [123, 'no', 'no', 2, '337-3932'], [64, 'no', 'no', 3, '350-1126'], [127, 'yes', 'no', 4, '416-3649'], [33, 'no', 'no', 3, '349-1726'], [27, 'no', 'no', 1, '405-1589'], [123, 'no', 'no', 0, '366-7560'], [148, 'no', 'no', 2, '333-9643'], [81, 'no', 'no', 0, '355-6422'], [122, 'no', 'yes', 2, '329-5400'], [52, 'no', 'no', 1, '383-6356'], [91, 'no', 'yes', 1, '377-7276'], [54, 'no', 'no', 2, '337-1586'], [152, 'no', 'no', 1, '336-9273'], [201, 'no', 'no', 1, '415-5476'], [78, 'no', 'no', 4, '332-2650'], [67, 'no', 'no', 0, '418-8257'], [100, 'no', 'no', 1, '407-3121'], [41, 'no', 'no', 3, '381-2413'], [133, 'no', 'no', 3, '378-1144'], [36, 'no', 'yes', 2, '359-5091'], [51, 'no', 'yes', 0, '378-6986'], [122, 'no', 'no', 0, '386-6580'], [84, 'no', 'yes', 1, '419-9713'], [91, 'no', 'no', 0, '382-6153'], [110, 'no', 'no', 1, '332-1690'], [91, 'yes', 'no', 1, '348-9383'], [121, 'no', 'no', 5, '420-3857'], [109, 'no', 'no', 3, '405-2653'], [95, 'no', 'no', 2, '417-9278'], [72, 'no', 'no', 0, '352-5663'], [73, 'no', 'no', 0, '370-8786'], [108, 'no', 'no', 3, '415-6333'], [58, 'no', 'yes', 1, '391-6558'], [148, 'yes', 'no', 1, '396-4234'], [76, 'yes', 'no', 0, '345-6961'], [103, 'no', 'no', 6, '346-5992'], [87, 'no', 'no', 0, '402-3908'], [35, 'no', 'yes', 2, '350-2340'], [88, 'no', 'no', 1, '410-2015'], [67, 'no', 'yes', 0, '380-3311'], [77, 'no', 'yes', 2, '399-7029'], [124, 'no', 'no', 1, '337-3868'], [30, 'no', 'no', 0, '354-8088'], [53, 'no', 'yes', 2, '416-9723'], [152, 'no', 'no', 1, '337-4403'], [100, 'yes', 'no', 1, '416-1536'], [59, 'no', 'yes', 1, '386-3796'], [143, 'no', 'no', 3, '340-4989'], [142, 'no', 'yes', 1, '340-6221'], [105, 'no', 'no', 1, '363-3469'], [111, 'no', 'no', 1, '345-3787'], [143, 'no', 'no', 1, '362-3107'], [93, 'no', 'yes', 0, '345-1994'], [79, 'no', 'no', 2, '377-5417'], [68, 'yes', 'yes', 3, '369-8574'], [93, 'yes', 'no', 1, '344-6847'], [103, 'no', 'no', 2, '391-7528'], [144, 'no', 'yes', 0, '393-6053'], [93, 'no', 'no', 1, '392-6286'], [149, 'yes', 'no', 3, '365-9079'], [23, 'no', 'yes', 1, '399-3089'], [221, 'no', 'yes', 0, '365-2192'], [164, 'no', 'yes', 1, '394-3051'], [104, 'no', 'yes', 2, '357-2429'], [150, 'no', 'yes', 2, '421-6268'], [184, 'no', 'yes', 0, '401-5915'], [88, 'no', 'no', 1, '348-6057'], [61, 'yes', 'yes', 3, '349-3843'], [110, 'no', 'no', 2, '396-5561'], [115, 'no', 'no', 3, '370-9622'], [33, 'no', 'no', 2, '371-9602'], [100, 'no', 'no', 2, '351-2815'], [209, 'no', 'no', 0, '369-8703'], [27, 'no', 'no', 5, '355-2840'], [117, 'no', 'no', 1, '372-1115'], [87, 'no', 'no', 1, '337-2986'], [129, 'no', 'yes', 1, '404-3238'], [142, 'no', 'no', 1, '397-4968'], [112, 'no', 'no', 0, '327-1058'], [75, 'no', 'yes', 1, '419-9509'], [97, 'no', 'yes', 3, '349-7282'], [121, 'no', 'yes', 0, '382-5743'], [142, 'yes', 'no', 1, '358-2694'], [121, 'no', 'no', 3, '378-1884'], [87, 'no', 'yes', 2, '330-1627'], [34, 'no', 'no', 1, '392-5716'], [177, 'yes', 'no', 1, '384-6132'], [58, 'no', 'yes', 0, '359-2740'], [113, 'yes', 'no', 5, '338-6714'], [101, 'no', 'no', 1, '347-9968'], [89, 'no', 'no', 3, '343-3399'], [77, 'yes', 'yes', 0, '334-6129'], [146, 'no', 'no', 4, '377-4975'], [93, 'no', 'no', 0, '405-3533'], [160, 'no', 'no', 0, '337-9326'], [55, 'no', 'no', 0, '338-6556'], [88, 'no', 'no', 2, '354-3040'], [63, 'no', 'no', 0, '396-1278'], [127, 'no', 'yes', 1, '354-6810'], [57, 'no', 'yes', 1, '403-6237'], [138, 'yes', 'no', 2, '411-6823'], [115, 'no', 'no', 3, '338-1400'], [171, 'no', 'no', 2, '412-6245'], [148, 'no', 'no', 2, '377-3417'], [127, 'no', 'no', 1, '343-2597'], [61, 'no', 'no', 1, '388-8282'], [131, 'no', 'no', 1, '416-8394'], [88, 'no', 'no', 1, '343-6643'], [130, 'no', 'no', 2, '330-4364'], [89, 'no', 'yes', 0, '414-1537'], [82, 'no', 'no', 3, '408-1913'], [138, 'no', 'yes', 3, '406-5532'], [115, 'no', 'no', 1, '417-7722'], [84, 'no', 'no', 2, '367-5226'], [117, 'yes', 'no', 1, '344-5766'], [60, 'no', 'no', 2, '405-1370'], [62, 'no', 'no', 2, '368-9073'], [133, 'no', 'no', 2, '373-7974'], [131, 'no', 'no', 3, '371-4633'], [65, 'no', 'no', 1, '336-4960'], [120, 'no', 'yes', 1, '405-5083'], [142, 'no', 'yes', 1, '392-1105'], [134, 'no', 'no', 2, '378-2397'], [87, 'no', 'no', 2, '331-4184'], [139, 'no', 'yes', 2, '376-2408'], [76, 'no', 'no', 4, '345-3614'], [100, 'no', 'no', 1, '370-9296'], [99, 'no', 'yes', 3, '402-5076'], [99, 'no', 'no', 3, '401-7334'], [48, 'no', 'yes', 1, '409-3428'], [57, 'no', 'no', 0, '362-2067'], [106, 'no', 'yes', 0, '352-2270'], [170, 'no', 'yes', 4, '404-5840'], [78, 'no', 'no', 1, '360-3126'], [39, 'no', 'no', 1, '364-8731'], [127, 'no', 'no', 0, '388-4331'], [119, 'yes', 'yes', 1, '335-7324'], [114, 'no', 'no', 1, '362-8886'], [95, 'no', 'no', 0, '410-4882'], [116, 'no', 'no', 1, '371-1139'], [110, 'no', 'no', 1, '391-5516'], [74, 'no', 'no', 1, '380-3186'], [148, 'no', 'yes', 1, '347-9995'], [83, 'no', 'no', 1, '340-9013'], [73, 'no', 'no', 2, '362-8378'], [111, 'no', 'yes', 1, '418-8969'], [84, 'no', 'no', 0, '417-1488'], [75, 'yes', 'no', 1, '358-9898'], [114, 'no', 'yes', 2, '373-7308'], [71, 'yes', 'no', 4, '330-7137'], [58, 'no', 'yes', 2, '406-8445'], [106, 'no', 'yes', 1, '404-5283'], [172, 'no', 'no', 4, '398-3632'], [45, 'no', 'no', 1, '399-5763'], [100, 'yes', 'no', 4, '340-9449'], [94, 'no', 'no', 2, '363-1123'], [128, 'no', 'no', 2, '361-2170'], [181, 'no', 'no', 2, '406-6304'], [127, 'no', 'no', 1, '392-5090'], [89, 'no', 'no', 1, '373-7713'], [149, 'no', 'yes', 0, '392-1376'], [103, 'no', 'yes', 0, '390-6388'], [163, 'yes', 'no', 1, '379-7290'], [52, 'no', 'no', 2, '397-9928'], [89, 'no', 'no', 3, '378-6924'], [122, 'yes', 'no', 4, '411-5677'], [60, 'no', 'no', 3, '400-2738'], [62, 'no', 'no', 4, '409-1856'], [117, 'no', 'no', 5, '362-5899'], [159, 'no', 'no', 1, '377-1164'], [78, 'no', 'no', 2, '368-8555'], [96, 'no', 'no', 1, '347-6812'], [79, 'no', 'no', 2, '348-3830'], [192, 'no', 'yes', 2, '414-4276'], [68, 'no', 'no', 3, '370-3271'], [28, 'no', 'no', 2, '328-8230'], [184, 'yes', 'no', 2, '364-6381'], [74, 'no', 'yes', 0, '400-4344']]\n"
     ]
    }
   ],
   "source": [
    "import pandas as pd\n",
    "\n",
    "df = pd.read_csv('churn.txt')\n",
    "columns = [\"Account Length\",\"Int'l Plan\", 'VMail Plan', 'CustServ Calls', 'Phone']\n",
    "data = df[columns].values.tolist()\n",
    "\n",
    "print(data)"
   ]
  }
 ],
 "metadata": {
  "colab": {
   "collapsed_sections": [],
   "name": "Copy of Lab01 - Frequent itemset mining.ipynb",
   "provenance": [],
   "toc_visible": true
  },
  "kernelspec": {
   "display_name": "Python 3 (ipykernel)",
   "language": "python",
   "name": "python3"
  },
  "language_info": {
   "codemirror_mode": {
    "name": "ipython",
    "version": 3
   },
   "file_extension": ".py",
   "mimetype": "text/x-python",
   "name": "python",
   "nbconvert_exporter": "python",
   "pygments_lexer": "ipython3",
   "version": "3.11.4"
  }
 },
 "nbformat": 4,
 "nbformat_minor": 1
}
